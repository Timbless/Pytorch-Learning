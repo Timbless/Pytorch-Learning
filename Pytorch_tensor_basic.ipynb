{
  "nbformat": 4,
  "nbformat_minor": 0,
  "metadata": {
    "colab": {
      "name": "Pytorch tensor basic.ipynb",
      "provenance": []
    },
    "kernelspec": {
      "name": "python3",
      "display_name": "Python 3"
    },
    "language_info": {
      "name": "python"
    }
  },
  "cells": [
    {
      "cell_type": "markdown",
      "source": [
        "# Part One\n",
        "creating tensor"
      ],
      "metadata": {
        "id": "RX7Q4KNML_aA"
      }
    },
    {
      "cell_type": "code",
      "execution_count": 86,
      "metadata": {
        "id": "xituvnG3I7Dw"
      },
      "outputs": [],
      "source": [
        "import torch\n",
        "import numpy as np"
      ]
    },
    {
      "cell_type": "code",
      "source": [
        "torch.__version__"
      ],
      "metadata": {
        "colab": {
          "base_uri": "https://localhost:8080/",
          "height": 35
        },
        "id": "oV3dx-w6JCvl",
        "outputId": "ee29328f-d216-48d9-a82e-43ae63b6402d"
      },
      "execution_count": 87,
      "outputs": [
        {
          "output_type": "execute_result",
          "data": {
            "application/vnd.google.colaboratory.intrinsic+json": {
              "type": "string"
            },
            "text/plain": [
              "'1.10.0+cu111'"
            ]
          },
          "metadata": {},
          "execution_count": 87
        }
      ]
    },
    {
      "cell_type": "code",
      "source": [
        "arr = np.array([1, 2, 3, 4, 5])"
      ],
      "metadata": {
        "id": "FDN6ygCWJFkP"
      },
      "execution_count": 88,
      "outputs": []
    },
    {
      "cell_type": "code",
      "source": [
        "print(arr)"
      ],
      "metadata": {
        "colab": {
          "base_uri": "https://localhost:8080/"
        },
        "id": "pmvyywkTJLoe",
        "outputId": "2089621f-ecf9-42fc-cebd-f1989a70c109"
      },
      "execution_count": 89,
      "outputs": [
        {
          "output_type": "stream",
          "name": "stdout",
          "text": [
            "[1 2 3 4 5]\n"
          ]
        }
      ]
    },
    {
      "cell_type": "code",
      "source": [
        "arr.dtype"
      ],
      "metadata": {
        "colab": {
          "base_uri": "https://localhost:8080/"
        },
        "id": "1HgEXBcfJMZP",
        "outputId": "05a3c16b-c644-4ffd-8b98-41afb2c1c47c"
      },
      "execution_count": 90,
      "outputs": [
        {
          "output_type": "execute_result",
          "data": {
            "text/plain": [
              "dtype('int64')"
            ]
          },
          "metadata": {},
          "execution_count": 90
        }
      ]
    },
    {
      "cell_type": "code",
      "source": [
        "type(arr)"
      ],
      "metadata": {
        "colab": {
          "base_uri": "https://localhost:8080/"
        },
        "id": "O70eaiVlJNRm",
        "outputId": "0eaf6fee-47d2-45c2-840c-103342d048e6"
      },
      "execution_count": 91,
      "outputs": [
        {
          "output_type": "execute_result",
          "data": {
            "text/plain": [
              "numpy.ndarray"
            ]
          },
          "metadata": {},
          "execution_count": 91
        }
      ]
    },
    {
      "cell_type": "code",
      "source": [
        "torch.from_numpy(arr) # for numpy array"
      ],
      "metadata": {
        "colab": {
          "base_uri": "https://localhost:8080/"
        },
        "id": "orLkvyyFJPd2",
        "outputId": "037a34ea-b8de-45ee-c405-6452f49ba0a8"
      },
      "execution_count": 92,
      "outputs": [
        {
          "output_type": "execute_result",
          "data": {
            "text/plain": [
              "tensor([1, 2, 3, 4, 5])"
            ]
          },
          "metadata": {},
          "execution_count": 92
        }
      ]
    },
    {
      "cell_type": "code",
      "source": [
        "x = torch.from_numpy(arr)"
      ],
      "metadata": {
        "id": "scK2K9TLJTAE"
      },
      "execution_count": 93,
      "outputs": []
    },
    {
      "cell_type": "code",
      "source": [
        "type(x)"
      ],
      "metadata": {
        "colab": {
          "base_uri": "https://localhost:8080/"
        },
        "id": "f3ORahd6JZ7O",
        "outputId": "75100c73-9bb5-4ddd-d12c-a8d92d72c64e"
      },
      "execution_count": 94,
      "outputs": [
        {
          "output_type": "execute_result",
          "data": {
            "text/plain": [
              "torch.Tensor"
            ]
          },
          "metadata": {},
          "execution_count": 94
        }
      ]
    },
    {
      "cell_type": "code",
      "source": [
        "torch.as_tensor(arr) # for all general case, directly linked to array"
      ],
      "metadata": {
        "colab": {
          "base_uri": "https://localhost:8080/"
        },
        "id": "cG_jwFRAJakA",
        "outputId": "b7cebf68-67ef-4230-d0ae-0ca3d66d4d16"
      },
      "execution_count": 95,
      "outputs": [
        {
          "output_type": "execute_result",
          "data": {
            "text/plain": [
              "tensor([1, 2, 3, 4, 5])"
            ]
          },
          "metadata": {},
          "execution_count": 95
        }
      ]
    },
    {
      "cell_type": "code",
      "source": [
        "x.dtype"
      ],
      "metadata": {
        "colab": {
          "base_uri": "https://localhost:8080/"
        },
        "id": "jv4Z-wk9Jc7Q",
        "outputId": "a6533071-c3c0-449e-c39f-25ff86d616ab"
      },
      "execution_count": 96,
      "outputs": [
        {
          "output_type": "execute_result",
          "data": {
            "text/plain": [
              "torch.int64"
            ]
          },
          "metadata": {},
          "execution_count": 96
        }
      ]
    },
    {
      "cell_type": "code",
      "source": [
        "arr2d = np.arange(0.0, 12.0)"
      ],
      "metadata": {
        "id": "jUfoZB_lJpPV"
      },
      "execution_count": 97,
      "outputs": []
    },
    {
      "cell_type": "code",
      "source": [
        "arr2d"
      ],
      "metadata": {
        "colab": {
          "base_uri": "https://localhost:8080/"
        },
        "id": "KELSGM_7JwC4",
        "outputId": "b552a1a0-4718-4337-9473-19d996d8e265"
      },
      "execution_count": 98,
      "outputs": [
        {
          "output_type": "execute_result",
          "data": {
            "text/plain": [
              "array([ 0.,  1.,  2.,  3.,  4.,  5.,  6.,  7.,  8.,  9., 10., 11.])"
            ]
          },
          "metadata": {},
          "execution_count": 98
        }
      ]
    },
    {
      "cell_type": "code",
      "source": [
        "arr2d = arr2d.reshape(4, 3)"
      ],
      "metadata": {
        "id": "sIesjT_QJz7P"
      },
      "execution_count": 99,
      "outputs": []
    },
    {
      "cell_type": "code",
      "source": [
        "x2 = torch.from_numpy(arr2d)"
      ],
      "metadata": {
        "id": "F8HZoHytJ304"
      },
      "execution_count": 100,
      "outputs": []
    },
    {
      "cell_type": "code",
      "source": [
        "x2"
      ],
      "metadata": {
        "colab": {
          "base_uri": "https://localhost:8080/"
        },
        "id": "aCmJ6w0QJ-fF",
        "outputId": "825c8491-d0d0-45da-c187-6e02e17dac47"
      },
      "execution_count": 101,
      "outputs": [
        {
          "output_type": "execute_result",
          "data": {
            "text/plain": [
              "tensor([[ 0.,  1.,  2.],\n",
              "        [ 3.,  4.,  5.],\n",
              "        [ 6.,  7.,  8.],\n",
              "        [ 9., 10., 11.]], dtype=torch.float64)"
            ]
          },
          "metadata": {},
          "execution_count": 101
        }
      ]
    },
    {
      "cell_type": "code",
      "source": [
        "x"
      ],
      "metadata": {
        "colab": {
          "base_uri": "https://localhost:8080/"
        },
        "id": "CPfjrYguJ-44",
        "outputId": "0b4e4d1a-8bac-4465-a4df-d73bd99153b3"
      },
      "execution_count": 102,
      "outputs": [
        {
          "output_type": "execute_result",
          "data": {
            "text/plain": [
              "tensor([1, 2, 3, 4, 5])"
            ]
          },
          "metadata": {},
          "execution_count": 102
        }
      ]
    },
    {
      "cell_type": "code",
      "source": [
        "arr"
      ],
      "metadata": {
        "colab": {
          "base_uri": "https://localhost:8080/"
        },
        "id": "Rw3oBtpZKLWn",
        "outputId": "c1a93d56-d9b7-4183-8613-dc5cf5ded41f"
      },
      "execution_count": 103,
      "outputs": [
        {
          "output_type": "execute_result",
          "data": {
            "text/plain": [
              "array([1, 2, 3, 4, 5])"
            ]
          },
          "metadata": {},
          "execution_count": 103
        }
      ]
    },
    {
      "cell_type": "code",
      "source": [
        "arr[0]"
      ],
      "metadata": {
        "colab": {
          "base_uri": "https://localhost:8080/"
        },
        "id": "qM3WXO1TKL0w",
        "outputId": "8482bf77-7db4-4391-8ece-e6346b7731ec"
      },
      "execution_count": 104,
      "outputs": [
        {
          "output_type": "execute_result",
          "data": {
            "text/plain": [
              "1"
            ]
          },
          "metadata": {},
          "execution_count": 104
        }
      ]
    },
    {
      "cell_type": "code",
      "source": [
        "arr[0] = 99"
      ],
      "metadata": {
        "id": "aCH0bJqFKMuQ"
      },
      "execution_count": 105,
      "outputs": []
    },
    {
      "cell_type": "code",
      "source": [
        "arr"
      ],
      "metadata": {
        "colab": {
          "base_uri": "https://localhost:8080/"
        },
        "id": "6TPEgL5CKOpS",
        "outputId": "26d92993-cf23-45fb-c0d4-a73654f53106"
      },
      "execution_count": 106,
      "outputs": [
        {
          "output_type": "execute_result",
          "data": {
            "text/plain": [
              "array([99,  2,  3,  4,  5])"
            ]
          },
          "metadata": {},
          "execution_count": 106
        }
      ]
    },
    {
      "cell_type": "code",
      "source": [
        "x  # it automatically link our original numpy array, it adjusts automatically"
      ],
      "metadata": {
        "colab": {
          "base_uri": "https://localhost:8080/"
        },
        "id": "uxnv253DKPPY",
        "outputId": "5562bb04-32ea-4829-9d62-40094d6dbd72"
      },
      "execution_count": 107,
      "outputs": [
        {
          "output_type": "execute_result",
          "data": {
            "text/plain": [
              "tensor([99,  2,  3,  4,  5])"
            ]
          },
          "metadata": {},
          "execution_count": 107
        }
      ]
    },
    {
      "cell_type": "code",
      "source": [
        "my_arr = np.arange(0, 10)"
      ],
      "metadata": {
        "id": "j-vCtH8eKRZg"
      },
      "execution_count": 108,
      "outputs": []
    },
    {
      "cell_type": "code",
      "source": [
        "my_arr"
      ],
      "metadata": {
        "colab": {
          "base_uri": "https://localhost:8080/"
        },
        "id": "ha6T0YjpKrFo",
        "outputId": "b716c0bb-e549-472c-ad36-eeb0bf7df212"
      },
      "execution_count": 109,
      "outputs": [
        {
          "output_type": "execute_result",
          "data": {
            "text/plain": [
              "array([0, 1, 2, 3, 4, 5, 6, 7, 8, 9])"
            ]
          },
          "metadata": {},
          "execution_count": 109
        }
      ]
    },
    {
      "cell_type": "code",
      "source": [
        "my_tensor = torch.tensor(my_arr) # this makes a copy, not directly link to our array"
      ],
      "metadata": {
        "id": "RTBfVr4CKrwU"
      },
      "execution_count": 110,
      "outputs": []
    },
    {
      "cell_type": "code",
      "source": [
        "my_other_tensor = torch.from_numpy(my_arr)"
      ],
      "metadata": {
        "id": "y0zHM6PNKvCp"
      },
      "execution_count": 111,
      "outputs": []
    },
    {
      "cell_type": "code",
      "source": [
        "my_tensor"
      ],
      "metadata": {
        "colab": {
          "base_uri": "https://localhost:8080/"
        },
        "id": "_y3xqlXlKyoa",
        "outputId": "b5d7b3cb-7805-4cf4-f69f-c7d1fc2b31d6"
      },
      "execution_count": 112,
      "outputs": [
        {
          "output_type": "execute_result",
          "data": {
            "text/plain": [
              "tensor([0, 1, 2, 3, 4, 5, 6, 7, 8, 9])"
            ]
          },
          "metadata": {},
          "execution_count": 112
        }
      ]
    },
    {
      "cell_type": "code",
      "source": [
        "my_other_tensor"
      ],
      "metadata": {
        "colab": {
          "base_uri": "https://localhost:8080/"
        },
        "id": "oU--8kzbK0JO",
        "outputId": "22a3d267-d546-4b26-c9f8-92e514f27fa3"
      },
      "execution_count": 113,
      "outputs": [
        {
          "output_type": "execute_result",
          "data": {
            "text/plain": [
              "tensor([0, 1, 2, 3, 4, 5, 6, 7, 8, 9])"
            ]
          },
          "metadata": {},
          "execution_count": 113
        }
      ]
    },
    {
      "cell_type": "code",
      "source": [
        "my_arr[0] = 9999"
      ],
      "metadata": {
        "id": "L2UHnkwBK0_T"
      },
      "execution_count": 114,
      "outputs": []
    },
    {
      "cell_type": "code",
      "source": [
        "my_tensor"
      ],
      "metadata": {
        "colab": {
          "base_uri": "https://localhost:8080/"
        },
        "id": "8EeaurANK-Ia",
        "outputId": "eb56ea83-355a-4c7c-8447-60f278207c15"
      },
      "execution_count": 115,
      "outputs": [
        {
          "output_type": "execute_result",
          "data": {
            "text/plain": [
              "tensor([0, 1, 2, 3, 4, 5, 6, 7, 8, 9])"
            ]
          },
          "metadata": {},
          "execution_count": 115
        }
      ]
    },
    {
      "cell_type": "code",
      "source": [
        "my_other_tensor"
      ],
      "metadata": {
        "colab": {
          "base_uri": "https://localhost:8080/"
        },
        "id": "s-lZtW_SK_5U",
        "outputId": "8a3d09f1-1885-47a7-dba8-1f32f699ff3a"
      },
      "execution_count": 116,
      "outputs": [
        {
          "output_type": "execute_result",
          "data": {
            "text/plain": [
              "tensor([9999,    1,    2,    3,    4,    5,    6,    7,    8,    9])"
            ]
          },
          "metadata": {},
          "execution_count": 116
        }
      ]
    },
    {
      "cell_type": "markdown",
      "source": [
        "# Part Two\n",
        "creating tensor from scratch within Pytorch"
      ],
      "metadata": {
        "id": "6RHGg8J7L7if"
      }
    },
    {
      "cell_type": "code",
      "source": [
        "new_arr = np.array([1, 2, 3])"
      ],
      "metadata": {
        "id": "K6qnyyGgLApa"
      },
      "execution_count": 117,
      "outputs": []
    },
    {
      "cell_type": "code",
      "source": [
        "new_arr.dtype"
      ],
      "metadata": {
        "colab": {
          "base_uri": "https://localhost:8080/"
        },
        "id": "L4R1fs3aMbfw",
        "outputId": "271f54d0-3218-4e14-d58d-bf8e6501c7eb"
      },
      "execution_count": 118,
      "outputs": [
        {
          "output_type": "execute_result",
          "data": {
            "text/plain": [
              "dtype('int64')"
            ]
          },
          "metadata": {},
          "execution_count": 118
        }
      ]
    },
    {
      "cell_type": "code",
      "source": [
        "torch.tensor(new_arr)"
      ],
      "metadata": {
        "colab": {
          "base_uri": "https://localhost:8080/"
        },
        "id": "Ibh_Bu8zMUfE",
        "outputId": "646ccfbe-4b6b-4711-a962-c29237306104"
      },
      "execution_count": 119,
      "outputs": [
        {
          "output_type": "execute_result",
          "data": {
            "text/plain": [
              "tensor([1, 2, 3])"
            ]
          },
          "metadata": {},
          "execution_count": 119
        }
      ]
    },
    {
      "cell_type": "code",
      "source": [
        "torch.Tensor(new_arr) # creating a float dtype tensor"
      ],
      "metadata": {
        "colab": {
          "base_uri": "https://localhost:8080/"
        },
        "id": "hCpfsFazMW4G",
        "outputId": "d3b572fe-3f6d-4c86-bbc0-97c667978638"
      },
      "execution_count": 120,
      "outputs": [
        {
          "output_type": "execute_result",
          "data": {
            "text/plain": [
              "tensor([1., 2., 3.])"
            ]
          },
          "metadata": {},
          "execution_count": 120
        }
      ]
    },
    {
      "cell_type": "code",
      "source": [
        "my_tensor = torch.Tensor(new_arr)"
      ],
      "metadata": {
        "id": "3ItGIiL9MY5t"
      },
      "execution_count": 121,
      "outputs": []
    },
    {
      "cell_type": "code",
      "source": [
        "my_tensor.dtype"
      ],
      "metadata": {
        "colab": {
          "base_uri": "https://localhost:8080/"
        },
        "id": "mKynQLEFMrTl",
        "outputId": "0808578b-b668-4600-ab17-f4b0ccfeec0f"
      },
      "execution_count": 122,
      "outputs": [
        {
          "output_type": "execute_result",
          "data": {
            "text/plain": [
              "torch.float32"
            ]
          },
          "metadata": {},
          "execution_count": 122
        }
      ]
    },
    {
      "cell_type": "code",
      "source": [
        "my_tensor = torch.FloatTensor(new_arr)"
      ],
      "metadata": {
        "id": "-WqgBDaLMswh"
      },
      "execution_count": 123,
      "outputs": []
    },
    {
      "cell_type": "code",
      "source": [
        "my_tensor.dtype"
      ],
      "metadata": {
        "colab": {
          "base_uri": "https://localhost:8080/"
        },
        "id": "udc0-OAPMwQC",
        "outputId": "baec8aef-bb0c-4c50-dd6d-b4f3ed8d69c8"
      },
      "execution_count": 124,
      "outputs": [
        {
          "output_type": "execute_result",
          "data": {
            "text/plain": [
              "torch.float32"
            ]
          },
          "metadata": {},
          "execution_count": 124
        }
      ]
    },
    {
      "cell_type": "code",
      "source": [
        "torch.empty(2,2) # computer retain a block of memory allocated to whatever size you request"
      ],
      "metadata": {
        "colab": {
          "base_uri": "https://localhost:8080/"
        },
        "id": "Vvq5PqdTMxxN",
        "outputId": "b49dc6c1-1d95-4e5b-e285-257863e187a7"
      },
      "execution_count": 125,
      "outputs": [
        {
          "output_type": "execute_result",
          "data": {
            "text/plain": [
              "tensor([[1.0784e-35, 3.0932e-41],\n",
              "        [0.0000e+00, 2.0000e+00]])"
            ]
          },
          "metadata": {},
          "execution_count": 125
        }
      ]
    },
    {
      "cell_type": "markdown",
      "source": [
        "torch.empty work as a placeholder"
      ],
      "metadata": {
        "id": "p5-cyJmxNOD9"
      }
    },
    {
      "cell_type": "code",
      "source": [
        "torch.zeros(3,4, dtype = torch.int32) # we can choose the dtype"
      ],
      "metadata": {
        "colab": {
          "base_uri": "https://localhost:8080/"
        },
        "id": "2oRkrsEqM9pr",
        "outputId": "52471bd4-c4fc-448e-f7c6-999d148be67d"
      },
      "execution_count": 126,
      "outputs": [
        {
          "output_type": "execute_result",
          "data": {
            "text/plain": [
              "tensor([[0, 0, 0, 0],\n",
              "        [0, 0, 0, 0],\n",
              "        [0, 0, 0, 0]], dtype=torch.int32)"
            ]
          },
          "metadata": {},
          "execution_count": 126
        }
      ]
    },
    {
      "cell_type": "code",
      "source": [
        "torch.ones(4, 3)"
      ],
      "metadata": {
        "colab": {
          "base_uri": "https://localhost:8080/"
        },
        "id": "FBuNZ8IsNVlq",
        "outputId": "facbe2e7-3c7c-4679-8dd3-f8364ddb033f"
      },
      "execution_count": 127,
      "outputs": [
        {
          "output_type": "execute_result",
          "data": {
            "text/plain": [
              "tensor([[1., 1., 1.],\n",
              "        [1., 1., 1.],\n",
              "        [1., 1., 1.],\n",
              "        [1., 1., 1.]])"
            ]
          },
          "metadata": {},
          "execution_count": 127
        }
      ]
    },
    {
      "cell_type": "code",
      "source": [
        "torch.arange(0, 18, 2)"
      ],
      "metadata": {
        "colab": {
          "base_uri": "https://localhost:8080/"
        },
        "id": "5G-XdfpTNoPZ",
        "outputId": "19da5a79-5c0d-4c1d-933c-f14403e4065b"
      },
      "execution_count": 128,
      "outputs": [
        {
          "output_type": "execute_result",
          "data": {
            "text/plain": [
              "tensor([ 0,  2,  4,  6,  8, 10, 12, 14, 16])"
            ]
          },
          "metadata": {},
          "execution_count": 128
        }
      ]
    },
    {
      "cell_type": "code",
      "source": [
        "torch.arange(0, 18, 2).reshape(3, 3)"
      ],
      "metadata": {
        "colab": {
          "base_uri": "https://localhost:8080/"
        },
        "id": "CmHkzghhNulC",
        "outputId": "2478b591-8c2e-4bb4-ecac-208a16893c7e"
      },
      "execution_count": 129,
      "outputs": [
        {
          "output_type": "execute_result",
          "data": {
            "text/plain": [
              "tensor([[ 0,  2,  4],\n",
              "        [ 6,  8, 10],\n",
              "        [12, 14, 16]])"
            ]
          },
          "metadata": {},
          "execution_count": 129
        }
      ]
    },
    {
      "cell_type": "code",
      "source": [
        "torch.linspace(0,18, 19)"
      ],
      "metadata": {
        "colab": {
          "base_uri": "https://localhost:8080/"
        },
        "id": "hal6YHnTNyhb",
        "outputId": "04770741-7418-40bf-9275-74b3abcbae19"
      },
      "execution_count": 130,
      "outputs": [
        {
          "output_type": "execute_result",
          "data": {
            "text/plain": [
              "tensor([ 0.,  1.,  2.,  3.,  4.,  5.,  6.,  7.,  8.,  9., 10., 11., 12., 13.,\n",
              "        14., 15., 16., 17., 18.])"
            ]
          },
          "metadata": {},
          "execution_count": 130
        }
      ]
    },
    {
      "cell_type": "code",
      "source": [
        "torch.linspace(0,18, 20).reshape(4, 5)"
      ],
      "metadata": {
        "colab": {
          "base_uri": "https://localhost:8080/"
        },
        "id": "IPs2h7HWN2yM",
        "outputId": "194bfa7a-9d7f-4511-b1e0-defc13fd8ea0"
      },
      "execution_count": 131,
      "outputs": [
        {
          "output_type": "execute_result",
          "data": {
            "text/plain": [
              "tensor([[ 0.0000,  0.9474,  1.8947,  2.8421,  3.7895],\n",
              "        [ 4.7368,  5.6842,  6.6316,  7.5789,  8.5263],\n",
              "        [ 9.4737, 10.4211, 11.3684, 12.3158, 13.2632],\n",
              "        [14.2105, 15.1579, 16.1053, 17.0526, 18.0000]])"
            ]
          },
          "metadata": {},
          "execution_count": 131
        }
      ]
    },
    {
      "cell_type": "code",
      "source": [
        "torch.tensor([1, 2, 3]) # convert a list to a tensor"
      ],
      "metadata": {
        "colab": {
          "base_uri": "https://localhost:8080/"
        },
        "id": "WAZJyzxBN66c",
        "outputId": "328520bb-48c3-4980-b20d-1cd7fa7a7b04"
      },
      "execution_count": 132,
      "outputs": [
        {
          "output_type": "execute_result",
          "data": {
            "text/plain": [
              "tensor([1, 2, 3])"
            ]
          },
          "metadata": {},
          "execution_count": 132
        }
      ]
    },
    {
      "cell_type": "code",
      "source": [
        "my_tensor = torch.tensor([1, 2, 3])"
      ],
      "metadata": {
        "id": "4hxcDx_7OGBN"
      },
      "execution_count": 133,
      "outputs": []
    },
    {
      "cell_type": "code",
      "source": [
        "my_tensor.dtype"
      ],
      "metadata": {
        "colab": {
          "base_uri": "https://localhost:8080/"
        },
        "id": "e_LAtHIIORvU",
        "outputId": "8496257b-5e16-4ac8-b8cf-9ce540acf6df"
      },
      "execution_count": 134,
      "outputs": [
        {
          "output_type": "execute_result",
          "data": {
            "text/plain": [
              "torch.int64"
            ]
          },
          "metadata": {},
          "execution_count": 134
        }
      ]
    },
    {
      "cell_type": "code",
      "source": [
        "my_tensor  = my_tensor.type(torch.int32) # change dtype"
      ],
      "metadata": {
        "id": "8P4PTYGhOTXJ"
      },
      "execution_count": 135,
      "outputs": []
    },
    {
      "cell_type": "code",
      "source": [
        "my_tensor.dtype"
      ],
      "metadata": {
        "colab": {
          "base_uri": "https://localhost:8080/"
        },
        "id": "Hg6R1Z1oOXQx",
        "outputId": "9859aecf-82e9-4427-a7bf-22a0e1da5334"
      },
      "execution_count": 136,
      "outputs": [
        {
          "output_type": "execute_result",
          "data": {
            "text/plain": [
              "torch.int32"
            ]
          },
          "metadata": {},
          "execution_count": 136
        }
      ]
    },
    {
      "cell_type": "code",
      "source": [
        "torch.rand(4, 3)#unifor distribution"
      ],
      "metadata": {
        "colab": {
          "base_uri": "https://localhost:8080/"
        },
        "id": "uxkLZzb9Odsm",
        "outputId": "ad53d389-9074-4321-992d-9bb770c3fbbb"
      },
      "execution_count": 137,
      "outputs": [
        {
          "output_type": "execute_result",
          "data": {
            "text/plain": [
              "tensor([[0.2566, 0.7936, 0.9408],\n",
              "        [0.1332, 0.9346, 0.5936],\n",
              "        [0.8694, 0.5677, 0.7411],\n",
              "        [0.4294, 0.8854, 0.5739]])"
            ]
          },
          "metadata": {},
          "execution_count": 137
        }
      ]
    },
    {
      "cell_type": "code",
      "source": [
        "torch.randn(4, 3)# normal distribution u = 0, std = 1"
      ],
      "metadata": {
        "colab": {
          "base_uri": "https://localhost:8080/"
        },
        "id": "lLazaZ2XOrNd",
        "outputId": "c03f4cc2-2532-4836-d5ab-093d45121a80"
      },
      "execution_count": 138,
      "outputs": [
        {
          "output_type": "execute_result",
          "data": {
            "text/plain": [
              "tensor([[ 0.3930,  0.4327, -1.3627],\n",
              "        [ 1.3564,  0.6688, -0.7077],\n",
              "        [-0.3267, -0.2788, -0.4220],\n",
              "        [-1.3323, -0.3639,  0.1513]])"
            ]
          },
          "metadata": {},
          "execution_count": 138
        }
      ]
    },
    {
      "cell_type": "code",
      "source": [
        "torch.randint( low = 0, high = 10, size = (5, 5) ) # high is excluded"
      ],
      "metadata": {
        "colab": {
          "base_uri": "https://localhost:8080/"
        },
        "id": "3dwP5b6zO0zt",
        "outputId": "87f4f681-0606-447f-e93d-2f9a23cad85e"
      },
      "execution_count": 139,
      "outputs": [
        {
          "output_type": "execute_result",
          "data": {
            "text/plain": [
              "tensor([[7, 9, 7, 3, 3],\n",
              "        [4, 3, 7, 0, 9],\n",
              "        [0, 9, 6, 9, 5],\n",
              "        [4, 8, 8, 6, 0],\n",
              "        [0, 0, 0, 1, 3]])"
            ]
          },
          "metadata": {},
          "execution_count": 139
        }
      ]
    },
    {
      "cell_type": "code",
      "source": [
        "x = torch.zeros(2, 5)"
      ],
      "metadata": {
        "id": "hkeYMhHHPKnp"
      },
      "execution_count": 140,
      "outputs": []
    },
    {
      "cell_type": "code",
      "source": [
        "x "
      ],
      "metadata": {
        "colab": {
          "base_uri": "https://localhost:8080/"
        },
        "id": "TTz6meAiPWLr",
        "outputId": "844d796e-09ed-4aeb-b764-20308b2e962a"
      },
      "execution_count": 141,
      "outputs": [
        {
          "output_type": "execute_result",
          "data": {
            "text/plain": [
              "tensor([[0., 0., 0., 0., 0.],\n",
              "        [0., 0., 0., 0., 0.]])"
            ]
          },
          "metadata": {},
          "execution_count": 141
        }
      ]
    },
    {
      "cell_type": "code",
      "source": [
        "x.shape"
      ],
      "metadata": {
        "colab": {
          "base_uri": "https://localhost:8080/"
        },
        "id": "itYhu-NTPYZV",
        "outputId": "5dca16c8-a6c4-4949-9c9f-e6ea521f52a6"
      },
      "execution_count": 142,
      "outputs": [
        {
          "output_type": "execute_result",
          "data": {
            "text/plain": [
              "torch.Size([2, 5])"
            ]
          },
          "metadata": {},
          "execution_count": 142
        }
      ]
    },
    {
      "cell_type": "code",
      "source": [
        "torch.rand_like(x) # grab x shape not value, and pass rand function"
      ],
      "metadata": {
        "colab": {
          "base_uri": "https://localhost:8080/"
        },
        "id": "C1OCNFNCPaKs",
        "outputId": "df3c4174-0a95-4f9b-8cad-31dfa7d8d8d0"
      },
      "execution_count": 143,
      "outputs": [
        {
          "output_type": "execute_result",
          "data": {
            "text/plain": [
              "tensor([[0.2036, 0.2018, 0.2018, 0.9497, 0.6666],\n",
              "        [0.9811, 0.0874, 0.0041, 0.1088, 0.1637]])"
            ]
          },
          "metadata": {},
          "execution_count": 143
        }
      ]
    },
    {
      "cell_type": "code",
      "source": [
        "torch.randint_like(x, low = 0, high = 11)"
      ],
      "metadata": {
        "colab": {
          "base_uri": "https://localhost:8080/"
        },
        "id": "tBNgHES-PdaD",
        "outputId": "e0e38faa-1e08-47fc-f5d2-637ab6368554"
      },
      "execution_count": 144,
      "outputs": [
        {
          "output_type": "execute_result",
          "data": {
            "text/plain": [
              "tensor([[ 4.,  6.,  4.,  5.,  8.],\n",
              "        [ 3., 10., 10.,  1.,  9.]])"
            ]
          },
          "metadata": {},
          "execution_count": 144
        }
      ]
    },
    {
      "cell_type": "code",
      "source": [
        "# set a seed\n",
        "torch.manual_seed(42)\n",
        "torch.rand(2, 3)"
      ],
      "metadata": {
        "colab": {
          "base_uri": "https://localhost:8080/"
        },
        "id": "N2KUXgXuPo-Z",
        "outputId": "11805973-ce1f-4720-c3bb-289607fe3385"
      },
      "execution_count": 145,
      "outputs": [
        {
          "output_type": "execute_result",
          "data": {
            "text/plain": [
              "tensor([[0.8823, 0.9150, 0.3829],\n",
              "        [0.9593, 0.3904, 0.6009]])"
            ]
          },
          "metadata": {},
          "execution_count": 145
        }
      ]
    },
    {
      "cell_type": "code",
      "source": [
        "torch.rand(2, 3)"
      ],
      "metadata": {
        "colab": {
          "base_uri": "https://localhost:8080/"
        },
        "id": "eRPOwpPLP5je",
        "outputId": "f17ca266-90ff-41dc-ec3c-729f8d94aa4d"
      },
      "execution_count": 146,
      "outputs": [
        {
          "output_type": "execute_result",
          "data": {
            "text/plain": [
              "tensor([[0.2566, 0.7936, 0.9408],\n",
              "        [0.1332, 0.9346, 0.5936]])"
            ]
          },
          "metadata": {},
          "execution_count": 146
        }
      ]
    },
    {
      "cell_type": "code",
      "source": [
        "torch.manual_seed(42)\n",
        "torch.rand(2, 3)"
      ],
      "metadata": {
        "colab": {
          "base_uri": "https://localhost:8080/"
        },
        "id": "peCDVLxpQDdq",
        "outputId": "523126f3-3df1-4b6f-f1a6-b3e03bc17820"
      },
      "execution_count": 147,
      "outputs": [
        {
          "output_type": "execute_result",
          "data": {
            "text/plain": [
              "tensor([[0.8823, 0.9150, 0.3829],\n",
              "        [0.9593, 0.3904, 0.6009]])"
            ]
          },
          "metadata": {},
          "execution_count": 147
        }
      ]
    },
    {
      "cell_type": "markdown",
      "source": [
        "# Tensor Operations\n",
        "Part one\n"
      ],
      "metadata": {
        "id": "HGiZM_rEl46R"
      }
    },
    {
      "cell_type": "code",
      "source": [
        "x = torch.arange(6).reshape(3, 2)"
      ],
      "metadata": {
        "id": "y9GHDUN7QF1a"
      },
      "execution_count": 148,
      "outputs": []
    },
    {
      "cell_type": "code",
      "source": [
        "print(x)"
      ],
      "metadata": {
        "colab": {
          "base_uri": "https://localhost:8080/"
        },
        "id": "7TZ1YgMzvAF-",
        "outputId": "8d7e1eec-af62-4a22-c4c5-20e311c77494"
      },
      "execution_count": 149,
      "outputs": [
        {
          "output_type": "stream",
          "name": "stdout",
          "text": [
            "tensor([[0, 1],\n",
            "        [2, 3],\n",
            "        [4, 5]])\n"
          ]
        }
      ]
    },
    {
      "cell_type": "code",
      "source": [
        "x[:, 1] # (1, 3) slice"
      ],
      "metadata": {
        "colab": {
          "base_uri": "https://localhost:8080/"
        },
        "id": "67vPuM5IvCxO",
        "outputId": "91119607-824f-4893-9714-232f2b80048f"
      },
      "execution_count": 152,
      "outputs": [
        {
          "output_type": "execute_result",
          "data": {
            "text/plain": [
              "tensor([1, 3, 5])"
            ]
          },
          "metadata": {},
          "execution_count": 152
        }
      ]
    },
    {
      "cell_type": "code",
      "source": [
        "x[:, 1:] # (3, 1) slice"
      ],
      "metadata": {
        "colab": {
          "base_uri": "https://localhost:8080/"
        },
        "id": "UVmIXyRqvL3-",
        "outputId": "25171102-2368-40b7-84f9-c2cd8255e3bb"
      },
      "execution_count": 153,
      "outputs": [
        {
          "output_type": "execute_result",
          "data": {
            "text/plain": [
              "tensor([[1],\n",
              "        [3],\n",
              "        [5]])"
            ]
          },
          "metadata": {},
          "execution_count": 153
        }
      ]
    },
    {
      "cell_type": "markdown",
      "source": [
        "## Reshape tensors with .view()\n",
        "\n",
        "view() and reshape() do essentially the same thing by returning a reshaped tensor without changing the original tensor in place"
      ],
      "metadata": {
        "id": "NYQhfftpvy-X"
      }
    },
    {
      "cell_type": "code",
      "source": [
        "x = torch.arange(10)"
      ],
      "metadata": {
        "id": "tlblF32tvQmx"
      },
      "execution_count": 154,
      "outputs": []
    },
    {
      "cell_type": "code",
      "source": [
        "print(x)"
      ],
      "metadata": {
        "colab": {
          "base_uri": "https://localhost:8080/"
        },
        "id": "C_-hie4wwCgY",
        "outputId": "3ad2c1ba-a748-46b8-9d6b-bf568da3485c"
      },
      "execution_count": 155,
      "outputs": [
        {
          "output_type": "stream",
          "name": "stdout",
          "text": [
            "tensor([0, 1, 2, 3, 4, 5, 6, 7, 8, 9])\n"
          ]
        }
      ]
    },
    {
      "cell_type": "code",
      "source": [
        "x.view(2, 5)"
      ],
      "metadata": {
        "colab": {
          "base_uri": "https://localhost:8080/"
        },
        "id": "2B198kjBwD0q",
        "outputId": "63ca6cad-e3d5-4e01-f74a-382f5f1a9b07"
      },
      "execution_count": 156,
      "outputs": [
        {
          "output_type": "execute_result",
          "data": {
            "text/plain": [
              "tensor([[0, 1, 2, 3, 4],\n",
              "        [5, 6, 7, 8, 9]])"
            ]
          },
          "metadata": {},
          "execution_count": 156
        }
      ]
    },
    {
      "cell_type": "code",
      "source": [
        "x.view(5, 2)"
      ],
      "metadata": {
        "colab": {
          "base_uri": "https://localhost:8080/"
        },
        "id": "4SdxgYoXwGLD",
        "outputId": "ea2c293e-9080-4479-ad2e-fcff5cd0eaab"
      },
      "execution_count": 157,
      "outputs": [
        {
          "output_type": "execute_result",
          "data": {
            "text/plain": [
              "tensor([[0, 1],\n",
              "        [2, 3],\n",
              "        [4, 5],\n",
              "        [6, 7],\n",
              "        [8, 9]])"
            ]
          },
          "metadata": {},
          "execution_count": 157
        }
      ]
    },
    {
      "cell_type": "code",
      "source": [
        "x"
      ],
      "metadata": {
        "colab": {
          "base_uri": "https://localhost:8080/"
        },
        "id": "3K06dasXwHqD",
        "outputId": "d651cf19-400b-481a-c7a0-55b8bf1e2fc3"
      },
      "execution_count": 158,
      "outputs": [
        {
          "output_type": "execute_result",
          "data": {
            "text/plain": [
              "tensor([0, 1, 2, 3, 4, 5, 6, 7, 8, 9])"
            ]
          },
          "metadata": {},
          "execution_count": 158
        }
      ]
    },
    {
      "cell_type": "markdown",
      "source": [
        "## Views reflect the most current data"
      ],
      "metadata": {
        "id": "oKW_TrsawL_x"
      }
    },
    {
      "cell_type": "code",
      "source": [
        "z = x.view(2, 5)\n",
        "x[0] = 234\n",
        "print(z)"
      ],
      "metadata": {
        "colab": {
          "base_uri": "https://localhost:8080/"
        },
        "id": "xPv5_-JMwJ_i",
        "outputId": "74305510-453a-4ecd-9a2b-8d5d27122be1"
      },
      "execution_count": 159,
      "outputs": [
        {
          "output_type": "stream",
          "name": "stdout",
          "text": [
            "tensor([[234,   1,   2,   3,   4],\n",
            "        [  5,   6,   7,   8,   9]])\n"
          ]
        }
      ]
    },
    {
      "cell_type": "markdown",
      "source": [
        "## Views can infer the correct size\n",
        "by passing in -1 Pytorch will infer the correct value from the given tensor"
      ],
      "metadata": {
        "id": "xiSl0NauwVQj"
      }
    },
    {
      "cell_type": "code",
      "source": [
        "x.view(-1, 2)"
      ],
      "metadata": {
        "colab": {
          "base_uri": "https://localhost:8080/"
        },
        "id": "Nn6NBQ6BwS6O",
        "outputId": "38b1cb21-3b2d-45c0-a76d-ea0871dd152a"
      },
      "execution_count": 160,
      "outputs": [
        {
          "output_type": "execute_result",
          "data": {
            "text/plain": [
              "tensor([[234,   1],\n",
              "        [  2,   3],\n",
              "        [  4,   5],\n",
              "        [  6,   7],\n",
              "        [  8,   9]])"
            ]
          },
          "metadata": {},
          "execution_count": 160
        }
      ]
    },
    {
      "cell_type": "code",
      "source": [
        "x.view(2, -1)"
      ],
      "metadata": {
        "colab": {
          "base_uri": "https://localhost:8080/"
        },
        "id": "7s4sL9dNwhUf",
        "outputId": "9edcb95c-ccde-416e-97a9-aa0f0343c1b3"
      },
      "execution_count": 161,
      "outputs": [
        {
          "output_type": "execute_result",
          "data": {
            "text/plain": [
              "tensor([[234,   1,   2,   3,   4],\n",
              "        [  5,   6,   7,   8,   9]])"
            ]
          },
          "metadata": {},
          "execution_count": 161
        }
      ]
    },
    {
      "cell_type": "markdown",
      "source": [
        "## adopt another tensor's shape with .view_as()"
      ],
      "metadata": {
        "id": "ZFzFUI9Owl_y"
      }
    },
    {
      "cell_type": "code",
      "source": [
        "x"
      ],
      "metadata": {
        "colab": {
          "base_uri": "https://localhost:8080/"
        },
        "id": "M1rL4zekwjEr",
        "outputId": "2f43b6cd-0657-47d9-8693-89bc6e8758cd"
      },
      "execution_count": 162,
      "outputs": [
        {
          "output_type": "execute_result",
          "data": {
            "text/plain": [
              "tensor([234,   1,   2,   3,   4,   5,   6,   7,   8,   9])"
            ]
          },
          "metadata": {},
          "execution_count": 162
        }
      ]
    },
    {
      "cell_type": "code",
      "source": [
        "x.view_as(z)"
      ],
      "metadata": {
        "colab": {
          "base_uri": "https://localhost:8080/"
        },
        "id": "sVzv0GbIwsTz",
        "outputId": "94c653bb-043b-4ed9-ed5a-fa567a3a7a64"
      },
      "execution_count": 163,
      "outputs": [
        {
          "output_type": "execute_result",
          "data": {
            "text/plain": [
              "tensor([[234,   1,   2,   3,   4],\n",
              "        [  5,   6,   7,   8,   9]])"
            ]
          },
          "metadata": {},
          "execution_count": 163
        }
      ]
    },
    {
      "cell_type": "markdown",
      "source": [
        "# Tensor Arithmetic"
      ],
      "metadata": {
        "id": "pZyopXEgwvBI"
      }
    },
    {
      "cell_type": "code",
      "source": [
        "a = torch.tensor([1,2,3], dtype=torch.float)\n",
        "b = torch.tensor([4,5,6], dtype=torch.float)\n",
        "print(a + b)"
      ],
      "metadata": {
        "colab": {
          "base_uri": "https://localhost:8080/"
        },
        "id": "CGoLKf0vwtkG",
        "outputId": "2237d2e3-681d-4854-a406-216cfb91837a"
      },
      "execution_count": 164,
      "outputs": [
        {
          "output_type": "stream",
          "name": "stdout",
          "text": [
            "tensor([5., 7., 9.])\n"
          ]
        }
      ]
    },
    {
      "cell_type": "code",
      "source": [
        "print(torch.add(a,b))"
      ],
      "metadata": {
        "colab": {
          "base_uri": "https://localhost:8080/"
        },
        "id": "8_Lw1FQJwzK9",
        "outputId": "abf8f35a-6e95-4b54-c981-0e7b80b6f0b2"
      },
      "execution_count": 165,
      "outputs": [
        {
          "output_type": "stream",
          "name": "stdout",
          "text": [
            "tensor([5., 7., 9.])\n"
          ]
        }
      ]
    },
    {
      "cell_type": "code",
      "source": [
        "result = torch.empty(3)"
      ],
      "metadata": {
        "id": "SP-gTMJLw2LG"
      },
      "execution_count": 166,
      "outputs": []
    },
    {
      "cell_type": "code",
      "source": [
        "print(result)"
      ],
      "metadata": {
        "colab": {
          "base_uri": "https://localhost:8080/"
        },
        "id": "il-KexyWw6Bh",
        "outputId": "533c7df0-10cc-4421-e4ad-995ea14014a7"
      },
      "execution_count": 167,
      "outputs": [
        {
          "output_type": "stream",
          "name": "stdout",
          "text": [
            "tensor([1.0783e-35, 3.0932e-41, 1.5975e-43])\n"
          ]
        }
      ]
    },
    {
      "cell_type": "code",
      "source": [
        "torch.add(a, b, out = result)\n",
        "print(result) # equivalent to result = torch.add(a, b)"
      ],
      "metadata": {
        "colab": {
          "base_uri": "https://localhost:8080/"
        },
        "id": "C97tBeiMw7jL",
        "outputId": "9994d54e-0df2-4922-f956-ee9670a0081b"
      },
      "execution_count": 169,
      "outputs": [
        {
          "output_type": "stream",
          "name": "stdout",
          "text": [
            "tensor([5., 7., 9.])\n"
          ]
        }
      ]
    },
    {
      "cell_type": "markdown",
      "source": [
        "## changing a tensor in-place"
      ],
      "metadata": {
        "id": "3BHCKcFTxIVi"
      }
    },
    {
      "cell_type": "code",
      "source": [
        "a.add_(b)\n",
        "print(a)"
      ],
      "metadata": {
        "colab": {
          "base_uri": "https://localhost:8080/"
        },
        "id": "ejj96eK7xBxv",
        "outputId": "43113815-a720-4749-eca3-04c49615b34c"
      },
      "execution_count": 170,
      "outputs": [
        {
          "output_type": "stream",
          "name": "stdout",
          "text": [
            "tensor([5., 7., 9.])\n"
          ]
        }
      ]
    },
    {
      "cell_type": "markdown",
      "source": [
        "![image.png](data:image/png;base64,iVBORw0KGgoAAAANSUhEUgAAA24AAAarCAYAAAB9TPrHAAAgAElEQVR4nOzdfVBUZ573/w+/ytZiyFZM5cHml9y1NGMm0ZgI3jtR2M04aUsd2zImzWpWiPGHOHnCcSZCWF10LA1MXAIm62CSmZEwxgHvMTckJiVOtGjXySytyQxo4oiZzNjsJllaYwqs0cBWUnV+f9DA6aYbuqGhD/h+VVFFd5/rXNe5zkOfb18PJ8EwDEMAAAAAAMv6f+JdAAAAAADA4AjcAAAAAMDiCNwAAAAAwOII3AAAAADA4gjcAAAAAMDiCNwAAAAAwOII3AAAAADA4gjcAAAAAMDiCNwAAAAAwOII3AAAAADA4gjcAAAAAMDiCNwAAAAAwOII3AAAAADA4gjcAAAAAMDiCNwAAAAAwOII3AAAAADA4gjcAAAAAMDiCNwAAAAAwOII3AAAAADA4kYWuH1aq6yEBCVE8Jd89zzNW12oqqO+GBU9djzPmsuapdpPxyDTKOpu4F+pPGNQxKtN59kGVf1orbIc05XcV9epylyQpbXP18rzaXe8i2gtPrd2PbZLLQM+8KjUfLwur5X1znoAAIDxZcxa3Hyn3XJXV2iNI1mpq+vlHauMgaFc9KhieapumLZYa57dpfqjraZAwyvPkXrtKspR5v+ya/pjVWrtjGNZraCzVbVFi5WaPE9rf94pwlkAAIDRF5eukt7qLOW8MPB3emDMtdVrTUamCl+P5KcEn1p/vkbTF61VQ9uol8yifKp9bLpynm/gxxcAAIAxFLcxbp71VWqwSMtFxmZDhtH7V6fs2+JdIoyJyx6VrshS1Z+iTHd8lxavKFULTU1hZKjYMJ1T+7Nli3eRAAAAxrnYBm7bmkwBkPmvSx0tNcqfY154l1rOxjT38eW2bNWFqKv2WlfAYiWeUPVZrIw4FXsiafl5gTYdD3zPvqxcB1vb1fWVv66/6lJ760GVL7MHLnh8k/JfptUYAAAAY2OMWtwSNTktW+XbCiJa2ne8VqWr52l6cv8EB6kZ87SmqEruwWY58LlVVbRG8zJSTRN5JGu6oydtw59CN/FFOjlJb7kybzevO0trn69Xy8WINi3GOuU9tEtrl2cq1TQJzJpna+UJV09Bk6KUHpf0tU/un6xVVm+9JU/X4qd2jUpdB5T+bIN2PZWleXcnmyYCWaPSfR75vo60/N1q3Veoxbf3HidrVBrJBDjdbtWVBU7xkrGtSWf2F8h5p02J1/jfvCZRtjudKtjfrKZtgeGyp6xO7oBWt8BJObL2+aTOVtU/u6Z/GyOpW0nyeVRrTpeQqszla7XrkFfhata3LytwApvL/rFovelXl8ptPra/9smzr1RrBkzGskaF1e4B+6Bn/cnKed387iZl9qZ9trc+I5+cZFjHQKh6Vqda3zBvS8/21p8e5DjsbFX988GT0fRca7KeqlDtcaZUAQAAFmKMxCc1hksy1Pu3rWnQxTvq8/qXlcPY/XHwEl1G048dhs28zgF/GUZ+Q/uAdZ/bn2fYB00nQ7IZzh3NRldQ2qZt5mVcRs0nQQt8dc6oybUPvm6bwyg+3BFtDQ7QXusKWG+JJ8yCf2k2ypfYBi1PwVvnBqYL2mfFr9YYeVPD13WJJ7i2RlbXPWU/Y+weqj6nuozKlhCpg8qf/0xB0PGSbpS3DF3PXYcLAvNbtNsIUVtBmo3ytMByFhw2l7HJKDF95tpcMmjdhjtezr2Vb2QMUjf2ZZVG818Gpgs8dvKNgmeCjo+0cqO5d+G/NBkl9w9y/EiG5uQbBz8Jt/4Qf33nf2A9aFmNMeCMHckxEFzPO2sG2RabkV07cM92eUoMh22oY1hGxvcPRnBcAAAAjL6xCdy+6jLOeSoDb2JD3Mx1HQ6+CQ8XlBQbjeb7uY93G85I0vlvmINv7AcP3DqMg08OcYNrTusdUY1GGLidM2pWRlKmDKPk/aAb3+B9NtRfcEAzwrqOvOz+8gcHjkOU376sJqIb7eYd6QHpXLUDfwwIWfM/cwSkS9/RbPo0KGAZ8s854MeLLk/JoEFb759tZd2A82fwwMpuuF7rrZkuozE4qAuXz8bGvuA7doHbCI+BaOs5+HrR1WgURxC09fzZjPy3Rv6DDAAAwEjFtqvkjzJDP3fsryYpNWNt/yQQU/NUVxY8YYFXNS9U9HWpsq3crTMd/nFGnzeqxDw+ztcQMD7Oe7RWDb0v0gp00NvVPx7sqy6dayiWc06eCnbWqLG1QflpkW9S99Fy5b3c32XKtqREjZ/419/VroMbzd3n6lXwM/eoT4/e+XaFCvb21ZQcmw+qvatne7s+OajivrryaNOPaoac/c+2creaP+9J3/HhbmWbd8yhBnlM3etGWte+fYXK2RtUn73r6OpQc22+afyeR5uerJBniArN2HhQ7f4xaef2Z8s++OKSutXRbh6fZtOs2yObPsN+tyPgdUt7x+D7e2qedrd0hDleGrTmx/Wmro8t2vX0pv5n9JnTftWh5p/1nzO+vfmqPDrUkZah4oZ2//45p7qV/pr5U40qnu8/frJ/dkYd/n3Y4S4JGD/pO9Si1t4lV9TJMNpVs8ycR4maevf/5shGXo7GMaA5xTrYe162m88BSb5SeU72v+x+t0Glfdm7VNnSoa6A8bi7lTfHqfzNu1XX0qTyRZMj2i4AAIBRNaKwL9rWG8mYtqLSaA71A3bAuhxGZWvgx+deC98SFdBiNr/SOPNVdJsRvsWtwzj4pPmX+wKjcUAXtSajZI7DyHtmt1HnOWN0hOwbGLmhW9zajZplg7VmGIbRWmk4+tYR1HUweJ+F2KbmsvRRquugroZpxUZTiC5/wfs6r950wAw45vKMus+jKYNhDKjDUN1jw/GUBB7TAfUf3BIUpsUxIO9842BH/7ptpv02sKWpyzj4fVPaJw8a5lNpQItYbp0R6lQLWG5+pXEmuHwPmctXYgS2owfXXfDnIeohoI5icAwMqOeBLZeB3bIDW1SDu5QepEENAACMA2P+OIDWfWvldBWq9mzQT+gBsyw2Kv/OwI8nXaOw7FNNMzEeWavpf5WqzNWF2rWvQS1tI3lAsFctb5hernQq87rgZTJU7GnU7rI8ueZM0+TEYWcWmc5mNZkmh3AtyRg41fqds9TfLtSihvcHaXMLsU3Jt4VvsxpRXZ90q8bU8uFcl6eMAfUp2Zflq9i0UVVHmsJOyKFlDmXeNFimcTQ/T64Brbt2OVfmm173z67a4qkzTeLhlGNO8MGUqFkZpvp/2a3mQSrcNT9TodqKelrO/Ofa4XxNC/h0kjTIuTZio3EMzHfJMTXwrcnJ4Y9hm32W6ZzZpcU3JGv6A2u1qbpenrM+dYedFAUAACB+4vIcN9/RCuXcn6faQR9i3K3OTq9aDtVqV9EauX5UH3ZJ25J8FQREL155qiu0NnuxZtlv0CT/DHNRzxL3aauazUn+ZpJGOy4b0sX2vq5rklT/aGqI7qmZ2mRaxv3JINsd5TaNpK59HzfL3EExc1qYm+vE6Zp+n+n1Gy3hu3vebR/GM8ISNTkg2GuSN9JD4+uuwNcptpDBkSRpzvSQ3TYn35wc8LrZ69PA7pul/bM1mv6Ss83ngVe+Qco9yx5hzXR3qrOtRQ37dqlwtUubXh86yXCNyjEweZImRVOIOdkqWRRQKrW+vUulq7OUOS1Zk/6qJ5AbbAZPAACAsTY2z3H7qksd3ibt/r5pDIyvVjnb6oNujLrlO1qlwtWZSk2YpBtuSNUsZ47WPl8lz2APSb7OoXJPnQruD3ej6pWnepNyMpKVunyXWi6PeEvj56JP7mjTnPWGnY49aiOp66+H2fbpU4zHDU5W8v8yl98nd8tQIwF7tLzfEPA6PfmG8IHvX0VTpk75Bv0hI5T6yAPOYN0+uasLtSYjVQmTbtAN9llanL1WFdWeIcdEjogljgG78mqbVRn8bD5TZq1v79JaZ6qmOQrVEPV+AQAAiL2xaXG7JlGTUzKUt7NCxeb3q5tMXb28ql89XcmONf6bR7sycgtUWXtQTa3tOvOqa+B6zVJcKne3q6O1UTVl+XLNCX1T5n19rfJe8Iz6BCKjJjFR6fEuw3Dr+pphtlfaFPOWzml/lxPw2v1SvYZ8nPZlj+peC1zKMWNamIUltXdE0WIT3Ao4itrqtebuZM1bXaGq415paobynqlUTUOTzrSf0e5lQ69i2KxyDExOV/7+c+r6pFl1rxYo7/5pIVtufUcrtLgo/HPoAAAAxkpcukr288rnf3B15xulyqru/a3fqcrWc2p6tVz5K5zKuNOmGyK8a5t8p0PZz1SqznNORleHzrUcVM02V0CXtZaX3AHdDcO6bZpmme/mPm6P/w2czR4wJsn12rnQrZzmv/3BM3jGRrR1bbt9VkDQ2dQapm2n+4yazd31HkqPYKbI6CTe51TA4+BPFir/X9yDBFqdcv+4QKWm8VmyFct53yAHpqc1ZOtV5+ftAa97ujQGtwIW98/WOMhfwOyJEelU/bas/hleF1XqTGuTdpflK3tRhqbZbhii2+Fk2VKizbOflY4BSUq8LV2u3HLtdp9R+1ddam9tUt3OPDnMu+L1g2qK+4kPAACudmMWuHVfbFX9vxSoNODdabLfJkmdajpSZXo/U7OCJidp/3QYHbgSJ8ue5lT25hpVft/0fsTdruxKf8j0cm+N3J8GL9Op+qema/FTm1T1Rou8naPclmdLl2N+/8v6tz3xDyalyOo6LVNZphvihp1V8oTotup9fZcqTK/zwkyyMbLyOpSzI3D6es9z8zTtgU2qPe7tn6Di6255j1ep0DFN857zBCyfUZQlx2A/KJwsV82R4OPBp4a9u0yv85XuP9YDWwEb5D4+CsdSZ5Pc1abXGbM0LWAykna1fzzYChI16W9GkL+VjoFg1yTKdmeGXN/frcofmY+NbiYsAQAAcTc2z3FLSNCkm6crK+jG17bREabbX6Uqf97a0/rxdada9q1VflH4jmzdnV61vFGlTU8t1nTHJtWfNc1u6L/xrjH/er/MHuGv95PlWFZsaq2qV8Gjm9TwqX/tX3eq5ef5yn+5VQ0vl2qNa5ZS7981dJe7EbFrca6p2+jrBcr5UYO8vTe/3Z3yvJClTMcaFVbXy3N2JLNqDjSyus6Qs8h0Q3yyVK7sUrnbuvvK3rJvrXIeNU3AMadE+aP0HK3071UEPh9Qku/tUuVkpGrSX5mfQbhGFUeDwuM5Jar43lCdVn2qeDRLpUd9PXXU7ZP7uTwVmOrH9n2nMv2bl3hflkr6ZqFs0aaVa1V1sr9+u8/Wa60zU1lPVaj2UEv/Ph+JlypVddrfznixRbXr8lV4cvAkgZp1pk2SutV5MZIjzQLHwGWfWo/2THqUeXeOdpkDdXWr82y9al4zXatss/w/MAEAAMTRiB4mMIznuCnMs5fOveqMKn32/t7nMjUb5XOiyTdjwPOxwj/HzTB6nuVmi3DdNlO5hmfo57hFu80ZRsn7pu0N3mfbBj6FK3wZRl7XhtFsVN4fYX3aHEb5+0HpIyh/VLx1Rt7UKI/dqXlGnTfUyoKfLzbU9mUbNUHr6Xgr3/Qst8H/bCvrAp7hF9mxc87YvSia7c026oIO6XM/c4Re9plGoytUPQx41uAIj4Eh128MeN5e/3Pcojmf/ed07blQFQkAADCm4jPGzeZQ8eEa5ZmevWRfUaLKJeFGYtnk3NGomif733Gf7e06ma6CtxtVHHaWQzO78vbXqHjA87EGM1nOl5p08PsZQyxnk3NHg6qWjcZosmARbrPNoYK3alT8d7Ga1iEWdZ2u/Lfc2p07RJvn1DztPnpQBTErexgpLu1+f7AZBgPZl1Wq+f3dckUyzuuhcu3eGOa4sTlU8kaVsoPWM3lJudyv5g3ZImxfVqmGl1zDGLtoV86PK+UMe6o5VX64Rv1PmnOrNWhWRfv92XKGStvmi3AylngeA5PlLIsgb0mSTY4f16tqxWiMrgMAAIjSiMK+aFrcbNMMx3yXkV9WYzSFa5T6qt1o3JlvuObY+9Pklhh1H3YYhhH0S7+twGj8izlxl9HuqTHKn3QZjt70/l/Mp90/eL6Dt7j1a/fUGCW5DiNjaoh1fxLcKjA8kbWa9OowztSXG/nLHMY0W28au5ExP88oePWgcebzEElG1OLWa/h1HVD61oPG7mfyDMcMW0DZS2qbjPavwiSKdYubeas+aTJqyvIN1/wMwx5imxo/7hhiDaFbgtrd5Uae6Zh2PllpNA5VP+2NPXVjql/bDIfherLcqPG0G6GOtqiOnfZGo/JJV9+xbJvhMPK21RlnOgzDMM4Zu+ebWvb6WtL6dXxYYxQsmdbXOmif4zLydzT6W74iaBHrXc9wjoERtbiFyPv+aQGtnPY5DiPvmd3GwSH3NwAAwNhJMAzDiGUgCFy9PCo1P/x8WY3aR2lGTwAAAFxd4vw4AAAAAADAUAjcAAAAAMDiCNwAAAAAwOII3AAAAADA4picBAAAAAAsjhY3AAAAALA4AjcAAAAAsDgCNwAAAACwOAI3AAAAALA4AjcAAAAAsDgCNwAAAACwOAI3AAAAALA4AjcAAAAAsDgCNwAAAACwOAI3AAAAALA4AjcAAAAAsDgCNwAAAACwOAI3AAAAALA4AjcAAAAAsDgCNwAAAACwOAI3AAAAALA4AjcAAAAAsDgCNwAAAACwOAI3AAAAALA4AjcAAAAAsDgCNwAAAACwOAI3AAAAALA4AjcAAAAAsDgCNwAAAACwOAI3AAAAALA4AjcAAAAAsDgCNwAAAACwOAI3AAAAALA4AjcAAAAAsDgCNwAAAACwOAI3AAAAALA4AjcAAAAAsDgCNwAAAACwOAI3AAAAALA4AjcAAAAAsDgCNwAAAACwOAI3AAAAALC4a+JdAOBqcKFxh3YcudDz4u5HtD1nRrRrkLtihw5/PjD9hcYd2nEyTesLHLpliGXjbTyVFQAAwEoI3IBRd0GnT17of/nhSZ3WDMUiRDlds0G//FDSzTFY2SgbT2UFAACwGgI3YLR9flonPze/cVon/yDNuCualdwiR8F2OWJbMguYqNsFAAAQWwRuwCg7ffiwLkjSzTM0Q6d1+nPp9K/dunBXb3dBv8/d2lHRs+yMlY9Ie3+p05KkGXpk+wJdCOhSKP1yQ+/nkj4/rB0bDvs/C1ir9IdfasPeviV1y/z1Wj/vlhB5blfaSX+rmCTdvKCnS6NpmQHpw+TRl7anBgYta9iukkH5yl/GR6IKeAEAACYGJicBRtVpnfQHQrekLdAj3/UHJp+f1OnPB0m11xTo3J02/G6VHwYFVJIuHNmhX/4hVJ6moE3qCbAqdgwInoLTX2jcMSCPnuDMtA3R+sMvtSEo394y7mgMfhcAAGDio8UNGE1/OOkPXm5R2j23SDen9bS66YJOfnBBjuCWqz4z9Mj2R0wBW3CwMkOPbN9uGje2IGDCj4Al+1qp+lu+Tp88Ld0VHA725mmaMOTzC7rQ2xJmagG74Lsg3XWL9Llbv/RPutLfEtebz2kdbrygGfMiL2uP0/plbyDYt2x/mS4cOazT8x6JyRhBAACA8YIWN2AUnT7ZG4CkacbNkjRDaXf3vHXhyOGwLVK3zF8Qm8Dk5gVa0Ne1sD9v+S4MCJn687xFM9J6A8pbtGCBvyQ3z1Caf2KRC76e1Bc+OOlfzwwt6AtCZ2jBfH9YdvJ0yNBsUKZgd8GjvQGev0w3L9D67QRtAADg6kOLGzBaPnfrcG/Xw95xXQHCT1Jyiy1cS1yUbLco0jWFzvMW3TLILJC9AVxPK9uGgQt8/t+6IEVchkHLN2+9ts+LwYoAAADGIVrcgFHS3xoV3ulfu6NvkQIAAMBVhxY3YFQEPbstnM9P6vTnDjnG6bPNbrHdIn14QQPH5MXCBf33BfU/9+0Pv9SGvRe0oGD9uK0vAACA4SJwA0aD6dltIafP75voY6hJSqztlnvSdMuRw7rQNxHJLZJ5cpPgKf4jcVfvBC6Bj03oHS94uGKHRPAGAACuMgRuwCjoe3Zb72ySwW6eobSbD494lsS+Fq/BnuM2mm52aMHdh/XLD3seE7DhSEDp+ic2iaqsM/TIyhk9jxgINTbw7gUEbQAA4KrDGDcg5vqf3dY/m2Qw88yNPZOUDMct84JmnwwxW+Rom5GzXdtXhnq0QGCrWFRlvesRbS9YMGBSk1vmr4++BQ8AAGACSDAMw4h3IQAAAAAA4dHiBgAAAAAWR+AGAAAAABZH4AYAAAAAFkfgBgAAAAAWR+AGAAAAABZH4AYAAAAAFkfgBgAAAAAWR+AGAAAAABZH4AYAAAAAFkfgBgAAAAAWR+AGAAAAABZH4AYAAAAAFkfgBgAAAAAWR+AGAAAAABZH4AYAAAAAFkfgBgAAAAAWR+AGAAAAABZH4AYAAAAAFkfgBgAAAAAWR+AGAAAAABZ3TbwLAExEX375ZbyLAAAA4uzaa6+NdxEwgdDiBgAAAAAWR+AGAAAAABZH4AYAAAAAFkfgBgAAAAAWR+AGAAAAABZH4AYAAAAAFkfgBgAAAAAWR+AGAAAAABZH4AYAAAAAFkfgBgAAAAAWR+AGAAAAABZH4AZYwgmVJSUpKegve//5EMue1/6VA5ft/8vW/s+iWd7/t/1E5Muv3K9QJevLcX92iPWafLZf2UOVJylJSUllOvFeWd/rsvdCZGb6PHwdhMg3xDb0l7tMIUo9MpFsc29dmZYNtc0hyznSbQtVj6H289W474BoDHWOjOCaOOA8CnkODXEOxPBcH/AdFeqcH2o9wXlzjQHCInAD4qzny8ChrSE+O5CbGv5LJqwDyv1mmC+xWKnPVWrYL6/zOvb2gf6Xzx4bpS85f4B5f8iaU+43hwgw63O1ZzTrKJ6i2rZB6rE+V6lRH38jzPNq33eY+J51xOTm/8T2cOfQVjlCnrexP9cP5KaGDkSjMej3yXBxjcHEROAGxNN7ZUrNPTDEQgeU+83ov9S2/mTwVrGR26p/C9Ui+NkxvVkfuNyxUfgCPLE9Vbn1QyxUn6vUQW4qtt4/cX85jXTbhq7H4R1/I8tTV/W+w9VgqxxD9FwY1Gf79W/PDrbAAeVuCFz/qJ3rz/5bDH7cCfN9MkxcYzBREbgBcXNe+39i+jVws1tXrlwx/bm1pe/DMF9qA9JckXuz/7P6NrVFsHzf34bZEa3fXK4D5wbkoBN7c3VAklxbtMXlL31wEHnrctWa13m0d41LVf1Hc15FClGqATctW44GlfFof80NflMR25uFSA0o72D7YNgi2LaAegyu+8Djry/4vsr3HRCNgee66byqf1PHQhzfYa8PV66o6F7/Qp+16UCY5fu/A0zrH865PlSZ+s7VA2qLMHAbrD76vk+4xgBhEbgB8WJumdrsDnHTPltF5i+1t4+NcgtaLJzQMf8X5tIlq1T0fX/pw9ygDNf5/3gz4Kal72am171FATcVb/5H+Jo7kPv0KHQFtIahtq2/Hpeq+o+1Wn6r+dPZKvpjtZYqTB0PE/sOV7f+82qo4ztSwT+Mzd7QG6T0n9PxONfjhWsMJjICNyBe+n4xXarqleFaWmZrVXXPV3zIFrRnHQMGXjt6f2l0pSglguUHHawdcvn+8XhbHEHlfu+Y/7OlevDvp0j3zvUHnrG5QenVds7/teyq1qpwNxn3rlK1v8UvVMvglqPuvrLl7h3bDjFb749ggP4IRLpt/fX4oObeGmIB/y/fsbyRG+/7DhixW+fqwUGO75DXh+BrhOkc6RkjNvi1fKTnesgy9Y0f26K5EV4jBq6n//tkaeqAb6xh4RqDiYzADZiQlqp6+3JNGc0sNrsHfMmfcPu/gvtuDmZrrr/bzoHcPRYbL2AKip91jO5kLmNuIm+bNPG3DxjKFC3fa+7i2Ms/8Ua4WRZHwZajYbosRsNVrReWj+o3VpS4xsCaCNyACWeL3FeCu8LEztLqc6HHY5nHFZh+Ae5rARylSUpGYsryF/p+dd16f5mOxbc4MTWRt02a+NsHDG22iq5c0ZUr5/pb30y23j8aM8L26h9vNuIW+c1uXdk7yj80DgPXGFgRgRsQL7em9I1zCN8V44T29M46GarrY8jJQwb59TPs5CRhAr2+5ftvDA7kpoZ8vpx5XEE4sZrpMiW1t/voIFM2v7enb1ax8F1wpmh57zg8bVXukDN8xkbIgf5hblxOtg23xobetv56DDMG0f9co1j+2jze9x0wYqbxzaGO77CTk4QNbqZo+d7Qk4b0dlEf6bneVybT+Lzcb0YfGIbctphOysQ1BhMbgRsQL6ZxDnrWEWKM0wmVmfv/L5kbx18kp2j53sDgLfALPujZbeHEaJKSKX//oP/moWfMRMiHwPaNv/CPtwvn3qL+Wdis4ta/VZr/3wGD4z/br6cjvYEYYtv66zHUTdgJlX2zZ4bQkHU8TBN+3wGDOq/9G3L7fuRKSxnOVd3/jLJwD4Pu+1Gwf/xWzM71W5erNiB4s96U+VxjMJERuAFxY/41T0EDzAMHbUtb9INY9P8POzlJmBuA4PKaxlQEPOPG/Atyb1dK81+MZ1HTrcv1A9OXac+DykMNmpe0+QdDdhudvbK674veGlKU0tf1qX/MSlJSkpK+2X/Tp81zhxxbMui2BdRjUD6jcfwNyHMi7jug38DJOEzPFwszeUbYyUmSkvwPu56iuUv6QhM5gpcxXSP6JpCK5bl+63LVHu1viXKM9AHcscY1BhMYgRsQT/cW6Vz1UF8JS1X9xxgM/o6J2SoK8YXd9+y2cL9emmdRi9EkJbM3hB7XEcBVrXORdMO5dbleGHI/jKUpWr59qJuFwWYjNRli2yKpx5hMPhBlnuN33wGRGNkEUubxV2EFBYYxPdfNLVEWnLyDawwmKgI3IM6mLK8NO7i8p/Vq9CYaGZYBX9j9z24LO9V00C/EsZmkxD+u44+hAhz/wPkoBrxPWf6DEDO0xdGty1Ub5riQq1rnojguBt82fz0eDbGEq1rnYvw4gIA8J+q+Awaz2R2D6yZm5C4AACAASURBVPog5638Y8kGnEOxPddnbwjTA8MSuMZgYkowDMOIdyGAiebLL7+MdxEAAECcXXvttfEuAiYQWtwAAAAAwOII3AAAAADA4gjcAAAAAMDiCNwAAAAAwOII3AAAAADA4gjcAAAAAMDiCNwAAAAAwOII3AAAAADA4gjcAAAAAMDiCNwAAAAAwOII3AAAAADA4gjcAAAAAMDiCNwAAAAAwOISDMMw4l0IAAAAAEB4tLgBAAAAgMURuAEAAACAxRG4AQAAAIDFEbgBAAAAgMURuAEAAACAxRG4AQAAAIDFEbgBAAAAgMURuAEAAACAxRG4AQAAAIDFEbgBAAAAgMURuAEAAACAxRG4Abg6HS9VQkKCSo/HuyATyPFSJSRkqfbT4S7XLc+zmVr8c69puQj20cUGrb29UO7Lwys2xplIjzOL8x2tUOkbvtiveLxd24Z73QixnQPqdLzVBTAEAjcAgCV0/65CBfWLtWmlPbqENzlVUNSqnG1udY9O0YAY86jKUahmDtgYok4x8V0T7wIAACB5VfOjTUoualdGYvSp7SsKlHN7oXZlN6sgLfalA8aNOcUyjOJ4l2L0RbKdV0td4KpBixuAOOtW6xulWuOYruSEBCUkJCg1I0uF+1qjaj3x7ctSQkKpPNFm39Gq2qLFSk1IUMLtmVrzvFu+r6NdicVc9GjXU1nKvL2nPhOSp2ve6gp5LsYw7eWeepue3LNMzk9aQu+vCJfrPlqlTYfylbfINvDDSPbRdQ5lPdWuwp316oxgM2FVnWrdV6jFdycrISFByXcv1tqfeCLYpxGk6+1qd9Z0PCVPV87zPct1/m6X1mSk9lyDnIWqPRt8pEafx/TkBCUkpCrTfA59WqushExtklSfnRy+m+DJCs1KSA7q5teiivQEJSSXqmXAsvNU9SeF7B7Y+duK/mus/5x2D+ilOdy6V3yuG+btDFenobpKfu2T+ydrR74fgTggcAMQV96fZ2m6q0od929SlbtRjfW75bq5SRXZDhW+Pfq34JWrHdrU5lC5u1F166brTNE8pa+u1yiMPBkbl90qvDtTJWdvUE5ZoxrdB1WzPlNd1YXKXFIReLM37LQtqpg/XTl7u+X88UE1vrpJ09/NUd5LzUErjHS5bjUdKpXvSacyJw8sVqT7KGP+Wtmqq1T3p8irC1biU/3qWZq+vkXJj+1So7tRux5LVuuPMzXt0Vp5Y5LOq8rcxarqdKrcfVA1uXa5izKVt26tnCvcmla0W431lXJ0VCjn/hK5u0eWR0lto+p2OjTpUKEyH63qWe4mhza5K5UnybG5To3uTXLcFGKz0jKVZfOpzmM6az9tVdNJST63mk3HecvRGrWkOTVr6sDVdB8vleO+crWnFWiXu1GNL+XL3lqoeembhrl9QeJ23TCJtE7lVe3qdM1b1+zfzoOqWJ6ohnXD2I9APBgAEDfNRuX8aUbGtiajy/x2V6NRbJOhbU0Rr6m91mVIJUbEKTwlhiTD9kxjQN5dhwsMm2xGiSfirC2l460CI2Oqy6j5JPD9c686DWng+8NJ21GfZ0gZRonHXHPnjJplGtZyRlejUSAZrtfOBWYc7T7qOGjkS0b2/vbwGwnL6nIXGzY5jcrWoA8+3m04ZTOK3f6jwFMScPxEl05G+mbz9eacsXu+/3j0mspyuMCQbEbJ+7HIo/f6ZD63mowSyXDVDnasdhmNz8jQshqjd6mOt/INpWUYGTYZ+W91BGxDellzQBl6z4+mbTL0UI0RcHa1VhqOqRlGuSfK7QshbteNoO0MWadBy/SsO90ofjdwezoaeq4p0e9HYGzR4gYgjtKVf/iMmjZnKGBYU+J0Tb9P0l+6Buku6VGpv2tlQkKCkrPrJW1Spum9rH1DtZulqzDbEZB34vws5cmnyqODtk1Z1uQl5Wr6uE7ZtwW+b5+WKalTXYP0P40sbbeaPVXS/DxlzzHXnF2u7xWYXke6nKRPvWqRNOv2UJOSRLGPJifLnibVnuX38PGo5WipfHdOU2K7W+6jpr9PupUsn0p/G/qcjDadc4H5ejNJkyZLeihLGSn9yyTePksu+aSvY5GHZLPPklQvb1QzYSZq1n350utNavZ3Pmg9WSctKVThQ1LdydaeNz/1qOGITVn3pYdci+02p/RGpSqqPfL2zrx6Z74aP25SwZzhbZ9Z3K4bUetU05EqaX6+8v4hcCDt5EU5KkzzqfRQU8B3Tmz2IxA7TE4CwAK61enzqrXVK+/pJjUdqVfd25KW+dQpKcSoJ0k2pZeVq9z/quPDGpXuTVZ+mUO9t/+T7UPNcmFX8oDuNHZNXyb5PmlXp9IVoufe+HC5U94/Ncvr9arF41HdG1WSJN9FSSG6U0WetlO+NklpdiUHJUu8OVnpfZ2IIl1O0kWf3EqXM+TuimYfJSv5dkkfeuVTRpjjBtbkk/espLMVWuOoCL3Ix+3yKfh6EH26SaHufK6RJgW9jnkewzA5PVMu5cj9frmc89t15l2f8r/vUHqnS769Z+RVhm5oaVK9cpQfZlIe+7ISVR7K0trVmdq1WrLPccmZnaO8ZS6l24a3fSGN9XUjat3qvBh63X3XjrbA75xY7UcgVmhxAxBX3rcLNS95km5Inq7Mx0pU9bZPifPzlDN/qJR2OZ8pUIH/b+0iu6RM5Zjey5szgrDrukQNY3LD+Lvcol3LU5XwNzcoNT1Ha39Sq6bLNuU9mje6aSXpusm6YdjLhQrQhlrPON1HCG9ZjdoNQ0aov9dc4QOH4aYbi7KNxG0Zcs6Xao63SL4WuY+4lHn3ZNnvzlT6EbdafN1qfneX9KRDs8KdDNelK3//OXV90qy6VwvkmNSqunVZmpWcqdLjpval4W5fXK8bwNWFwA1A/FysV+kDFepYeVDtXYaMj5vUeHi3yr/v0rQxKYBX7QNmCPPqzOtSevIN4zIoaHk5T2tfT1dlS4cMo11n3I2qe6lEOREEsZGlnSxbiqSTXrUHpe/2tsod9XK9Qu2LcO+P732EUPzHy+vNOhPVc7iGm85qeYRj16xF6fK9e0YtHzapNi1T01Ik3Zkuh2rV3Noiz14pf1HmkL0DEm9Llyu3XLvdZ9T+eaOK0zza9JpbnSPcvvheN6KRqMk3hV631K72jyXdaaelHpZG4AYgfv7UqipJzgecspnvwM82qP7IWBSgRTX1noAxDd59lapSunLuDz1exNp8an2/RXooS840801Tp9xHamKUNlGz7s+X7cguVf02oOZUv3c4y0m6ySaHWtRxWSFEs4/8N193c/M1/iQqc1GxbKrQrteDusO11SorIVWLq1tjmG4syhYb6RlZsh1xa9e+Gml+es+PWonTlblSani+RHU+lzLTw4VtXtU+lqnU1UGPybgpWck3974YyfbF8boRtcnKnJ8nDVi31HmoRuUnbcrPGJufDIHhovcugPiZmq58m1Sam6UbyvKVPrlbvt/WqOQlj7qHGocVxLaiTsaKaAuQrsQjOVrsK1D+Cru6f1ulTT+ql31bU9jxItZm07SMDGl9gdas71LBErsSO1tV//MK1X08acDYoNrlycp5vURNRrEyokg7eVGBKlbWKWfZYvn+JV/ZM6SWlwtV+HrgZDCRLqep05UhydPqlf4heIKSKPZRZ7u8J6X8bdx8jUeJ9+epYmWVch7N1LyWEhUssau7rUE1P65Q/ZwSNS0LvV+Hm24syjbIGpWYJtXvrVK9zanMjPTAH6/M0jKUo02qqJay90/3tzLbZE9PV8v6BmnRbmXcFiat7HLMt6treb6yrvEq76F02eRTy+uVKjySoZIfO3pa6oa9fXG8bkRSp0FLTH6oWDUrM5Vzn0O+nYXKnpEon/+aopU1Klg0bkc142oxtpNYAkCgrtYao2DJNMMmGbJNMxy55cbBjzuM5h3phmzFRmP4WahHpndK8dZmozI3w7BLhqY6jfxXm42OoVNbWIfRVJZnZEyVIcmwz3EZBa82Ge3tPVPlO1/tnRS83T+9tvkRCpGmNQzjq3ajsW9Zu5GRW2407S8eOFV2RMv5pz3PrQus+yj3Uc8U7kzVPb51GE078w3nDJshydDUDMP1TI1xxrzDgx4HEF06BT1Gwn8emKbcNwzDMD6pMVwDlh1uHqHfP/dWgeGcqoDHDoSrk4NPypAcxu6PTW+/W2xIMhw/C/0YjYC8GkqMvPv911nZjGlLCoyaD4PPogi2L0z54nLdiKROQ+2Pr9qNRtN22mY4jYLga0oU+xEYSwmGYRhjHi0CAGDSfbxUmRlebfp8t1zRTlLSswa5/8Wueb5d6njVNX5nAwUAIAzGuAEA4i5xTrbyF1Wp6u1hTvd9sUG1zyWrfB1BGwBgYiJwAwBYgF0520rUsbNWnmHMbOd9o0oHnyxR3rgcmwgAwNAI3AAAlpD4dwWqcB1Uyd4oW90uNqiizK6qbU5a2wAAExZj3AAAAADA4mhxAwAAAACLI3ADAAAAAIsjcAMAAAAAiyNwAwAAAACLI3ADAAAAAIsjcAMAAAAAiyNwAwAAAACLI3ADAAAAAIsjcAMAAAAAi7sm3gUAJqIvv/wy3kUAAABxdu2118a7CJhAaHEDAAAAAIsjcAMAAAAAiyNwAwAAAACLI3ADAAAAAIsjcAMAAAAAiyNwAwAAAACLI3ADAAAAAIsjcAMAAAAAiyNwAwAAAACLI3ADAAAAAIsjcAMAAAAAiyNwA3B1eq9MSUlJKnsv3gWZwKKu426d2O6Qq7otuvRfvKP192zUscsjKCuAwUVxPp//zU6VvXV+9Ms0VL5c5zHBELgBACyhu3mnNh74rv55RUp0CW9cqHVPf6Tc546pe3SKBiBiJ7Rn0UadHPOTMV75AmOHwA0AYAFt+tWzW2V7epVmJ0afOmXZD/Twvo362QexLxmAcereIl25ckVF98a7IEBsELgBsJ4vTuinP8yW454kJSUlKSl1lpxP7NSJL0Yhr86PtL/YpbuSkpR0j0NPvXhM578ehXzG2gjq8FLTTj21aJZSTemOmXs9vVempKRs7f8sKGG49yOo4+7f7NHWw49r1cIpAwsUyT66bq4efMynjS8d0KWhNxG4aozp+fzZfmUnObRV0oHc1P70vetqOqCnvpWqpNRZyt77UU+aiK9Vl3Ti5fVyfStVSUlJSv2WS+tfPtFzvg+ab1BXya/P61i49QRv+x97tnVWapKSku6SY7S+h4AIEbgBsJbLx7TxWw7960eT9XBJgxoO1at63Rx1790oxz/u1KkYZ/fKE4u09b++ox8falDtk3fqbLFTGU8c0NiPzoihEdRh93tlWjT/Rflm/kAvHGpQw4uPK+WjjXJmbNWxYXZBGrqOu3XinTKd/95Czbl+OOl7zHY8oSl79+jNPw+vnMBEM+bn841z9c+HdmiVpLkbatVw6J8198belMe14ZF/U+K6l9Xw4g+0avYdUVyr2rR/Tboche8oMWu76g/Va3tWot4pdOih8lPqHjRfszbtfyJDzsKTsq1+QQ2m9aSv2a+2oGVfedylX1xaqC2/aFBt+VwlHt4ox5o9QcsBY+eaeBcAAMwu/ebXOnHdUm3f/ZKW3+p/89sLde+NPt31xHF99Nk6zbx10FVEZ0W1fl86V4mS9O25WnjH9Zq+5GnteWzpuO1eM5I6POXeqlMPVKt2+3L1jDSbq7l3Sm3/+Cud+kCaO5w6GaqOu0/o1y9KS3ffoRBxW+T76I6ZelBb9e+nzmvVN0K03AFXmbE/n6do5rfTlCKp8445mvtt83l4XnduPKQdK+/oe+dSQ2TXqu7f7NGGfdK6t3+v5xyJ/ctNcWnxa2/qxBNbNDdsvv0uvVWm3H02FR1p0JbM/vUsnLVR6Q9t0J5HH9CWb/f21T6lbodbDZtn923rnBs7lZr7jt77bJVSYvk9BESIFjcAlnK98zm5P6jt/xL3S7ljjqROdcV04PlM/fBh/w2IX6LjQa3Seb3ym1i37Y2dkdThlFsXSm+9op17T6itd5bGbz6uhg/cWjesQDaCOv6sTackpX0j1KQkUeyj621KuUfa/0d+DwekOJ3Pg/jOzDsCXkd6rfrovT06P+UJPegIHACbkluvPxzdornXRVL2Szru3iM5HteqzMD1XL/gn/TDe86r7J0TARMcLZw3O2Bbp6SkSTqgtuDuo8AYocUNgDVdvqS2cyf1n21tOnXihN58e48k6fwXkr4Rq0xSZBvQnSZF01zS+U99uqSZoVuAxoth1GHKQ1u043C21j/h0E+fkFLuXaqFyx/WKtdSzRxWI1YEdfzFeR3TTH035KQk0ewjm2xTJf3hP3Ves0WbG652cTmfh7PaQa9V59V29rz09ymKcr7ZIN269IWke1JkG/CZ/9rxX+d1SeoL1iZxlwyLocUNgLVcPqWfrrxLSVP+X92VkaunX/6Vjl+ZolXZq4ZIeEJlSf7B7X1/ZTox3HIkJeqvh5s23oZdh5Kum6nH9/5BX/yxSbWvrNPcxLN6szBbmakOlb0X43m2A+o41A1hNOkBDBC38zlCEV6r/ud/YlZKYFwjcANgKad2P6n19TO1w/PfunLlnJoPNaj2xS16+N7RaPtqk2/ADGFtaq2XZtomaxiz0ltCLOow8daZWrryOb10qFnn/qtBRfec0NbaY6aZ1wbW3flPW0OsKdI6DrVcNOkBhDP253NkIrtWTdEdM6dI/9E2cFKQ5jLd9a1s7fljJLkl6vobJX3QJt+Az3zy/UnSN/+WlnpYGoEbAAs5r49+f0p64EEtvMf8xX1Jxxp/NUTa2Sq6ckVXAv6KNHvQNKf0fw4Ejmlo2/+K9mim/mnuzOFuRJyNpA7btH+tQ3c9ETSl/o022W4yvU5M1Eyd0tm2SwFpj72xP8Q6I6jjG6dork6p43KI5FHtI//N113cfAFxO58jFvm16o57V2nK+Vf0ptucc7dOHHxTbV+k6c5vRpLf9ZrjWCW5f6o9TYGtjZcO/x+9+MEUPT77zii3ARhb9N4FYCFTdMe9s6UNG/TUhi79wJmixM6zOlC9U2/+edIo3IzPVKJ7tVzn1+nx5Sn6n6Y92vrsAaVsduuxe2Ke2RiJpg7Pa//KVOXWb5H7SpFmK0VzHX+rrpVPa8U1/6n/74GZmqLzOlX/ija6Z2vL1rk941fumat/ulfa+MNcTel+XN+ZfEkn9m7Vr/96ueYquE9TBHX8jTs1W9KJj9qkzOBRLFHso0s+tX0gPb6Zmy9A8TqflajEe6QD+/bogG2h5tw7M8y1O/JrVeK3V2n7ij3KXeLUpfIf6OG7EtXW8G/a+hOflu9d5f+Bbuh8r3+gSNUrHMqd79R5/3rO+7dBK6q1bsG4HtWMqwAtbgAsZeb335C79LvqbnhKrkVOPfXCMf2161V5juzQg5KOfxTLGQNT9MRPa7X061/pXxa5lFvbrYWvNOmNDbPHdRe8kdThFFe13G88oZQ//0IbHnLK+dAG/eKL2ap+/w0VzeqtlZla93/dem5Bp/bnuuQsfEVt//tVvbF5kSYPWGMkdTxT3/mhdOzEqRAPz458H3X//t/1Uy3VnJncfAFS/M7nBzav08I/b1X2ooe050z48kV+rUrR8t0tcpenyffq03IucqnsRIp+eKRF1a7e8CySfFO0/BWPGkzr2VDXrQdeaVLL7uUjnPwEGH0JhmEY8S4EMNF8+eWX8S4CMK50v1cmx/1t+uf/eklLo52kpGcNOrZlupznX9B/v7J0fM8GCmDCuPbaa+NdBEwgtLgBAOIu8d7lenzBHu1pGGaL6hfv6FflNj33FEEbAGBiInADAFhAih7evEWdL+3XiWHMUt721h79+ntbtGrcjk0EAGBwBG4AAEtInLVOzy39tf51X5Stbl+8o50vpOjlzQtpbQMATFiMcQNGAWPcAAAAY9wQS7S4AQAAAIDFEbgBAAAAgMURuAEAAACAxRG4AQAAAIDFEbgBAAAAgMURuAEAAACAxRG4AQAAAIDFEbgBAAAAgMURuAEAAACAxSUYhmHEuxAAAAAAgPBocQMAAAAAiyNwAwAAAACLI3ADAAAAAIsjcAMAAAAAiyNwAwAAAACLI3ADAAAAAIsjcAMAAAAAiyNwAwAAAACLI3ADAAAAAIsjcAMAAAAAiyNwAwAAAACLI3ADMKF4nk1Q1l7v0AseL1VCQoJKj49+mRDkeKkSErJU+2nwB93yPJupxT/3mpaLYB9dbNDa2wvlvjwKZQUmuhDno+9ohUrf8AUtM4zrZfC6R/m6G7NyAxZF4AZgAuiW+9l5WvN8gzquc0q+FtU+m6PMH7nVHe+iIWLdv6tQQf1ibVppjy7hTU4VFLUqZxv7Gxg5j6ochWoedyfTeC03ELlr4l0AABi5RDmerFT327u0a3WDGmyS/cf5qlriUGK8i4YIeVXzo01KLmpXxjB2mn1FgXJuL9Su7GYVpMW+dMBVbU6xDKPYOuuxan7AKKPFDYC1XPRo11NZyrw9QQkJCUpInq55qyvkuThEupumado1HWpdWaD8lFZ1XjdN026KIL+OVtUWLVZqQoISbs/Umufd8n0diw2Js+HWY2/XprOmekmerpznPeqU1Pm7XVqTkaqEhASlOgtVe7Z7YNrgLpBhu0b26z5apU2H8pW3yDbww0j20XUOZT3VrsKd9eocYhOBcWOsz8dPa5WVkKlNkuqzk/uXC+5yGKpckVw/Q3Zd7JTnJ2u1+O5kJSQkKPnuxVr7E0/geTzU9SzSckvS1z65h8ovaPumJycoISFVmZFcQ4FRROAGwDouu1V4d6ZKzt6gnLJGNboPqmZ9prqqC5W5pEItg6Xt9srz7iSVbCtX5d5i6d0WeSMIwCpXO7SpzaFyd6Pq1k3XmaJ5Sl9dL9/QSa1rJPUoSfKqMnexqjqdKncfVE2uXe6iTOWtWyvnCremFe1WY32lHB0Vyrm/RO4Rd03qVtOhUvmedCpz8sBPI91HGfPXylZdpbo/jbQ8gJWM4fl4k0Ob3JXKk+TYXKdG9yY5wv4A5lVl7kivn17VPjpNmesalLi8QgfdB1WxPFEN6zLlfK6lp+tzJNeziMvtVe3qdM1b16zkx3ap0ZTftEdr5Q1atrfeS2obVbfToUmHCpX5aJUiGEUNjA4DACyi460CI2Oqy6j5JPD9c686DWng+yPiKTEkGbZnGo0u09tdhwsMm2xGiSeGeY2xEdWjv17SNzeZ6uWcsXu+etJ6+xftOlxgSDaj5H1z2hDrD34/+HVXo1EgGa7XzoUsS8T7qOOgkS8Z2fvbB9lAYByJx/loNBklkuGqbQ9Ko/5zrvfcXFljmM/a3nOz2N01SF796+lyFxs22YyCw+Yz3DDO/cxp2OcUG41/ieZ6NnS5O+rzDCndKH43ML+OhlDlDq53w2ivdcX+uwiIAi1uACxj8pJyNX1cp+zbAt+3T8uU1KmumA86T1dhduA4uMT5WcqTT5VHh26XsqpY1KNzQYapXiZp0mRJD2UpI6V/mcTbZ8klnzTSrqWfetUiadbtoSYliWIfTU6WPU2qPcvv4ZhYxvR8jJhNa5/KlvmsTZyfpbU2n6qOt0a0htbjVfLZ1iprfuDAVvv3Duqcp0SO62L5vdCppiNV0vx85f1DYH6TF+WoMM2n0kNNARMcBda7ZLPPklQv7yDdvoHRxOQkAKzncqe8f2qW1+tVi8ejujeqJEm+i5KmxjIju5IHdKexa/oyyfdJuzqVrhA998aPEdTjpFDfDtdIk4Jex8RFn9xKlzPkpCTR7KNkJd8u6UOvfMpQiNFywLg0pudjxDJlvy34Pbvs90m+llb5lD7EOeiTt9Un3WdXRPPIjvh7oVudFyWl2ZU84DP/taPNp06pr9wh6x2II1rcAFjH5RbtWp6qhL+5QanpOVr7k1o1XbYp79G8sS/LdYnjd0ZKK9VjxEIFaEMYz/sImMgSIzszuyNpLRuX1zNgdBC4AbCMlpfztPb1dFW2dMgw2nXG3ai6l0qUM2e02r28ah8wQ5hXZ16X0pNvGLdBwdjXo9nAOvV9cmZY6cK/P/73ETA2hns+Dm/dklfed6X0dHsELd42TUu3Se96B0728btSpd6dpaqzsbyeJWryTZJOetU+4LN2tX8s6c5Iyg3ED4EbAIvwqfX9FumhLDnTzF/InXIfqRmlPFtUU+8JGNPg3VepKqUr5/70UcpztMWjHv0SE5WuFrV6zRNre+V+vXbwdDfZ5FCLOi6H+jCafeS/+bqbmy9g2OdjxAaem743alTpi/z6OW1Onmy+StUdMa+lW5636uS9OEvT74zl9WyyMufnSUd2qeq3gU19nYdqVH7SpvyMaVGuExhb9N4FYBE2TcvIkNYXaM36LhUssSuxs1X1P69Q3ceTRulGPF2JR3K02Feg/BV2df+2Spt+VC/7tiblj9uHOEdTjz7VLk9WzuslajKKlTHSrNMcypkjFT6VI1t3vhyTO+Wp3qSDidlyaJA+UVOnK0OSp9Ur/UPwaJco9lFnu7wnpfxt3HwBwz4flajENKl+b5XqbU5lZoQfq9byrEuLfZuUv2Ka9LtdKiyK7vqZeH+eKlZWKWeBQ507C5U9I1Hetyu06YV2Ze/PU4ZsSoz4ejZ0uSc/VKyalZnKuc8hnz8/n/+aopU1Klg0rkc14ypAixsAy0h/ukFNZYvV9fYaLXbM05oytxKX1ajl3UplSWpqjfVsgXatra6T6+saFToWK+e1bjlfbVbD5oxx3QVv7OuxL2cVvN2k8kUdqs1erHnrKuX9Vo0ati0eYpKXdDmekdyelhAPz458H3W/79YuuZSZzs0XMJLz0bWtQM6PNynL4VTV6fBLljQ0+M/Necp/rVuu2jNRXj/tyn6tVU07Z6n9Z/ma51isUo9dhe+2qmZZT9gV+fUsknLblf1qixpN+RXs75br1Wa1vpYd2SQpQBwlGIZhxLsQAICrW/fxUmVmeLXp891yRTtJSc8aOfsJOQAAIABJREFU5P4Xu+b5dqnjVdf4ng0UsLrjpUrI2KQSj6HiOfEuDHD1oMUNABB3iXOylb+oSlVvD7M18GKDap9LVvk6gjYAwMRE4AYAsAC7craVqGNnrTzDeNC6940qHXyyRHnjdmwiAACDI3ADAFhC4t8VqMJ1UCV7o2x1u9igijK7qrY5aW0DAExYjHEDAAAAAIujxQ0AAAAALI7ADQAAAAAsjsANAAAAACyOwA0AAAAALI7ADQAAAAAsjsANAAAAACyOwA0AAAAALI7ADQAAAAAsjsANAAAAACzumngXAJiIvvzyy3gXAQAAxNm1114b7yJgAqHFDQAAAAAsjsANAAAAACyOwA0AAAAALI7ADQAAAAAsjsANAAAAACyOwA0AAAAALI7ADQAAAAAsjsANAAAAACyOwA0AAAAALI7ADQAAAAAsjsANAAAAACyOwA3ABNWmPUtSVfZemI/fK1NSUlL4zxGZ98qUlJSt/Z+ZXw+3Xrt1YrtDruq26Nb1xTtaf89GHbs8nDwBjLpYXCfGKg1gYQRuACamPx/TAffDmn1PvAuCSHU379TGA9/VP69IiS7hjQu17umPlPvcMXWPTtEAAIi7a+JdAAAYDed//47e+d4qVSfGuyRXmXuLdOVK0TAStulXz26V7elzmj2MfZay7Ad6+J6N+tnDTVpHsA5Y23CuE2OVBrAwWtwAWNMXJ/TTH2bLcU+SkpKSlJQ6S84ndurEF5EkvqSTTQe0NDNN1w+1aOdH2l/s0l1JSUq6x6GnXjym81+PvPiWNZJ6vdxTV7NSe9LlvnxqYAuXuWvSpXe0PilJzt6ujybn92crKekpHfDn2/2bPdp6+HGtWjhlYL6R7KPr5urBx3za+NIBXYpgUwCMktG6ToTo9nipaaeeWjRLqaZr2bHzYfLp9fV5HXt5vVzfSlVSUpJSv+XS+pdPBF43ert2/tG0LUl3yRHxdxAwOgjcAFjP5WPa+C2H/vWjyXq4pEENh+pVvW6OuvdulOMfd+rUUOm7T+rffz5XC/93iCAgyCtPLNLW//qOfnyoQbVP3qmzxU5lPHFA54dMOQ6NqF5PaeeSWcrd162FW+vV8MoGTWvK1ZM/Oxk+yfVztfSH0rH6Ywq8JTuvY28fkL63VN+5UZK6deKdMp3/3kLNCRFpR7qPZjue0JS9e/TmnyOqDQAxN5rXiUDd75Vp0fwX5Zv5A71wqEENLz6ulI82ypmxVcfC9plu0/4nMuQsPCnb6hfUcKhe27MS9U6hQ+lr9gfl36ZXHnfpF5cWassvGlRbPleJhzfKsWaPBoaYwNigqyQAy7n0m1/rxHVLtX33S1p+q//Nby/UvTf6dNcTx/XRZ+s089ZBVvDBCf3qnu/qjW9EkNmKav2+dK4SJenbc7Xwjus1fcnT2vPYUhXdO+JNsZSR1Oult36qje/N1paj9Sq6t6cv49wF92r/yru0X0vD5Jio2QuLNOXFX+nYn1cppXd/fHZMb9ZL696e29Mi2n1Cv35RWrr7jtAtpJHuoztm6kFt1b+fOq9V3xg6aAcQW6N6nQhyyr1Vpx6oVu325eoZFTtXc++U2v7xVzr1gTQ3xPX70ltlyt1nU9GRBm3J9PfJ/vZCLZy1UekPbdCeRx/Qlm/39tU+pW6HWw2bZ/dde+bc2KnU3Hf03merlDLYdxAwSmhxA2A51zufk/uD2v7gwi/ljjmSOtU1xAwUp068KS2drZlD5jRTP3zYHxD4JToe1Cqd1yu/GbJdb9wZfr126+SJPZJjlZbfa66tFD2Qu27QPBPv/Y5WTTmmX/2m/zfq8//xpg5MKdJ3e2+cPmvTKUlp3wg1KUkU++h6m1Lukfb/kd/DgbE3yteJIFNuXSi99Yp27j2htt4ZZb/5uBo+cGvd/8/e3QdHWd/7/39lvv6mq/EMOCrZ1M63SbxBbiQJv1Ny01PRZYCyjKLhC5ZE5MSoIFCsJNIgUAYNSlOCFgHxFMhBTKxhCEbHIDBZmmoTQltCFAW8IbFq2QUdwhRkz3ydub5/ZJPsbnaT3WSXvQjPxwwzZHPdvK/P53Ntrvd+bjbgh27ndNCxXbLN1Ry/Yw6Z9Av9aoxLpXubfIZ1Tp6Q4fPek5CUJqlGbV8LiAkSNwDmdf6c2j6oV/1b27V+2XzZHlklqV6uXucYtKi+0ql5towQTpAka48hOEkakSO5vnIO3rlSYZfrObn+IWlMkqx+v7HckNh7gmwZr58/luA1DKpj+FPC7Lu6FyH51qV6pcoS8PksnDqyynqLpI++GJxDXQFTi/L7hJ+k+1dqXY5Lr8yzaVRCvEbdnavFL9eoJejN79a5bwPH1/Xe8Q+Xz3vK1YxLg8mQuAEwn/MtemX2KMUn/FCjsvL15Mtv6OCFBM3JndP3vp8f0bsfROBrAOIt+sEAD2E6AynXYOKHaGgfm2TYf6VUR43qP5dn+FOC5vh9kh04Qevr3IOwjoDBKGLvE16uTdXcHR/p208aVLl5kcZbjuvNolxlp9hUeogvBsHgROIGwHRatjyuxdWpWtf4T124cFKH99Sq8sWVemBcn2tEyvX3vap/9C6lhbSkfJucPXqZ2nSsWkq1Dg3+wHCZ6n+5DlHC/5b0QZucfr9xf3Fc9X2deMx4/WLMXtU0tHmGP83Tz+/0L91AdRHs9cFbR8Dl61K8T/RkuSlV02Y/r017DuvkP2q1ZEyTVlXWBxgxYdGQ6wPHJznl/EzSbT8Ws2NhZiRuAEzGpRN/b5HuvU+Tx3gnFOdUX/dGH/uG8TUAkqQW/bHGd05DW9VmbVeqfjG+7xlyl5eBlKtFaePnKsHxirY3+JSW3qrsa19JStX43FTt3Vel7W/XKHXRZPkMZL0+QePVorPnA+0bTh15Hr5G8fAFXHpRfp/w0aaqhTaNmuf39R/XW2W9Idg+Q5RpmyP1iE86t++PevGDBM3NuD2EOIHYYfQuAJNJ0PBxGVJxseYXX9QT9iRZ2o+rpny93vz86t4fyDu/BuCXoT62p8rieFg5rkWaOzNJ/9OwXauerVHSCoceG3Rf4hxOubpUNTtF+dUr5biwRBmShkxapDWz3lT+gzlyPTVXD4ySWv7wtJZWhzabLHX8L5RavFSrlKrnn/JLuG6+XRmSmk60Sdn+C5SEUUfnnGr7QJq7gocvIBai+j7hI0njbT/WxdlPatZVX+g/701Vglxqqd6spY4MrVwVeCXKIfcuUfksm/In2uVa+4QeGGWRy/OeolnlWjQptI/8gFihxw2A6aT+crccq38ud+185Uyxa/4L9fpBzjY17l+n+yQdPBFk1UDP1wCkhfI1AJKkJM17pVLTvn9DT0/JUX6lW5M3N2h3cS/zKi5j/S5XSVKSZm5uVO2iJB1/OVf2KU/rzfi5cuxYEtrJx9yruTZJY36h8T2S4lTd9SupvqklwPCm0OvI/fc/6RVNU2YqD19AbETzfcJXQk65HLvnKenz/1bx/XbZ7y/Wf3+bofK/7taSscHewT3xrU2Tc9uTsk/JUfEut+7d3KDmLZ1fKwCYV5xhGEasgwAGm++++y7WIQCXFfehUtnubtOv/7FJ08JdpKTjCKpfOVJ21wv65+ZpIQ6VBYDouuaaa2IdAgYRetwAADFnGTdTcydt1/bafn4H27d79cZaq56fT9IGABicSNwAACaQpAdWrFT7pio19WMl77a3tuvdR1dqzqCbmwgAQAcSNwCAKVjGLtLz097Vb18Ps9ft271a/0KSXl4xmd42AMCgxRw3IAqY4wYAAJjjhkiixw0AAAAATI7EDQAAAABMjsQNAAAAAEyOxA0AAAAATI7EDQAAAABMjsQNAAAAAEyOxA0AAAAATI7EDQAAAABMjsQNAAAAAEwuzjAMI9ZBAAAAAACCo8cNAAAAAEyOxA0AAAAATI7EDQAAAABMjsQNAAAAAEyOxA0AAAAATI7EDQAAAABMjsQNAAAAAEyOxA0AAAAATI7EDQAAAABMjsQNAAAAAEyOxA0AAAAATI7EDcBlwX1ko/LuSFRcXIqmLqlW6/f+W7Rqqz1RRfvdoR3w4GrFxcVp9cFIR2pO7iMb9UhWiuLi4hSXuFyNPcrvEjq4WnFx01X5lf8v3Gp8NltT/9DqtV0IdfRNrRbeWiTH+SjEGmtByypK+/XKr34uB5G+z6NSrv0X6L52HijT6t3O2ATkXz79Kf9LtU84BvN7DC4rJG4AzM/tUMmUEl33m2Zd/Fed8pwLNP35RnmnaO1vl2n5tWUqmmiJWZjm1arqZxZqq+zaUlunuso8jbgq1jH15P5bmQqrp2r57OTwdrzBrsIlx5T3jEMhpu3oh37XD6Ik0H3dqK22Ih3mRogs3mNgEib80w0Afv7m0GpngRpmWGWRlDM7T3kPOXRsRZbSJcndqI2/Oayi8g2yxjhUc3KqdbekZ/JUMCUr1sEE0aqK3yxX4pJTyupH7p08q1B5txZpY+5hFaZFPjoMrH5iJnOZDGNZrKOIkkD3dWMsA+qpP+V/qfYJE+8xMAN63ABcOt80auP86cq+Nc4ztGekJjxcpsZvet/N+eUxSVd3/Wz5t+skp7o++WzdUaINE0u0oD9/TM8eU+WSqUqJi1Pcrdl65HcOOWM5jLA3/Sm/g6sVF5et5ZL0m2zFxcVp+uvO7iFNx72uP3Gk8n7XqHZJ7X/rHoKVYi9S5XG/z5m/d8rx0kJNvSNRcXFxSrxjqha+1LGvj/Mdxx+Z6Dn+S80BP7F2H9iq5XsWqGBKgNQ7lDq61qbp80+paH11zxgGykxlFWyoXihD+EKNI4CA9dN5zver9cgdiYpLHKnp5cc8v2zXsdeLej/XQMs1lPvBfwid3zlHJsYpLi5F2YHuoxDbbljXGrCsAujr2gLd1xs3abrntercRL/2EIUYQ26vnvJvr9XCuDhNCDDU1vn6dMXFPaLqbxRw2GP7+2V6xDZSiV5l4fAeDRpoqGQo7T2c9hDN9xggVAYAXAr/qjMKrTKsdxcYG6rrjDrHO0ZFaYGRJRnKXGsc7m3f95YZ0jKjwfPjxX2FhqwlHfv8q84otNqNLZ+GGU9jiSHJsFqtRvKMtcYuR52xa31HPNbZu4xT/bnGaOpv+Z352KhzbDAKJEOPbjDqHHXG4S8veq4/3cjKTDZsj24wdjneMSqW2g2rZOT8coGRdUuOsba6zqir3mAUZMqQdZlRd7HzoCeNitlWQ8oyCtbv6ojlmRwjWTKssyuMk10nP2yszZQhq80o3PaOUVdbYZTMGGHkzs4xpByj4svO7S4adU/J0OPvGGe9Yw+3jhpLDKv60Rb6YqayaizxK7sgr/fYLtQ4AumtfqyG1ZplLNj2jlFXvcV455hhGMYpY1d+siGrzXOujnqzWf3ONZByDfV+8LShksZg5+yOTVO29KPthnOtgcoqgFCuLdB9/Vmbcdjzmm3FLqPOcdg4dTFKMYbVXjvL39OOJm7xa2+njIoZXu3Lr84uNpYY6bIa9ie3GLscQdqDfz2H2t5Dbg/d20flPQYIEYkbgEvi7FuFRtYtPR84T26zB34Q9XaxzlhmtRq5r540Lv6r4w9y1rqOR7PD67KM9GcajIu97B5QZ1LwVJ3Pvhf3FRpWWb0eAMxhQOVnNBglkqFnGrpf8lx/+grvsjtpbJmojuO1dm96cV+hIVmNkr96YqkuMKR0Y9l7vqV+traj7JY5Lnptl2WUNHpvd7LjIc075ot1RqFk5Lzq95gUbh2dfcdYIBm5VRFOu81UVv1M3EKNI6A+6se26WPfzR3LDKvsxgb/h/5Ptxh273MNpFxDvR8CJm7+5zSMU5U5Acqr7/oI91r9yyqQ0O/1APe157Wcyu57ICoxhtVevZIwxzLDKptv4vNlhZEjGYX7Lgbcp+EZGbrf78OFYxsM2y1Zxlq/eu3cJ+T2HmJ76D5AlN5jgBAxVBLAJTH0nrVq+HSXcn/k+3ryiGxJ7brY24xvi03L9yyXSrN19b9NUIV1oyp+mS59VamS0rEqeTxLlvPN2pjbMZQm4LCqgNJVlGuT95Qdy8TpKpBTGw40h3+RUTSg8uuFfVKW1/VfrauHSrp/urKSurex3DpWOXJK30tSuxr2b5UmLlDBf/hOdho6JU9FaU6t3tMgt9w63LhVmlig3Ezv7ZKV82ihbxBftapZ0thbAy16EUYdDU1UcppUeTw6qx6aoqz6JdQ4gui1fiRb+gifn5sPrJbz9hGynHLIccDr35duJcqp1e/71lv45Trw+8H3nJI1eaykarV+JSmM+gj3Wv3LKpBI3+uRj7H/7dWSZVOB1aHKA933qPO9Xaq2LpP9Z4EnT1p/ZJd2b1BZeaNaO1d1vH2B6j5tUGFmoD3Cb++9twfvA0T3PQboC4uTALi0zrer9bPDam1tVXNjo3bt3ipJcn4j6Zbgu1nSFqjiwwWq6HrFLcf6Qp1aUiv7DW45nrar5KoyNfwrR9pdoOxZZUpuXNbHQgrJSryh52sjZ0jOL0+pXeka2s/LjJp+ll8wVwf6K3CV94xC+f2lcKv9G0lpyUrssWOiEm+V1OZUu9rlbAu8neXGRKXL68HnG6ccSpc9YF2FU0ee83/YKqeyIr5QjSnKql9CjUOBy6zX+vHnVOtxScfL9IitLPAmn56S0+tc4Zerl37eDwHP2SXU+gj/WsMSkXs9GjEOoL1abJo636rVOx1qfbRAyXLKsbta1vw6ZQdpX8kzSrRhz3QtfDhbGx+WkjNzZM/NU8GMHKUHDDr89t57ewiwf5TeY4C+0OMG4NI436yNM1MU92/XKSU9TwtfqlTDeasKHiro3/E+q1DZjjyVPJouqVmO550qeCxXyddalDyjQHlHNshxdADxXmuRqRbPi3T5xdK1Q3VdjxcDJWh9HcdkdRQNAcsqFsKsnxkVOtUxHaPnv1dzBv7AG6v7IVB9RPpao3Ft0a6PTiG016x7ipS+v1qOzyR95dCunVYVTMwOfi9fm64FVSd18cvD2rWtULarj2nXoukam5it1QdZnB9XFhI3AJdE88sFWrgzXRuaz8owTuljR512bSpRXmZ/+rTaVbtuuSzrimS7VtJXrTomr09NLVfrOq9hVcG16lSPFRlb9fFOKT3xOlMlBZEtv4GwaOgNko606lSP353SqU8l3Z4sq4bKmhR4O3frMTl67BuoLoK9bs466unSlZXzy48jEEdvgtWPP8+17Dysj6P4TB3d+yHU+ojOtUb22qIRY7jt1U+aTXlptap+r9UzTHKhpt7d951s+VG6cvLXaovjY506U6dlaY1a/qojwAqPkWjvgDmRuAG4BJw69tdm6f7psqd5P3y0y7G/IuhewbgPbtTy5iItn+X50/ujZI2QdLEzUXNf1FlZQxgM3qyKat8v8m59fYO2Kl15d6eHHVf0RLb8BmaosicWSPs3auv7vk+C7XsqtPaIVQuyRkiyaOzdC2TtsV2rqnf4xXyDVTY16+x5BRBOHXkeyu4wy0NZFMrKYlG6mnWstd1nO8fOygjEEUSv9ePPouwpy2RVmTbu9Bsy11ap6XEpmtrbEvMhifb9EGp9RONaI31t0YgxjPYaULpsD6Wrdk+ltu6uVvpiu4J/u2SrKh/LVsrDfkvw35CoxBuD7TPA9t4rs73H4ErDHDcAl4BVI7KypMWFemTxRRXekyxL+zFV/6FMuz69Osw/gK2qeGaDsp8+pu7H9nTZllqVV1mthf9u18WdW1WRWaTaf+/rWOmy7M/TVGehFsxKlvv9rVr+m2olP9PQv++Ei5pwys+pypmJyttZogZjWS8PRP039P5lqpidrbyf2eRcX6Tc0RY5PWWn2RUqnNLxwDl0SqHKZu9S3oypcj69QLmjpeaXi1S00+l7wFtGKktS47FW6T/8F8AIo47aT6n1iLTgmf4+lEVexMsqzaa8TKlofp6s7gWyDW1XY/lyvWPJlS348iIhxxFQr/XTk+XuApXN3qq8h7I1oblEhfcky91Wq4rnylSdWaKGGQOtn0i+nwQWan1E/loHem0WWdKk6h1bVW21KzsrXdYo1EfI7TWI9LvzlL64SMuVrrVP9/YhWbJsE5N1ceYCTb+qVQX3p8sqp5p3blDR/iyVPGcLOA95QO29NyZ8j8GVhR43AJdE+pO1aiidqotvP6Kptgl6pNQhy4wKNb+3QdMlNRwLbQEG9/6NWq4SFd7j/YfXItvTtVrevlzpV1+tCa8nauPrheq7zyxZC8t3Kef7ChXZpirvVbfs2w6rdkWW6YbgRar8IiNZuduaVbd+rE791wJNsE1VYZVbOdsO69iruUr2325xsj5eP10TbEXade0CNVQt87862Z6SHI3NAYY9hV5H7r86tFE5yk4305IykS+rwrcbtHbKWVXmTtWERRvU+pMK1T4ztY+FdEKNI5De6ifIuV49pob102XZv1xTbRM0/bkG6f4KfbxnmbKuDekgvUcU9fsh1PqI/LUO7NrSlfNMoeyfLtd0m11bj0YnxtDLJ4i0HC2YKCktT7Y+PiSzzqhQQ+1CJX+2VYX2CZpgL9TWb7JV8WGtlv17sHfqgbT34Mz5HoMrSZxhGEasgwAAXNncB1crO6tVy89sUU64i5R0HEGOp5M1wblRZ7flmG810MvcwOsHuNzxHoPYo8cNABBzlsxcLZiyVVvf7mdPyTe1qnw+UWsX8UAVDQOuH+Byx3sMTIDEDQBgAsnKe6ZEZ9dXqrEfq9+17t6qdx4vUYGp5iYOJgOrH+Byx3sMzIChkgAAk3Cr8VmbSqwVeufRMGahfFOrhVm1sjdukJ1hfFHUz/oBLne8x8AkSNwAAAAAwOQYKgkAAAAAJkfiBgAAAAAmR+IGAAAAACZH4gYAAAAAJkfiBgAAAAAmR+IGAAAAACZH4gYAAAAAJkfiBgAAAAAmR+IGAAAAACZ3VawDAAaj7777LtYhAACAGLvmmmtiHQIGEXrcAAAAAMDkSNwAAAAAwORI3AAAAADA5EjcAAAAAMDkSNwAAAAAwORI3AAAAADA5EjcAAAAAMDkSNwAXOGaVBofr9JDsY4DAAAgOBI3AAAAADA5EjcAkCRHqeLj4zv+za6SK9bxAAAAeCFxAwBJq56VHBcu6MKFC3KMylcKyRsAADAREjcAkLTywBJleP6fMbtc06rfVP3XMQ3pCuRW0xqbcsrbOn481NEL2uf8w2/3avGYpao/H/UAAQCIGRI3ANA0Jd3k9eNNP1aaatRG4nZJuQ+v19Kan+vXs5LC2/H6yVr05AnlP18vd3RCAwAg5kjcAAAm0KY3nl0l65NzlGEJf++kGU/ogdeX6r8+iHxkAACYAYkbgEHMrRNvlWr+lLFK8Sw8MuruXC2tOuHXM+PXu/b1Fzri3wtndt826ZVf5co2xrPASspY2eetV9O3fex3qFTx8bmq+uSEqpblaFR8vOLH2DT/xXq5vvfb9nuX6l9erJyfpCg+Pl4pP8nR4pebdK7z9x+sV3Z8it/Qxhatz4pXfEqpWrxf/mC9suPt2v55x4/uP2/Xqn1zNWdyQs8Y20OI7drxuu8xp5ZuqumOB4B5meS9RzqnE1VLgx/bO9aGGs3/SYriU8Yqd8eJCBYGEBoSNwCDVlt5rsbO2q728cV6eU+tal/fpHtvOKj1+VP0dK3v4/2qlzoXI3GpqjhfNSue0MzLJXE7X6+lP7HptyeG6oGSWtXuqVb5oky5dyyV7f+s931oCahNm+dO0ap/3KXn9tSq8vHbdXyZXVnzarwWaGlT1bws2YuOyPrwC6rdU6010y3aW2RT+iNVapOkMRm6L8GlN5u8zvj1CR38QJLrTzryeffLLfV/VMuYnyvtZklyq2lvqVyPTlbmkJ7RbZ7XV2wdMmzzlLBju978vOcxAJhRrN97XKqZl62xxS2eY9fqhYetOv47r2N3OajiB38vy6KXVfviE5qTMTyK5QIEdlWsAwCA6GjR3uo2ZazYpm3FGeoYfTde4yclyTLSrtIPjmudvXM5kmkqv6dNKfHxHT/mlOtkcUbgw5rQuT+/q6Zrp2nNlk3dyeadkzXueqdGzTuoE18vUmqvSWiL2m4ul2PLTCVJ0p3jNXn4EI2850ltfmiyVt5p0bm3SpX/ulVL9tdqZbal6xyTxy5V+v3F2v7QvVp5Z6oyZkmrDp2QS6lKkHSu5aBqxmQow1WvlhPnpJuHSGrTkX0tSn3gZaVKkrtJ774oTdsyXAHyNmlWuf6+enxHHXrFtv2xaVoyzmu74am6T6v0pxaX5twcoOcOgMnE9r3H/efNenLHcK1rrtbc2zwh3Tle0yZlKGdM57E7x267dPvSPVo3m4QNsUOPG4BBKlVz3z4sR1fS5mG5XSN+Kulfbs9wyQwtuVCpmTOX6ILn6wAu7Jipy+mxf4j9eTk+qOzRQ5g0PFNSuy72uWJHguY95nlw8rDY7tO8BJe2Hzoh6ZwOOrZLtrmak+07AW3IpF/oV2NcKt3bJLcsSvvpXKn6oI54OjSPf/CmZH9CT9wrvfnB8Y4Xvz6kvY4E3Zed6vm5TS2S0m4OtChJqn71wHifOrTY7tMcubT5z359iUOsShojVX3i+zk5ALOK7XtPS32pXLcNl8VZr/o/e/372i2rXCpt8H2PuSuVpA2xRY8bgEHOrXOuL3T8RJu++OigDjpq9GatpByXzknqxzoY5nX+nNpOHtEXbW1qaWrSm29vlyS5vpV0c287ZgaYz5ekpJ9KrpYTcsmqc99KGpMka499rbLeIukfHeWZkJqpacrXn/7+nCbbnDr+F5fmPn6XUs9Nk6vyuNqUoetaDqpGD2juGM8hvnWpXqn6ecDKSJL1+p6vjciRXF85dU6pXr10nlg++kIuZVxWyTdwZYrle49LX3wi6ZP1mj9lfeDwPnPKJfFeAtOgxw3AoNVWu1T2lOv1w5Sxsi38rf671qUf2P5TD9hiHVmEnW/RK7NHKT7hhxqVla8nX35DBy/Bxt1CAAAgAElEQVQkaE7unIEf+wc/CG/7m8Zpsk1641CL5GrRnxzTlDlqiJJGZSrV8Se1uNw68pdXpEfvUppPohYoQetDvEVhRgfgcnGp3ntyynWyc7SF/78t00jaYCokbgAGp29rVDpjvdpnVevktxd04QOHat/epOcfv1e3xzq2CGvZ8rgWV6dqXeM/deHCSR3eU6vKF1fqgXEBZ4wF0CZnj9Un29T2Fyk1NUkJsmjI9ZI+aJOzx75OOT+TdNuPPQ84SUqblCrXX46r5aODqhqTqeE/lnRbqsarSkdOtKjpdWnupEy/+WyBYgge27FqKdU6dHD1mAJXnFi+9wxRwv+WVN2s43wBJC4TJG4ABqfPT2i7pMlTJyvB++n+k72qccQqqGhw6cTfW6R779PkMd6p0DnV170R4jFa9MeaJp+vSHC99YY2u1L1i/GpkoYo0zZHcryi7Q2+Tzjn9v1RL36QoLkZ3elwasZ9SnD8Sa9UvSHZUjVckiy3K3OWtPeF3+pN1zRlpnrFen2CxqtFZ8+HFltb1WZtV2ds3jwPcqN+zKfkwGUhlu89FmVMXqIErdcru/3mxX5Rpdz4UcphyX+YDHPcAAxON6dqboJUOi9X15XMVepQt1wNf9Sa/zqk/+l1vtflJkHDx2VIxcWaX3xRT9iTZGk/rpry9Xrz86v9EhiXqmanKL96pRwXlsh73cyWNbOU4/q15s68XTr8ip5eVqOkFQ495pmHNuTeJSqfZVP+RLtca5/QA6MscjVs16pna6RZ5Vo0ySsRG5OhB7RK63dIM3fc7ukVS1BSaqpaivdKkzZpnPe8lptvV4akphNtUrb/AiWpsjgeVo5rkebOTNL/eM7pHVuXc061fSDNXTHY+lSBwSuW7z2WO+dozaztyn/EJnvLSj1hT5L7i3f1xu/Wq2bcSjnuZzESmAs9bgAGp+sn67l3y7Vo+HG9OMsu+38u1X+3pev5/Q2qfDRV+suxQTM8JvWXu+VY/XO5a+crZ4pd81+o1w9ytqlx/zrdJ+ngib5XWVy5e7emff+Gnp5i15MVbt1bfli7fVbkTNLMzY2qXZsm57YnZZ+So+Jdbt27uUHNW3xXhZMlTXc9KknjdVdqd+qY+v9PliSNv3e87/ZK1V2/kuqbWgJ8eXaS5r1S6YktR/mVbk3e3OAXWwf33/+kV+TXmwfA1GL73pOkmVua5Vh7nyx1q5Qzxa7c3zVJ95Tr8JtLlHFt9K4b6I84wzCMWAcBDDbfffddrEMAQnOoVPF3r9LKAxd8vxPtEnMfKpXt7jb9+h+bNC3cRUo6jqD6lSNld72gf26eFvj74ACYh0nee6LtmmuuiXUIGETocQMAxJxl3EzNnbRd22v7+R1s3+7VG2uten4+SRsAYHAicQMAmECSHlixUu2bqtTUjyGsbW9t17uPrtQc/3lvAAAMEiRuAABTsIxdpOenvavfvh5mr9u3e7X+hSS9vGIyvW0AgEGLOW5AFDDHDQAAMMcNkUSPGwAAAACYHIkbAAAAAJgciRsAAAAAmByJGwAAAACYHIkbAAAAAJgciRsAAAAAmByJGwAAAACYHIkbAAAAAJgciRsAAAAAmFycYRhGrIMAAAAAAARHjxsAAAAAmByJGwAAAACYHIkbAAAAAJgciRsAAAAAmByJGwAAAACYHIkbAAAAAJgciRsAAAAAmByJGwAAAACYHIkbAAAAAJgciRsAAAAAmByJGwAAAACYHIkbAAAAAJgciRsAAAAAmByJGwAAAACYHIkbAAAAAJgciRsAAAAAmByJGwAAAACYHIkbAAAAAJgciRsAAAAAmByJGwAAAACYHIkbAAAAAJgciRsAAAAAmByJGwAAAACYHIkbAAAAAJgciRsAAAAAmByJGwAAAACYHIkbAAAAAJgciRsAAAAAmByJGwAAAACYHIkbAAAAAJgciRsAAAAAmByJGwAAAACYHIkbAAAAAJgciRsAAAAAmByJGwAAAACYHIkbAAAAAJgciRsAAAAAmByJGwAAAACYHIkbAAAAAJgciRsAAAAAmByJGwAAAACYHIkbAAAAAJgciRsAAAAAmByJGwAAAACYHIkbAAAAAJgciRsAAAAAmByJGwAAAACYHIkbAAAAAJgciRsAAAAAmByJGwAAAACYHIkbAAAAAJgciRsAAAAAmByJGwAAAACYHIkbAAAAAJgciRsAAAAAmByJGwAAAACYHIkbAAAAAJgciRsAAAAAmByJGwAAAACYHIkbAAAAAJgciRsAAAAAmByJGwAAAACYHIkbAAAAAJgciRsAAAAAmByJGwAAAACYHIkbAAAAAJgciRsAAAAAmByJGwAAAACYHIkbAAAAAJgciRsAAAAAmByJGwAAAACYHIkbAAAAAJgciRsAAAAAmByJGwAAAACYHIkbAAAAAJgciRsAAAAAmByJGwAAAACYHIkbAAAAAJgciRsAAAAAmByJGwAAAACYHIkbAAAAAJgciRsAAAAAmByJGwAAAACYHIkbAAAAAJgciRsAAAAAmByJGwAAAACYHIkbAAAAAJgciRsAAAAAmByJGwAAAACYHIkbAAAAAJgciRsAAAAAmByJGwAAAACYHIkbAAAAAJgciRsAAAAAmByJGwAAAACYHIkbAAAAAJgciRsAAAAAmNxVsQ4AgLejeq34NR3t+nm0HlzzoEZ7b/LRayre0b2FbpykxYU2DbtkMUbTaTnK1mnfGUl3PKg1eaP73GNg+/qXd4dhExdr8YTLq0RP163TuiNpXm1hIGUJAADMhh43wNSO6shHfq8c8U8z0B+n69apOEDSJkmn969TcfE6Oc5c8rD65WhFsdbtPx3rMAAAQBTR4waY3GnnaWlUZ+/PaZ12xjScKBsmW+Ea2aJ9mo9eCyHROa19Za9pmH+P52XjEpUlAAC4JEjcAJMaduMwnT5zWqePHNXpCZ7hb2eO6sgZSRqt0Xcc1dEPA+3pNUSuU4+hcn7D6NKO+Ay/DDxUMITjnnFoXdk+nZY0evYapR0p1mudMXYO6fTapue5gg/vO1rhdSyP0bPX6MFRgcqgN6fleNern61H2XgPnzyqfXWnNXrCML9rW6wfvutdFgGGtEp9D2v1OeaD0o7O83Yfr/fr9hvqeWaf1hXv81zTsF6GSkajjQQadhqkXAAAQNgYKgmYVVpaxwPvmSM66nnAPv3BkY6E58Yf6oeB9jnj0LpivwdySfrwtaDDAvWhX3KhjqGC6+q8eqT6cdyjO/wSjjP7tK5snU/S1nmu1z7y39vvWAGSl65z9LFvD13Jr4LM/fJNNk4fOSr/vrmjO/zL4qhe8xtaebpuXY9y7UisgpWX1+t3pAVN2jq27cd1d8UQjTYSeK5g8NcBAEC46HEDTGuYfnijdPTMaR354LRsE4Z1DJuUNCxttIY59/ltf1qOVzuTIq/ko6tX56heqzgacJGKrh4crx6g7p6+/h63c1uvnpszp3W6M1nyPpfPcFA/Zxza92FHeUwqXCzbjZJ3QnD0yFFpVBh9Oqf/6bmWYZo0Kdh+ozVp4jAd3X9aOtOxvW90XrF0Xcdp7dt3VDbPtb3mGYrZ3TPVGbNXL17A8grvuh9cs6Y7wfPp0Qs0FDRKbeSjI57kLFC5BLteAAAQDnrcANMaptFpnkdw52lJR3XE0/syzBrgIdirJ2n0bK8E4EabHpzo2f7DIz17P26cpEmjureddEdkjjts4iTPtt3X4ZMs3ThaaTfK6/qCuNGmxWvWaM2ajoSgt0VFLpVhEx/0JFIKWA5dPaMarUldCUtHMigF7sXrLq/u40b8uqPVRrp0zAs86hP/mstuhU4AAMyIHjfAxDoStNMdD9MfqWv+U9ooSUf8NvbqSfqh33Ny13F0WqfPSLrR65fWYb1/lUA4x+3xux5XpGE3Bni5D6fr1plq1UT/a+tRDk7vIYTFPQ8QoBcvUHlF/Lqj1UZGTdKkG496hl92X/Pl+LUKAACYFT1ugJmN8sxz01Hte9fzAH9H2pW12IPPCpDDNKlwjdYMZMGLYT/sGkq4b1+w/quj2td5zht/GJvvyIv0dUdVxwqW/vF1fK3CAObjAQCALvS4AabWOc9NOn3G01cSsCdLnoTkqE7rtP55Wj49Jt1DEfvR4xXOcaPwvWdd54jUF43fOFppN+7r6B368DUVl/kf13dBjWFpo3uc039Onn85DLMOkz48rYGsqhjx65ai10a6dMy58xyxa27j0XcdOj1qsHxJPAAAsUGPG2Bq3vPDOn5OGxPk8ddrzpjPCoVeC2X0q7cuWscNl/fqmnX7BjDXa5hsP/f+CoN9WldcrOKuf97zyLznqHU7vf+17hUkA5TDsDFpniSlY2EOz15ylHnOURFG9BG7bkWtLjvm3xX7fWn5MA2zdh7/nwGXSgEAAKGjxw0wuWFj0jRs/76uuUnBe0OGyfbQJB3pXB3Qf27VjZO0OMBqgSFEEKXjhnj2rus/rX1lxfJfS7NfRj2oxRP7mj82TJMKg/WWBYrFe+EVmybdsU+vfegZLrg/yHa9nT2M6+7q4fP7HrdA1xSNuhw2YZJG739NR4PE2mPhFQAAEDZ63ACzu9FrYYi+ekNutGnxmsWa5J/c3fGg1gxkuF20jhvquWf7XvXo2Wu0uLdVEEMwbMJirQl0TepYVKNzNcdARs9eowd9VlYcrQf9th+dt0ZrZvvXVs/tggrjuodN8EuMnKeD93BFpS47hkg+GGC1ydGzWVUSAIBIiDMMw4h1EABgel7fX9b1nWYAAACXCD1uAAAAAGByJG4AAAAAYHIkbgAAAABgcsxxAwAAAACTo8cNAAAAAEyOxA0AAAAATI7EDQAAAABMjsQNAAAAAEyOxA0AAAAATI7EDQAAAABMjsQNAAAAAEyOxA0AAAAATI7EDQAAAABMjsQNAAAAAEyOxA0AAAAATI7EDQAAAABMjsQNAAAAAEyOxA0AAAAATI7EDQAAAABMjsQNAAAAAEzuqlgHAKDbd999F+sQAACAn2uuuSbWIQD0uAEAAACA2ZG4AQAAAIDJkbgBAAAAgMmRuAEAAACAyZG4AQAAAIDJkbgBAAAAgMmRuAEAAACAyZG4AQAAAIDJkbgBAAAAgMmRuAEAAACAyZG4AQAAAIDJkbgBV7QmlcbHK97vX26VK8C2LlXN7rlt979cVX0dzvaef2uaQt9+dpUCRdZ1xqrcAMf18nWVcvuKJz5e8fGlajpU2vVz6aEAJ/P6ffAyCHDeANfQHXepAkQNb6HUYWfde20bqA4DlvtA6ypQuwjUbmmL5tdXHQ3gPaZHPQaswz7qIIJtrcd7fqA219dx/M9NGwcijsQNuEJ1/PGyaVWA39XkpwT/oxhUjfJvC/JHN1Kq85US9I+tS/Vv13T/+Gx9lP4oexLMuwOWnPJv6yPBrM7X9miWESInrLrqpV1U5ysl7PtpgOekLUbfs7aIPPw3rQlWh6tkC9huIt/WavJTAiei4ej1/bm/aOOANxI34Ep0qFQp+TV9bFSj/NvC/yO86qXee8UGbpV+H6hH8Ot6vVntu119FP5gN61JUX51HxtV5yull4egVXfzSe/lItS66rtd9O9+Gtg5RVuMulWy9TESoFdfV+n3z/a2QY3yi32PH7W29uzvI/DhQpD3536ijQO+SNyAK45LVS95fXq5wqELFy54/XNoZdcvg/wR7rHPBTlWeH5X3aa2ELbv+lecEdLxveOqOdnjDGraka8aScpZqZU5nuj9k8ibZqrS+5gHOo84TeWfeJ9riQJE1eMha+UBvxgPdJdc7w9BkX24uVL1KP/e2lS/hVBXPu3Cvy353k9dHybQFi8rPduaV71Wv6n6AOUbtH1euKAl4zwbfd2mmiDbd7+neh2/P22tr5i62kqN2kJM3Horj673Z9o4EHEkbsCVxrtnaoUjwENuhpZ4/xF+uz7KPWiR0KR6zx/4affM0ZJfeqIP8kDVX66/vOnzkNX18NVp3BKfh6A3/xK85Gryn4zC0DlEQ1911d0upqn8k0rNvMn7txla8km5pilIm+kn2mKsdddrX+UbKv8PmjKKO5OU7jYVi7YWK7RxoCcSN+BK0/UJ7zSVzw7WM5GhOeUdjyQBe9CetfWYKG7r/GQ0J0lJIWzf6+TygNt3z8dbafOL+1C953fTdN9PE6Rx4z2JZ2QeqDq1nfQ8RuSUa06wh6Jxc1Tu6fEL1DO48oCjK7b8HQzgGYhVd4ewQMIAhFpX3e3iPo2/KcAGnp6HSD5I0xZN4Kbxuq+X8g3YPv3bqFcddcwR6/29caBtLWBMXfPHVmp8iG2053G635+npfT4C9AvtHGgJxI3ABE0TeVrZiohmqdY4ejxUNLk8DwydD3MZGi8Z5hRTf52k81v8EqKn7VFdzEXDNBgr6vBfn2XgwTN3OE9xLGTZ+GNYKssRsHKA0GGLIYjp1wvzIzqX4Aw0cYxuJC4AYiQlXJc8B+6EznTyk8Gnr/kPQ/C6xPrrh7AKC1SMhAJM1/o+pR41d2lqo9tOOjFYK+rwX59l4cMLblwQRcunOzuffOy6u5orEjaqXu+2YB7hFc4dGFHlD+46wfaOAYTEjfgSnNTUte8jOBDR5q0vXPVyUBDHwMuHtLLp7VBFycJkuh1bd/9IFOTnxLw++W850EEE6mVLpNSOoeP9rLE9KHtXaugBR8ylKCZnfPwtEr5fa7wiUACLrQQ5MHxSFt/W0DfddXdLoLMqfR8r1QkP+2nLZqA13zhQOUbdHGSoMlNgmbuCLxoSOeQ74G2ta6YvObn5d8WfmIY8NoiuigQbRwIhMQNuNJ4zcvQs7YAc4KaVOo9X+Ge8TH8BDVBM3f4Jm++DyR+390WTIQWKUn46X2eh52OOR4Bv7S2a76IZ75dMOOWdK8ah+i46cdK8/y3x+IEX1fpyVAf4Pqoq+52EeghuEmlt3WseBqwzfQTbTHWXKoqzu/60CgtqT/vkp7vKAv2ZdBdH7J1z9+KWFu7aaYqfZI38y2ZTxsHeiJxA6443p8+ym9CvO8kc2mlnojEfIWgi5MEeWDxj9drDojPd/J4f+LdOZTS+1+EV33TTTP1hNcf/44vKg80yV/Siif6HDaaMbu868EE0ZCkpK6hZ91zhuLj4xV/W/dDt1aM73NuT6915dMu/M4Tjfupxzlpi9HWczEOr+8XC7J4RtDFSeLjPV92naDx93SlJrL5b+PVRrsWZIpkW7tppioPdPdE2Qb6BdyRRhsHeiBxA65E45boZHlff8KmqfyTCExWj4gMLQnwgNH13W3BPm31XvUtQouUZBQHnofiI6dcJ0MZNnTTTL3QZz2g/xI0c01fD2u9ra7qpY+6CqVdRGTxhzDPSVuMtoEtyOQ9/yoov8Qwom3NuyfKhIt30MYBXyRuwBUqYWZl0MnwHb1X0VtopF96PGB0f3db0KWx/T7RjswiJZ55KJ8ESgg8E/3DmKCfMPOJACvKIWJumqnKIO1cOeU6GUY7772uPO3iQIAtcsp1MsJfB+BzTtpibKxwROB9spd2I89csh51GNm2llEcZESDKdDGAW9xhmEYsQ4CQIfvvvsu1iEAAAA/11xzTaxDAOhxAwAAAACzI3EDAAAAAJMjcQMAAAAAkyNxAwAAAACTI3EDAAAAAJMjcQMAAAAAkyNxAwAAAACTI3EDAAAAAJMjcQMAAAAAkyNxAwAAAACTI3EDAAAAAJMjcQMAAAAAkyNxAwAAAACTizMMw4h1EAAAAACA4OhxAwAAAACTI3EDAAAAAJMjcQMAAAAAkyNxAwAAAACTI3EDAAAAAJMjcQMAAAAAkyNxAwAAAACTI3EDAAAAAJMjcQMAAAAAkyNxAwAAAACTI3EDAAAAAJMjcQOASDm4WnFxq9XYj12dr09X3MxKOSMe1ODgPFCm1bsvcekcXK24uDitPni5ncOtxmezNfUPreHt9k2tFt5aJMf5SMZyhbsUbSjgOaer8qvwd43JfRaKAVwTMJiQuAEATK5RW21FOuyOdRyXB/ffylRYPVXLZyeHt+MNdhUuOaa8ZxyiqK9E3GeA2ZG4AQAwaLSq4jfLlbikQFmW8PdOnlWovB1F2ngk8pEBAAaGxA0AoqpdjS8t1PSsFMXFxSkuLlEjbY+o7P32WAd2efiqUtPjsrVcUnVuou9wqe+dcry0UFPvSFRcXJwS75iqhS81yqdkO4dYvV+tR+5IVFziSE0vP+b5ZUfd9Lq/JF1sVe2zeRqZGKe4uBRlP1ymxm9CiP2bRm2cP13Zt8Z11H3iSE0Itu/ZY6pcMlUpcXGKuzVbj/zOIef3vpu0v1+mR2wjleh1LIffqDb3ga1avmeBCqZY+xfLtTZNn39KReure5YDfMWgfkNq8/6CDTP0fr23+0ztOvZ6UXjnbK/Vwrg4TQgwXNf5+nTFxT2i6s5yCqccw7mm7mDCjx8wKRI3AIgatxxLRij7uWO6Lnet6hx1eqeySNkXt6roZ3aV0avRtxtsWu7YoAJJthW7VOdYLtsNktSqyofTNWHRYSU+tlF1jndUNtOi2kXZGvFQpXwfFxtUOGOtLIu3qm5ToQqyRnTs/9AIZS+qlWVmmd7x2t/+fLPPUMENuRNU9mW2Sirr9M62HF29p0jZD21VrzPIzjtUdEe2So5fp7zSOtU53lHF4mxdLC9S9j1lavbbfMPDNi1vs2mto067Fo3Ux0smKP3h6q45j+6Dq2X72VqdSivURked6jYtUPKxIk1IXy5HV7BuNexZLefjdmUP7X8sWRMXylq+Vbs+67t6rlgxqd9w2nyYgt5nTlU/PFYjFzd7zlmnjY8l6thzfZxzqE05T0mOnQ6/bZxy7K6WHs/pOH6Y5Ri+fsYPmJUBAIiMxhJDKjEaOn8+845RmJls5FSe8t3u0y2GXfJ5/VRljqEZFYbfljAMwzAajBK/8jpbXWBI6cay9y76bHm2ttCwymosc3hebywxJBm2TR/7bHfRscywymoU7vPd/+R/2Y3kzGVG3b+697U+VWd4b3Vym92QcoyK1uARn32r0Mi6Jceo+NL39a59O18Pco6L+zquo6TRUwLPyND9FcZJ74Md22DYbsky1jZ27lRnFEpGzqs+W4UeS9cO7xgLJCO3itYYTCzqN7w27x9DgHru8XrP+6zjPrEbG4757fvpFsPufc4AOva1GVs+9XrxywojR+q678Irx/CvaSDxA2ZEjxsARMsNdq1tPKlds/yGrd0yUtmS2s9fjElYl792NezfKk1coIL/8J3INXRKnorSnFq9p8Gn18yWPsJnu2MHt8ppXajpE333T370HZ1sLJHt2u7XCu61yXur5BHZkqrV2svie0PvWauGT3cp90e+r3fs266LPgtApKso1/cclonTVSCnNhzo6HOw/sgu7d6gsvJGtXau+nj7AtV92qDCTM/PX7WqWdLYW30XJQkvFklDE5WcJlUepz8imEtfv+G3+UhoPrBazttHyHLKIccBr39fupUop1a/H7xPzJJlU4HVocoD3e3I+d4uVVuXyf6zjmsIu21ewvgBM7oq1gEAwKD3vVvtXx3T4dZWtf6tQY3V1doqSU6npDBX/oMkt9q/kZSWrMQev0tU4q2S2pxql2Tt8XtJcqr1mFP6WXJIpX/1QP5Snm9X62eH1draqubGRu3avbUjgm8k3dK5UbISb/DfMVkjZ0jOL0+pXelKnlGiDXuma+HD2dr4sJScmSN7bp4KZuQovfMiv3HKoXTZgy1KElIsUlcZftgqp7KClCEkXcL6HWib7w+nWo9LOl6mR2xlgTf59JScwc5psWnqfKtW73So9dECJXuGSVrz65Tt30ZDbpuXMH7AhOhxA4Cocav5pelK+f+u1nXJY5W3aKMq/+qW9bECFcQ6tCucO9pLnp9v1saZKYr7t+uUkp6nhS9VquG8VQUPhVnz11o6emquTdeCqpO6+OVh7dpWKNvVx7Rr0XSNTczW6oPeFxMgSYhULOgWs/qNgRkVOmUYMgL9ezWn16Qn654ipe+vluMzSV85tGunVQUTs7t7Hy9F2xxA/IDZkLgBQLQc2aiCRdVK33RYZ/+voVMf1qmuaoNKZmVpaN97IyiLht4g6UirTvX43Smd+lTS7cm9PJBZNSLdKr3X2nNxgr+tVsod07X1+MAibH65QAt3pmtD81kZxil97KjTrk0lyssMVPOtOtVjBb1WfbxTSk+8zneI3Y/SlZO/VlscH+vUmTotS2vU8lcdXivk9TxWeLEgFJe+fgfa5nvG4Pzy4z6ucqisSZJ2HtbH/c0d02zKS6tV9XutnmGSCzX17u4rHljb7OuaIhA/YDIkbgAQJc5jDWpWjqZPSddQr+F27QdqVRG7sAaBocqeWCDt36it7/s+kbXvqdDaI1YtyBoRZN8OIzILZHVu0K793vu71fjWLrV+M1Yjbx9IfE4d+2uzdP902dO8H0Db5dgfqOabVVHd6DM/qfX1DdqqdOXdnS6pVZWPZSvlYb8l+m9IVOKN3j9bZVOzzp733ijcWKSuROCO3hKBK1ks6ncAbd5iUbqadazV++itcuys7OM6LcqeskxWlWnjTr+PONoqNT0uRVO7vlojmHTZHkpX7Z5Kbd1drfTFdmV1/a4/bTOca4pE/IC5MMcNAKLEOiJbWSpS4cNFuviUXcmWdh3buVVlu4/pap6Iw2CRJU2q3rFV1Va7srPSZb1/mSpmZyvvZzY51xcpd7RFzve3avlvqqXZFSqc0vsn9pa7C1Q2e6vyJtnU7tm/9e0yLX/hlHKrCrweLkPhVOXMROXtLFGDsUxZsmpEVpa0uFCPLL6ownuSZWk/puo/lGnXp1cHSIbSZdmfp6nOQi2YlSy35zqSn2nQgjRJSpZtYrIuzlyg6Ve1quD+dFnlVPPODSran6WS52wdPbi3jFSWpMZjrdJ/dM7eCzcWSe2n1HpEWvBM78nvlStG9dvfNp9mU16mVDQ/T/AIvucAACAASURBVFb3AtmGtquxfLneseTK5pNOBrjPOu+Th7I1oblEhfcky91Wq4rnylSdWaKGGX23kfS785S+uEjLla61T6cPoBzDvyZLBOIHTCVWy1kCwKDj/3UAhmGcfW+tUZCZbEgydEuWkfPUFqPh1CnjncdlaMqWruW/+TqA3p18q9Cw3yJDsholf/W8+H9PGXXrFxj20daOJddH243CbYeNs947epZj71x23ddZo8Fr/+TMAmPte2f73rfH66eMihnyq/uzRkNpgZF1izzHzjEKtzUYp051LLVv33bS61g5RsWxw8aG/CwjWTJ0i91Y4H8dhmGcrC0xCu4eYVjVUQ4j7ik0Kj703uqiUfeUDOXv8ts3xFg6j7KvMPBS6/ASi/o1wmjzfvV3psFY23X+LKOgtME421ph5PhtF/A+87tPOt7HKoyP/S8gqJPGlokylLbWODzQcuzHNQ08fsA84gzDMGKSMQLAYHNwteKy5Ol1CY/z9elK3D1dp6pyGZ6GfnMfXK3srFYtP7NFOT1WMgzpCHI8nawJzo06uy2HuZgAYCLMcQMAYJCwZOZqwZSt2vp2P7+D7ZtaVT6fqLWLSNoAwGxI3AAAGDSSlfdMic6ur1RjP1bSa929Ve88XqKCtMhHBgAYGBI3AAAGEcu/F6os5x2V7Aiz1+2bWpWVJmvrM3Z62wDAhJjjBgAAAAAmR48bAAAAAJgciRsAAAAAmByJGwAAAACYHIkbAAAAAJgciRsAAAAAmByJGwAAAACYHIkbAAAAAJgciRsAAAAAmByJGwAAAACY3FWxDgBAt++++y7WIQAAAD/XXHNNrEMA6HEDAAAAALMjcQMAAAAAkyNxAwAAAACTI3EDAAAAAJMjcQMAAAAAkyNxAwAAAACTI3EDAAAAAJMjcQMAAAAAkyNxAwAAAACTI3EDAAAAAJMjcQMAAAAAkyNxA4ABch8qlS2+VE1BN6jX0vhcVX19KaPq5vrzepW+5bq0Jz1Uqvj4eJUeurSnDZnZ4wvFoVLFB2xXbjWtsSmnvC284327V4vHLFX9+UgFiEFpUN87gLmRuAHAAJw7vF65v1gVPGmT5D70J71hm6xxN12ysLw0afuUpTrijsW5EQvuw+u1tObn+vWspPB2vH6yFj15QvnP14vmAgDmQ+IGAP3hdqn+xVxl/2yp9vbRmdXSsF3WSWkK8zEa0TRuiS5cuKAl42IdSKS16Y1nV8n65BxlWMLfO2nGE3rg9aX6rw8iHxkGiUF77wDmR+IGAP3Q9GKK7MsO6se/rJZjy7RetmxRU410X0Zq1yvuT2pUOs+usSnxio+PV/wYm3KXVelEpIeofV2l3HibVkmqyU/xHRr0vUv1Ly9Wzk9SFB8fr5Sf5Gjxy006571/53CihhrN/0mK4lPGKnfHCc8vz6mpr/0lyd2mvWvyPdc6SrZ569X0bR9x93HeE1VL+z5vX/H5D/fqPOcnJ1S1LEejPPUy/8V6ub4PMbZQyjTUsvu2Sa/8Kle2MZ42kjJW9hDKzv3n7Vq1b67mTE7w/UWox7t2vO57zKmlm2oCxA3T497p970DXA5I3ACgHyzxM/X8nkbVrpmspP/Vy4afH9G7HzygjDGdP29Xbnqutl+4S8Wba1W7p1Kb7EN18MV8TVm+N7IPy9eP16/3rNMcSeOLK1W759caf70ktalqXpbsRUdkffgF1e6p1prpFu0tsin9kSr5zow6qOIHfy/LopdV++ITmpMxvGP/R9JlK9ory/Q1qvba//61LT7D7Db/51T9/qtMrfzvWlVvvleWfUtle2S7+p59Fei8LtXMy9bY4hZP3LV64WGrjv/OP+7Q4/PVps1zp2jVP+7Sc3tqVfn47Tq+zK6seTXy7VQNUiYhlWkIsZ2v19Kf2PTbE0P1QEmtavdUq3xRptw7lsr2f9arJWj8bjXtLZXr0cnKHOL1cpjHy7DNU8KO7Xrz8z4rCabEvRP+vQNcHq6KdQAAcDlK/WW5UvveTK6/71X9o3P0umfYWovjDbWNW6ltf1jSNZRt/J2TlfSDkbKvbdHxFycrI1JBWhKUemfHEM324Zkaf2dHL8y5t0qV/7pVS/bXamW2J4g7J2vy2KVKv79Y2x+6Vyvv7Bxn59LtS/do3ezhXYd1/3m7il+XFr39dz1v695/XEKOpr76pprmpWp858azNql69Xh1bDVew3VCo+bt1aEv5ijpx70FH+i8m/XkjuFa11ytubd5XrxzvKZNylDOmO64w4rPR4vabi6XY8vMjmGtd47X5OFDNPKeJ7X5ocm9lkmoZRpKbGl/fldN107Tmi2bNLNzXuSdkzXueqdGzTuoE18vUmqg+ZLuJr37ojRty3B5523nwj3e8FTdp1X6U4tLc27267nDZYB7J+x7B7hM0OMGAFFzTkcaajQtO63rQTr10VodPrDEb/6RRbePypR0Vu6orwpxTgcd2yXbXM3J9p0ENWTSL/SrMS6V7m3y+WT9rtThPtudOLRdroR5us/mu39SfrU+OrBS46/tfm3O1M6kzbPN8ExJNWoLYZFL//O21JfKddtwWZz1qv+z17+v3bLKpdKGlrDj85WgeY/N9JmLaLHdp3kJLm0/dMJnS9/YQi/TUGIbYn9ejg8qux88O7cZnimpXReDtZGv29QiKe1m39mUYR9viFVJY6SqT8JclRKmwb3jG12f9w5wmaDHDQCi5dxB7f3DNN33VM9eC/c5l744cVxtbcd1sGGvat7aK2maXN9Kiuonwm6d+1bSmCRZe/zOKustkv7h0jlJgde2cKntuEv6aVJIi61cHbG/Mi598YmkT9Zr/pT1gTf5zClXmPH5ylRSj7JPUtJPJVfLCbmUqsD9T6GWaZixnT+ntpNH9EVbm1qamvTm29slqaON3Bxg+29dqleqfh5sUZKQj+eJ+aMv5FJGkGvG5YN75/+xd/9RUV33/v+frE/vtyTkLu03uYvhpp9PgJj460bE+6n8uLcSJyuhjCtqxk9MxWspwcRErTHBGKl6vSRYDVFjiRpNVEr9gJV+GINZYkwWY01aEG+LknurkjQyNsllWNWvsKphuprvd3//AHRmGGCGHzLo67GWayVnzj7nvc/ZezjvOfvs02ffERkhdMdNRGSIeH73K3b5vwbgwlHyMuK58+/jmTJ9Ma/uq6QlKp0fzgs8ACkc/eUvw7hzezHnr17laqB/u2cRPVTxffObg7KZoGK70sCuBROJiv57JqZk8/ybBzhxNZqszKwgCsdiuXMwtyc3DfUdkRFPiZuIyBBpOHmABJ/XALRRucFOUesTOD65xNWrv8f5bhU71i9i5pgbFVUko+4EPnbh7vaZG/cfgPvv6eUuSzRjE6LhN67uE4zUFzLxO5mUfDKY8XYZRfT/ABynONfrcKeBxOfC3W3mOReu30BCQmwvxyTYYxpcbA27n+UFRwJbav+Lq1fPU3+kirKt63hi6qhuWw+mDgPbnox86jtq63KzUOImIjIkur8GAM7RuA+wzSb9bq/xbF83cvTQ8RsU1yiSrVng3EVJje9VXNv7v2Drx9EsShrX6xbGTs0iumUn7zi9y3uoO/wOrkuTGXd/j0UHIJKk9JVEU8Sug36XbhfKyYyaiL1zavH+x9fALyp9n+9rOXSAnS0JfD+tt6logj+mfcfWQuPvGmDmbNIn+UwxwvHqA73EANwZTRoNXPZ5rUR/ttd5wTyxtwReRg71nT77jsgIoWfcRESGQudrAF6a5L1wHAlPRcPGJ8n825+waMpoPO46fvHaTk7+Zahezx1J5CSo3F9CpSWd5KkJRM9cSfE8K9kP22jZ9BxPTIykpaaE/FcqYV4xyx7p/dfpyGlZbJxXQvajNto6y7uqfkr+G27m7ssKcVbMFsoXxJPtWIfz6spey17b70IrtoZ1PGeLxXPhPQ68VkTl1HU4Hxs74PgaNs7D3vISi+aOg/pd/Hh1JbFrnTw9qZdCwKggj2nfsUUTOTUJVq1i8ap2nrPFEtl6jsriIt757LbeE6l7x5EE1DW6ILWrPUUzNtTttblxfQyL1vaewMvIob7TR98RGSF0x01EZAh0vAbgQSb7TBQxivSCIxQvH8u5okxsGdnkFbtIXO+k5n8vIoETnP1ssKc9S2Dm2mWkf5ZPZsZjlJwBiGXuzlqqNk3Gvfd5bBl2VlV4mLmzhlO75wbx8H8sc3efwulVvrAuluUfnKLYPpSXR137nU1kdT72DBuZr9XBo8XUv7OSpDv81ws9vnUHDzLr6wP8OMPG86UeZhbXc3BVUg8TtfjFFtQx7Tu2hB8dxLn+e3iqFmPPsLH49eN8076X2g+2MBs40djTbI8JPLgcjtc1+LwPMNTteX73K3Yxi+QEDS+7eajv9N53REaGCGOMGe4gRKTDV199NdwhiNyaThYSNT2fdceusnLqcAfTf56ThVinu3jpjzuY5T9JSXBb4Pi6CdhaXue/ds5CqZv06SbpO325/fbbhzsEEd1xExERuVlETp3LokdKKKnq552FS0c5sMnChsVK2kREwo0SNxERkZtGLE+sXUfrjnLq+jHq1nWohPeeWkdWH88liYjIjafETURE5CYSOWUZG2a9x6v7Q7zrdukoRa/H8ubadN1tExEJQ3rGTSSM6Bk3ERGR8KNn3CQc6I6biIiIiIhImFPiJiIiIiIiEuaUuImIiIiIiIQ5JW4iIiIiIiJhTombiIiIiIhImFPiJiIiIiIiEuaUuImIiIiIiIQ5JW4iIiIiIiJhTombiIiIiIhImIswxpjhDkJERERERER6pjtuIiIiIiIiYU6Jm4iIiIiISJhT4iYiIiIiIhLmlLiJiIiIiIiEOSVuIiIiIiIiYU6Jm4iIiIiISJhT4iYiIiIiIhLmlLiJiIiIiIiEOSVuIiIiIiIiYe4bwx2AiMhNz/MJjjff5eLdiYz5u45FV/54ik//H4C/5Z4JY/i//y+v9WOmYB03ehgCFRERkXAVYYwxwx2EiMjNzFP+GN964h08wRZ4uQazNmUoQxIREZERRombiMiQ8uBceRsPXazg8l47uo8mIiIi/aGhkiIiQ+liFWWvWVjttClpExERkX5T4iYiMoSa3t3DHstSaqZHDncoIiIiMoJpVkkRkSHThHN/FYkv2NATayIiIjIQStxERIbKaQfbP7Cx5LHE4Y5ERERERjglbiIiQ8KDs3wTpzLsWMcMdywjm/vYZtYfdN/YnZ5YT0REBOtP3NjdhqLn4+Kh9pVUZrzdFNoGL1ax9L4VOK8MSngiYWtYvlNEBoESNxGRoeCpwVnsJuepOcQNdywjWi17rCuoD/pdCreKno+L57ebyXXMYM2CEFveXTZyV55l/svO4F9dITLi6DtFRi5NTiIiMgRaj5SxntVUZ/Q8l6T7tIPDHzTRGhmHdXocl/90mW/dl0ritzWRifRXE6X/uoaYlc2k9KMZxc3LZf59K9ieWU/u5MGPTkRE+k933EREBl0TFW/vwZJtJTXQxXPrKTbPjMG+18OU7FyWJNaT88AUHrLOp8KlpO2aL8qYE5HKGsCRGUNExBzKvuj87Gs3zjeWMuOBGCIiIoh5YAZL36il1bv8ifUdZX7tYOEDMUTETGBO8dnOD1up7as8QHsTVa/MZ0JMBBER8aQ+uZnai32H3vrrzSy0TiAmIoKImAk89ORmnP4js66cxdG17ZgJzFhZRZOrjDne9QxUhy2v9XhcPMf2sObIEnIyLL77uljL9sVzSL0vggivmLrV5Q4rcxY3s6LI0f1YyA036O3oC7+ygZYH01b66Ftn96/ou2/5622bwfT3YNbr7TtFZCQwIiIyuD7dbWwkmk2nAnz25xpTkIyxLCg15//aueyv1WY1GFhiDv/5RgYa5tqbTb1zm8kBY11bYaqd9aa53RhjzpvSBRYDKSanqMJUOw+b0pftJo7O49pVvrbAgMVYLClmyd7Dptqx2xw+610+zthfLjWHvcqn/KTetF8ri7FY4oz1qW2mwlltDu/NNVYLhozd1/cRKOzaApOIxdie320qnNWm2rHN5CRjsKw21e1da503ux+zGCxWk7v3sKmuKjWrH7UYS4bNWLGb0s97qcPpno5Lu6l+EcOzh81l74D+XG1yLRjL9ByzzVHdcbwKc0wKGJI3mXr/CtQWGAs2s/vT/p44GQyD3468/t/0sDzYttJj32o2FdlxBou1s29Wm4qiHGO1+PXNQPrsr33092DW6/E7RWRkUOImIhKky+8XGPtPakxff+frCxN7uLhvNhULLB0XSk1eiz8vNXYwZFf4XnCLMabGFICxlzVfW3LZkWMg0az+yPdMXK7KNRYsZrWzc3ln8mXdccZnvXbnamPBYnLf9y1//i2biUtebar/fL2s5cVqn/N9fq+t+/nzj/hlDI/5XaSe3WasY1LMptrOWA8tCVCH86b0cXwvpHuoQ6DjYtqrTS4Y+899W97lQ7kmZUz3i/ZrdfG/mL982CwBk1nebGT4DH476jtxC7qt9Nq3bGbbWb/9fLrb2Lz7ZiA9bDPY/h7090KgviMyQmiopIhIn1px/utDjH9kDY4f76Gqt6FyHicVW05he9zabVISz7FtLNnnJnHtCuyxXsvP1uMArN8ZT89PxEmHVmo+2AMPLyHnn32HlY7OmM+KyW7WH6nxmVzDmjjeZ72zJ/bgtixlzsO+5eOeOsz52gKsd1xfljPTivdaceNTAQdNvUxIZ/m2DQ5uY3NxLU1dMzSOW0L1pzXkJgN4qP9oO0yezxyfOsRhfyo34Db96xDQF02cAqbc59vyRj+6iZpPK8j8tu/qHXVppd1/kobRMcRNhrJzIc5KKYNqKNpRX0JtK/7t8tSx9bjHjSey2YnzmNe/zz3E4Gb9r0/1GYPvNoPt76F/L4iMRJqcRESkN62n2Pz0Eqo+d9Nxrb6H0g8KsM+zBFzdU+tkjzuH7Y/6p22tVO1bj5tEls5M8UoGPNR8UAokYksJ4uL8lueh9SIwOY6Ybp/FEHMf4HLTCgQ+Q26azrrhu3FBzfZ5Wz/+SsY9XsC2I3NY+mQq25+EuGQ7tsz55DxuJ9EC0IrbBdwX060OkfdNwU4/E6aLbpwkYuvpMckrrTT9oZ6mpiZO1dZScXAPAO6LgM8rKzqP43804Salh+MoQ23Y2hGE0Fa8uWk6B5zbzELr5sCrfNqMm576ZiDB9veBfi+IjAy64yYi0puvR2N/q4bq2jNUv9jxJ9+x73APl0QdyRl5mdju8vvIU09NMUAqieO8lp/ezprX3GCxkfoPQ1EB8ecZ6p/d70hkSfl52j+vp2JvLtbbzlKxbA5TYlJZf6KPnQ/459Q4Yvzb3pVTbJ8bT8Tffov4xPksfaOMmisWcn6QM9CdyVAajnY0GG3l8VKaOx7F6f7v53YlTiIDoMRNRKQ3d8URNxogEmvmChIBjmzHcTrAun+oYE+xhZyHU+l20+OiuzPZG01k14dXaln/7ApqAR5PZfwXTqr+c0hqcROJZPRdwOkmmrt91kzzp8C4uF4uDi2MT7TAR03dk+/frif+gTnsOTdIkX47EXv2JnY7z9D8p2pWT65lzc+dtGIhbhzwaXP3OrjO4BjQXpto9hvKe+rNHJb+MpFtpy5jTDNnnNVU7ChgfrIG5o4Eg9eOurcN9+dnfP5/YG1lNJZY4Jf1nBm0H0eC7e8D/V4QGRmUuImIBGuylfmTAU5R+kH3ZzWaPnJQNXkFc6YHGKv27TimWADWs3mDA+fBzcx5eA/N4zuHR7qrKChyM35c96LibTSpD+fAB9vZ82vfq8PWI6VsOm1hSR9DTscn52Bxb6PiA+/yHmoPVdB0cQoTBnQOmih7OpX4J/2m078rhpi/u/6/idNXYzldSoVPHVqpKtvT/13fZcHKKS5f8V7o5uy/n4LH5mCb7H3x3Yrzg9IeNtR5ofuALnSHzyC3o8hIEjnF2SbvrTXh/GWZ1//3p6347ITUjNVY2Mz2X/r9LOIqY05EPDOuvTIgWMH294F/L4iMCMM6NYqIyAjTMbua/5TcxhhTbzZNxljf6nnC6/PlOWa8BYNlvLG9WGrq/2RMc3mmsWAx1udLzRlNKRlAx3Elo8BU9Ot1AJiCWv9tdi+/+3mrsWC5PpNiT2W7LW/unMGvwNR0Lek6p09tMqVV1aa6qtRsyk4xkGIK/r39WrkKnxgqzLbsFGOxWALO3te9DoGOS41ZTfc2WL8lxYDFWJ/fbQ53Tiu/JCPOWMbEGUugbXfOKrnkkBrkcBrUdmTqzaZkDBabWV3W8dqAgsfjTMqCTJ/XBgTdVvrsW9e3UbE319jHYEguMDW9ve4khP7a79cBdB2Lbn1HZGRQ4iYiEoo/VZgcMIDPdPJd02Dr3VeD7/yhXGMbgwGLKfj3zoV/bTbVRUuM7R8sHdP2/4PN5O6t932dQo8XgsYYc9nUeJWPS84xmz663HfZIBI3Y4w5X1VgcqaPNxY64h7/aK4p/Q//ROiyqSnMMSljMBBnbC+WmjNVBUEmboGOS+d73Lq9VsJ7P5i4ZLvJ3Vtjmps7EjTbXt9Er/393MBTx8sNN2jtyBhj/lRjNmWnmDgwjEkxOYU15nJTqbH7rBdkWwmhbzEmxdhfDOKHqd62GUx/D2G9gN8pIiNAhDHG3NBbfCIiI1orjie/xZxiILuCy3vtjMaD88dxPOTe3vn/Iv10Yj0RKfWUft59SvZgeE6sJzWliTV/2o3df5KS4LagtnwzGGA7EpHwpGfcRERCMhrbgtUdz/4Ul1L1BXCxirINbnLn2XShK8MqMjmTJRl72PNuf18pUEXZhhg2LVPSJiISbpS4iYiEKDLFSo4FwEHpB000vbuHPZbV2L7b0wu0RG6UOOa/XMDlojJq+zGzX9PBPRx+toCcyYMfmYiIDIwSNxGRUEVamfNCIgBVRWtY88sqEl+Yg1V5m4SByP+Zy2b7YQr2hXjX7WIVmwvj2POy7hyLiIQjPeMmItIfpzczJXEFHS8FsLL702pyxgxzTCIiInLT0h03EZH+mGxnSUbnf2dkYlXSJiIiIkNIiZuISL/EMeepHABynppD3DBHIyIiIje3bwx3ACIiI9Xo7+awu9DKlAw9ESQiIiJDS8+4iYiIiIiIhDkNlRQREREREQlzStxERERERETCnBI3ERERERGRMKfETUREREREJMwpcRMREREREQlzStxERERERETCnBI3ERERERGRMKfETUREREREJMwpcRMREREREQlz3xjuAETkuq+++mq4QxARERE/t99++3CHIKI7biIiIiIiIuFOiZuIiIiIiEiYU+ImIiIiIiIS5pS4iYiIiIiIhDklbiIiIiIiImFOiZuIiIiIiEiYU+ImIiIiIiIS5pS4iYiIiIiIhDklbiIiIiIiImFOiZuIiIiIiEiYU+ImIiIiIiIS5pS4ichNraU8k6ioQuqGfE8e6jZasRe7Qit26SgvTMrj+JWhiepm1vJhEYWHWm7sTk8WEhUVReHJ/pbNpPzLQY/Kj9qihG5Y+hME1y9uWN8RCW9K3EREBoGnvoi8yu/x0rzY0Aremc6y5xvJ3nAcz9CEdpOqoyQjj9M6aN2oLUro1J9ERgIlbiIiA+biwCv5WJ7PIiky9NKxjz/HE/vzeOvjwY9MbjVqiyIiNyslbiJy62lrpHLjYqyTooiKimLi9MUUHmrsfpfhUh27ltuZGBVFVPwUsrfW0VbTfciO58MS8t9fRFZ6tE9xzyeVFD5jY0p8x36iJlnJXF1Oo/9QtDvSmP20m7wdlbQNRX1vNl+WkxllJR+ozI73PR9ft3D8zRewfyeeqKgo4r9j54U363yPa9ewq5pKFn8nnqj4KWTua+z8sI26vsoDeFwc3ZjdeW4nYn2miLpL/ahLMPECXGmk0mt/9tXlNH5STqbfsM2e2mJHW8681uaj4qdgCxSz2uLI0NWGP2mkfLW993bY17nvqT/1NDzRf3lv/SnYdtcfg9x3REYCJW4icmu5Ukfh7ClkvuUmbY2DqiNlLJvoYue8Kdg21l1P3q7UUfi/rLzgjCSr2EHV1kXcdnQej61+z2+DHuqOFtLyVDrJo7wWf1ZCZmImJVcfZNXOKqqOlLHDNpoTW7PJWHO028VFkvUZoveV8M5nQ1bzm8edabx0ZAtZQNqqMqqOvETanQAuyp9JwbbiNJYnX6fqiIONcyI5usJK4sJyfJ/4OsGqf/kpkcvepGrrc2Qlje0ovzAR64qjRM7ZiMOr/GObGnwS+50/nMFPv0hm3c+qcOycSeT7eVgXlhDaU2XBxuuifHkGmW+1kPxiGVUH15H8x3wyFu30218PbfHKcfK+Y+XVxtE8UVBF1REHxcuS8ezLw/q/imjwi0ptcaRwsXORnZ+1pbPuZ1WUbUrr3g6DOfc99qdQBOhPIba7UOs+uH1HZGT4xnAHICJyIzXsfp78k7MoPlPG3Hs6lqVNm8WDCXamLH+VA487yLq3c70Lcyk+Vnx9PetkCh+1Uses6xv01PHeVpi1eyze18oNzgO4pq5j79srrw1ZS5uWTuw3J2Db1MC5rekkeQc2NoHZ5POrhhay7vW7WyK+IqNJmDaZWKB1bDJp0zqOV9uhQrL3W1j5QRXrUjsP+rR00qfkkfjYKkp+MJN107rGD7YwLu8IWxaMvbZZz4clrNoPy979HRus18tPjbYz4+fvUPdMAmldK8/bgWN9Gh1rpTGWRiY+c5STF7KIvSe4agQbb8d6saw75mDl1M49PjKV2IVWsk/C7GsVCNwW2z58j7o7ZrFx9w7m3s31et3pZuIzJ2j8chkJd3sVUFscIRrwWJ1UrU3qaIfT0ki+s5X47KOc/DKL2LuDPfeB+1NouventqoQ210IBr3viIwQuuMmIreQBo4faIDli5jpd3E91p5FFkc58KHr+nrzfui73h1JzH16lm/BL100AJPv9Z0IIuGpKuqPrfR79cGkGQAAIABJREFUziiScROTgct4/MdljrIQOwnKP9HvwP3TxglnCVgXkZXq+3DXqEe+z/JJLRQerfO5a/Zgwlif9RpPltAS/Qyzrb7lY7Md/P7YOtLuuL4sa0ZX0ta5zthkoBJX0JPyBRtv13pZzJ3qs0fmPpnlu8ke2uIo2wacH5ddv3j2ibmVdrXFESv9oSSfdhgdOxmoxNU5jDHkcz8A/v1p6PY9BH1HZITQHTcRuYV48HwMaU/fQ7d5G+60EAuUtHRceV/+GGYt675e7L2TgdPXF1xq4TgJfK+HiSA8bS1caDyHy3WOEzVHqTx0FJhFyyXA54LGgmUM8PsLtJCE7nOEykPbJWBSLJZun3Ue2z+20Abdzz0ALbjOtcA/xRLMXIy3DfivZ7DxXqatBZg6rntc94zH52eEPtoiV9pwnT/NBZeLhro63nm3BKCjLd4bYP9qi2Ev6HYY9LkfAoO+7yHoOyIjhO64iYj483hCnA49Fov/MyEXjpKXEc+dfx/PlOmLeXVfJS1R6fxwXlrALcjw+8tfhjuCwNpDeq9agLZ4pYFdCyYSFf33TEzJ5vk3D3DiajRZmbrrcNMbznMfBu0utL4jEv6UuInILSSSyElw/A8XAswg6cYFzLonGiJHEzMJKv+z+3otrtP+JQEXbp9Z0tqo3GCnqPUJHJ9c4urV3+N8t4od6xcxc8wgVke8RDLqTuBjF+5un7lx/wG4/55e7h5FMzYhGn7j6j5pQX0hE7+TScknwxHvt7DcC5w81z2uL12c6FbWvy1Cw+5necGRwJba/+Lq1fPUH6mibOs6npg6qltpubkM/Nx3b08tX5y9QfvuyVD1HZHwp8RNRG4hCaQ9kQBbd3Hogu8njY4SSkgiLSH2+nr7f+a3nov39lf6FrwzmjQauOzzy+45GvcBttmk3+01bu3rRo4eOt5DbJ0XHBN7Sy6kZ6NItmaBcxclNb7pdtv7v2Drx9EsShrX6xbGTs0iumUn7zi9y3uoO/wOrkuTGXf/cMTbtV4J5Sd94zpeuROfR+oCtsUWGn/XADNnkz7JZ8oSjlcf6CE2tcWbQ3/OvZfISBJo4JzLew5cF8cPlg/9vns1BH1HZITQM24icktJWPg66yqtZE+3c3bjIh60eDhXvotXi4+TtNZJ1oSu9Tawcq+N7Ef/gmtNFkmj3bz3ej4HGv0uZe8dRxJQ1+iC1K4nKcaR8FQ0bHySzL/9CYumjMbjruMXr+3k5F96eIKqzY3rY1i0tvfkQrp03D2t3F9CpSWd5KkJRM9cSfE8K9kP22jZ9BxPTIykpaaE/FcqYV4xyx7p/Zf+yGlZbJxXQvajNto6y7uqfkr+G27m7svynQW0Ty2UL4gn27EO59WVAcuOCjLeUTNXsmOmlcXft+N6cRFPTISGt3/M1t/4bTBgW4xm7NQkWLWKxavaec4WS2TrOSqLi3jns9sCJ2ZqizeJUM59gP40KY3vT4W85dlEexbx4Og26vbl894355JGX+OK+9HuQjDofUdkhNAdNxG5tdyRxMp36il72sLxAju2jEyKfh/L8oO/p2qV1wxtd6Sx7piTDaluSrLt2J75Ke70/Rxcn+y3wQQeXA7H6xq83s02ivSCIxQvH8u5okxsGdnkFbtIXO+k5n8vIoETnP3M95diz+9+xS5mkZyg4WvBSWDm2mWkf5ZPZsZjlJwBiGXuzlqqNk3Gvfd5bBl2VlV4mLmzhlO75wYx6Ugsc3efwulVvrAuluUfnKLYPhT3noKNN5ast49QPC+SE69lYsv4Mb/6H+s4svMZv+0FaouQ8KODONd/D0/VYuwZNha/fpxv2vdS+8EWZgMnGv3eBqe2eNMI/twH6k8JLPs/TjY80kp5th3bip24/nEvB9dmMHpQ990fg913REaGCGOMGe4gRKTDV199NdwhSB9c+zOZuHAszqvrrt1F8ZwsxDrdxUt/3MGskF9cC+Dh+LoJ2Fpe5792zkKXyxKUmnyiHm70eSeh2qJIEAL0nb7cfvvtQxuTSBB0x01EpJs2ji6fiHV5pd9zEC5OVlWCfbzP3ZvIqXNZ9EgJJVX9/AX50lEObLKwYbEulKW7hjesTMkoosFnqYe66qMQPZl7vC481RZFrgul74iMBP/t3/7t3/5tuIMQkQ5//etfhzsEASCSv/v/PuPVVT/lN82R3HHHVVoaT1L+b0/zvGMs63a8TPrd3o8Ij2bc/X/DnvzfM+5f/olvh/j0sOvAj1l7dy5vZo3p4R1jciuz3NbGgX/N4+fn/oa/u+NrLn7ZwNHXVvL8NhczthWyZKL3wDW1RZEuofWd3v3N3/zNEEYqEhwNlRQJIxoqGV5aPiwif8PPeO/DRlqIJWlBFs8tW8SsCYHuRXio22jj1ei9OLKDeYVzp0tHeWH6UdKPbSG9X0Pb5FbQdqacjRt2cshRh4toxtpms+hHL7FoWqBn79QWRbqE1nd6pqGSEg6UuImEESVuIiIi4UeJm4QDPeMmIiIiIiIS5pS4iYiIiIiIhDklbiIiIiIiImFOiZuIiIiIiEiYU+ImIiIiIiIS5pS4iYiIiIiIhDklbiIiIiIiImFOiZuIiIiIiEiYU+ImIiIiIiIS5iKMMWa4gxAREREREZGe6Y6biIiIiIhImFPiJiIiIiIiEuaUuImIiIiIiIQ5JW4iIiIiIiJhTombiIiIiIhImFPiJiIiIiIiEuaUuImIiIiIiIQ5JW4iIiIiIiJhTombiIiIiIhImFPiJiIiIiIiEuaUuImIDJcvypgTEUHEtX9zKPtiuIMSERGRcKTETURkOHxRxpz/Pp8ptQZjDMY0U/q4g/kvlOEe7tjCkPvYZtYfvMFH5sR6IiIiWH/ixu524DzUvpLKjLebQit2sYql963AeWVoohIZqG7fA/3toyfW64cyGZGUuImIDIdvZ1JhDKuTuxZYsD5mH86Iwlgte6wrqPcMdxwjg+e3m8l1zGDNgrjQCt5lI3flWea/7ESHWsKPvgdElLiJiAyrWtZ3DpWMyXQMdzAy4jVR+q9riFmZQ0pk6KXj5uUyf98Ktp8e/MhEBl3yaozPD2AiNzclbiIiQ6D1P8tYMXMCMRERRMRMYMbi7dRe9F6jK2FLpb6sGWMMzWW649bNF2XMiUhlDeDIjPEd3vS1G+cbS5nxQExH4vvADJa+UUurd/muIVG/drDwgRgiYiYwp/hs54et1PZVHqC9iapX5jMhJoKIiHhSn9zsdy570srZ/St62X4rVYtjug/ZuljF0pgIYn7g6Bg221WHc2cpWzmD+IgIIu5LZeFrTtxf++7Rc2wPa44sISfD4vvBxVq2L55D6n2dz1PGTOChQPW4w8qcxc2sKHJ0Pw5yg9349hNSn+rcXu/9oq86BLm9nr4HAg2VDLati4xERkREBlWzI8fEYTHWp7aZCme1qXZsMznTLQZLpilt6lyptsDweKlp9i5XZu+27JbX3mzqndtMDhjr2gpT7aw3ze3GGHPelC6wGEgxOUUVptp52JS+bDdxYCwLSs35rvK1BQYsxmJJMUv2HjbVjt3m8Fnv8nHG/nKpOexVPuUn9ab9WlmMxRJ37Vwe3ptrrBYMGbuv7yOgZlORHWewWDvjqzYVRTnGavGL7/MKk2nBWJ49bC4bY4y5bA4/azFYlpjDf/KuQ6JJSbaYuMc3mYrObaWAsSyo8Gov7ab6RQzXttXpz9Um14KxTM8x2xzVHceqsKM8yZtMvX/otQXGgs3s/jS0UyWDaTjaTyh9KtGkJF/vF12x+faLIOsQzPZ6+h7o7KMFtZ3bCrat1xYYsJvSzwfznIkMPSVuIiKDqb3arLZgbDvO+H1w3uzOwFjyqr2SggJT0/Vx5wWIErdAakwBGHvZ9SNz2ZFjINGs/qjdZ83LVbnGgsWsdnYu7zyuVr/z0e5cbSxYTO77vuXPv2UzccmrTfWfr5e1vNh5zrrW2WvruOhrMj3q2L7NbDvr98Gnu43NOz5jTHN55rVYLh9a0j2urji8L3aNMe3v+9W1vdrkgrH/3DelvHwo16SM6X6Req0e/hevlw+bJWAyy9USh8twtJ9Q+1Ti2hqfftFcZvdpT0HXIcjtBfoe8E/cgm7rStxkhNJQSRGRwfRbJ+vd4xkf2YzzmNPrXxOeb4N7Qy2nAJJXU/PyGlK7XgWwJY7m2gL4ZQVOzXTWh1ZqPtgDDy8h5599H+QanTGfFZPdrD9S4zPBhjVxvM96Z0/swW1ZypyHfcvHPXWY87UFWO+4vixnphXvteLGpwIOmnqZ5PLUsfW4x40nstnp2w4+9xCDm/W/PnVtXcvjm9m+ADb/6wzmPL2dmLUOCh72f0DNwtLFmXhPNxL58ByWWtzsOdE59POLJk4BU+7znZRk9KObqPm0gsxv+26xox6ttPtP9jA6hrjJUHYuxFkpZdDc+PYTep+yPZLi0y8scVMAB01fhF6HYLYXjJDbusgI843hDkBE5Gbi/vwscJbNTz7E5oBrnKHZDVggZa3BrPX91JghD/Em4KH1IjA5jphun8UQcx/gctMKWLp9DuCm6awbvhtHMPMu3hbyX0o3TeeAc5tZaA3cCvi0Gfe1+CzYf7IZ+3+fj2PcaqpX+l7Adkgl7tv+y+KI+y64T53FTSKWi26cJGLraVKSK600/aGepqYmTtXWUnFwT0e0F4Ex3it2HsP/aMJNSg/HUIbOcLSfmJD7VO/9ItQ69Kef9SLoti4ysuiOm4jIoLNT+nnX+9n8/5Vi15XwsPPciF/eHy+lOWAbMJif230SIs/ZemoAzu2hqjbE4CJ97gcSc5ff51dOsX1uPBF/+y3iE+ez9I0yaq5YyPlBTr+qJTfIsLSfQRZCHQaF2rrc5JS4iYgMotF3xQEO6s9qTM7QiWT0XcDpJpq7fdZM86fAuLheLgotjE+0wEdNdBsM+Nv1xD8whz3nBhLfaCyxwC/rORNMM7jiZM0PNsOLFVS8CJt/sCbAS7CbaO42K14TTR9BYqJ3Xbuvd+rNHJb+MpFtpy5jTDNnnNVU7ChgfvLokGsmN8JwtJ+B9qkB1mGQqK3LzU6Jm4jIIIr8ro3VFtj8tsMvKWiibG4E8TP3cLaHshKs0aQ+nAMfbGfPr32vCluPlLLptIUlKeN7KNthfHIOFvc2Kj7wLu+h9lAFTRenMGHcQOKLJDVjNRY2s/2Xfqmhq4w5EfHMuPZKAg/Ol+ezmSXsWWnHvnIPS9gc4CXYpyh11Poscx8sZZs7kfnTEzsW3GXByiku+1y0uzn776fgsTnYJntfvLbi/KC0h/g7L9QfCOVCXQbPcLSfgfep/tdhsPSnrYuMMDd2LhQRkZvf+bJMYwFjmZ5rdldVm2rHbpP7eJyBFFNQ2973BsRPvdk0GUNGgano1+sAvKYLv6Z7+d3PW40Fy/XZFHsq2215syl9HN9ZQq9t32Ksz+82h53VpmJvrrGPwZBcYGr+3LFW18x+3jM4dsym5zUzYNeMo16vmKgo7Hx1wcveM/HVmNVgrG/5zipZvyXFJ45qxzazJCPOWMbEGUug+nXOKrnk0GUjw2U42s8A+1S35cHVIfjtBfge8Fsn6LauWSVlhFLiJiIyBC5/tM0seXS8sYCBOJPyeK4p/Q9dCPfX+UO5xjam4+Kz4N87F/612VQXLTG2f7B0THf+DzaTu7fe9x1mPSZuxhhz2dR4lY9LzjGbPrrcd9mgErfu22dMirG/WGrOdO3izzVm9eSOV0D4plodr45g8uqOi9uu/VXVm23ZKR0X0v9gM7llZ3zr2vUet+wKv+WXTU1hjkkZQ2c97SZ3b41pbu5I0Gx7fffe/n6uLmrDwo1uP2ZgfSrg8j7qEOL2un0PdFsnyLauxE1GqAhjNIeZiIhI2DqxnoiUNRTUGlYn976q58R6UlOaWPOn3dj9JykJigfnj+N4yL2dy3vt6Mmgm0AI7UdEwpuecRMREblJRCZnsiRjD3ve7ec72C5WUbYhhk3LlLSJiIQbJW4iIiI3jTjmv1zA5aIyQp0VHqDp4B4OP1tAzuTBj0xERAZGiZuIiMhNJPJ/5rLZfpiCfSHedbtYxebCOPa8bNPdNhGRMKRn3ERERERERMKc7riJiIiIiIiEOSVuIiIiIiIiYU6Jm4iIiIiISJhT4iYiIiIiIhLmlLiJiIiIiIiEOSVuIiIiIiIiYU6Jm4iIiIiISJhT4iYiIiIiIhLmlLiJiIiIiIiEuW8MdwAict1XX3013CGIiIiIn9tvv324QxDRHTcREREREZFwp8RNREREREQkzClxExERERERCXNK3ERERERERMKcEjcREREREZEwp8RNREREREQkzClxExERERERCXNK3ERERERERMKcEjcREREREZEwp8RNREREREQkzClxExERERERCXNK3ERuGS7KF8aTWd4S8NOWD4tYnDGF+KgooqImYn2miOOBV+2mrWYXLzw2kaioKKImWVm89TgtX/dRpuoF4qMyKf8yxGqEIc/JQqxRhdQF+rCtkfLVmVgnRREVFUX8d+zklTfSdqODDEMtHxZReCjIRjZYThYSFRVF4cn+FR+WmEPmoW6jFXuxK7Ril47ywqQ8jl8ZmqjCwcg4f30b9HqcLCSqr+/jAfSdm+W4iww3JW4it4KvXVSueJLs/YH/cLrKs0nJ2Irr3kW8fqSKqv3LGNeYhy0lm/ILvW/ac7KQxx5+gdPRyyg7UkXZs+NwFdlIeaacHi8bL5SzfOkuboY/4231RWR+Pz9w0naljsLZU8h+F763xkHVEQcbbXAgewqPbazDc6ODDSt1lGTkcXpEHYSREbOnvoi8yu/x0rzY0Aremc6y5xvJ3nD8Jm2bI+P89W2k1WOkxSsSvr4x3AGIyNBq+7icjS+toujDHtIkz3FKVpVjWeXEsTaJSADSSLOOY9QkG6v2/pCZ+Wmdy/018NZz+dTZizm/cy7RANPSSB87igmPrqJ88VxWTvEv46J8TTYX7kli2DK3LyvJ29HK7GVZJEX3cxueFo7vfJ7Fqyt7TFBdB18l/+Qsis+UMfeezoXT0pkaa2fi0lc58LiDrHv7uX+RgFwceCUfy/PnSQrcaXsV+/hzPDEpj7eeqGHZpMGPTkawqSu5enXlcEchckvTHTeRm9mX5Tybkk3Rl8lsqXWwLtA6n5yj7g5IfyjJNzm7I4kH7dByvqXnYX0tbppHj2XRvHS885/Iu2Kw0ALdhkt6qNv4JNkUs3f99/pdrYH7Cxe2LsYaH8+U7CKOfhb6wMW6rfHYVp/gnh85cO6eFWCNNhp/7yJ65mym3uP7Sew/pZPEUVou9S/6Ee/LcjKjrOQDldnxvkO0vm7h+JsvYP9O/LWhpS+8WefbBruGddVUsvg78UTFTyFzX2Pnh23U9VUewOPi6MZspsRfHxpc19v56CnmnmLpaeiZ//Ku//+kkfLV9j7i6btung9LyH9/EVnpfr9IXKpj1/LrQ3aj4qdgC7SPO9KY/bSbvB2VN9dw3hFy/vo8T731HdpoLM/ru+1f8Yo1fgrZbzYEd4fVf6hkMHUfpHgrvfqqfXU5jZ+Uk9lt2GYQ2+v1u0Mk/ClxE7mpfZN7lhdT/1EZiyaNDrzKpEVUfXyVdan+HzTS+BvgzlE93G0DotPZcKSeLbZR1xZ5Lhyn8JWtNExdR7rfL/aek0XkvXUPxQVziQ32fv+XHX+go3r51/XHu25j7+tFLSjvuMl391z2fuKkeO33GP27POyT/p6JCwqp/Dj4S9XIqLlsOFJL1cZ0Yv9boDVGkb6xnvP75+I/YK3tXAN1JBDZjzsiN4U703jpyBaygLRVZVQdeYm0OwFclD+Tgm3FaSxPvt4xtHROJEdXWElc6D/09gSr/uWnRC57k6qtz5GVNLaj/MJErCuOEjlnIw6v8o9t8r043fnDGfz0i2TW/awKx86ZRL6fh3VhSc/De3uMuadYQuFi5yI7P2tLZ93PqijblBYgnmDq5qHuaCEtT6WTPMpr81eOk/cdK682juaJgiqqjjgoXpaMZ18e1v9VRINfNEnWZ4jeV8I7n4VYjXA2Es5fMOepx3q0UPlMKlNWNXT2nSpef9LCudf8+04DRY9OIXu/h/R8B1U7VzG+Jptn3zrdzwPbR90HHK+L8uUZZL7VQvKLZVQdXEfyH/PJWLTTr68Guz0Y+PkWGT4aKilyM7t7FhvW96+oq3wrWz+OZuWraYzqe/WOBOv+bCoB7l+G472VJHgnJpeO8uPv72TytlMdwwaDHSZ5xz2kr99Aci+rjO28AIuetKH3+t55z7UkNPLuJOauSmLuqi20nDzEgbJf8OOUfJ6flsVLeevImhbdc8IKJPyomIQgq+DjSh27Xi+BR3Yw81YdihYZTcK0ycQCrWOTSZvWcXeo7VAh2fstrPyginWpnUd/WjrpU/JIfGwVJT+YybppXWelhXF5R9iy4PpFl+fDElbth2Xv/o4N1uvlp0bbmfHzd6h7JoG0rpXn7cCxPu3a0OCxNDLxmaOcvJBFrN8d0t5i7ikWQprAoQGP1UlV11DlaWkk39lKfPZRTn6ZRezdQdbtG3W8txVm7R7r02fbPnyPujtmsXH3DubezfWyd7qZ+MwJGr9cRsLdXgXGJjCbfH7V0ELWvf0dSxxmRsD5mxzUeQpcD8+HO3l+31i2nHKw6P6usmnMeiQJ+6Trfaft0C7yTiax7piDlVM7W/8jUylfMJFyAo0cGGjdBxpvIdn7Y7vFG7vQSvZJmN1ZNNjtdQhwvkVGCCVuItJNmzOfJ7PLiV3r5KVpQd4W+nosWUeqyHI3UPlmHvYUN8XHijuf7XJR/tKznH56P1W2oNLA60YlkbU8KahVY23LWGYLbfMQSfTUuSybOpdl+XXsWvgsL2TE03bsKiunhrqtPlxppGT5PPIvzKX4Z1nd7sTd2to44SwB6w6yUn3b3KhHvs/ySUXkHa3jpWnXn7d8MMH3wqvxZAkt0c8w2+pbPjbbwe+zffeWNcP3uc3YsclAPq4WIFDi1gf/WELlP1Q5OnZyRzxfAncHWbfPXDQAD97r27JG2TbgDNAvOur8K9r9x8mNshA7CXZ94qKYmyRx60NYnL9Qz5OXhuOFtNy/jEj3cY67vT/xYKGFwpoG1k1L4HRdRx+bO9Wn9TMzexk4+piJqgd91b3/8Y679p3gH+/cJ7PI3l8Y4vau/x0Z6PkWGS5K3ETEh6t8MTOyS4heUcXBVUm93nXycU8C6fcApJFuS2DUJBvZG2aTvnMWl4tfIPuzZ3BuDWF7N4zn2h23XW8fpX1aFluOHCFrsJO2tjoKvz+P/MY0drz35vXJSqSTh7ZLwKRYLN0+s2AZA/yx43nLwG2oBde5Fvin2KAS4tvC7K9f7/EEWbdLLRwnge/11MmutOE6f5oLLhcNdXW8825Jx9YvAT6T5HQe799foIWkWyR1G5hBOX9dgj5P17d/4RPgkyIWZxQF3uYf3LQQS8sfCdjHIu+KIYH+JW6h96Vg442mrQWYOq77cbtnvNf9wWC3h9qyjHh6xk1EOrVRt8mGNfs9xm6soSo/yCGSgdyRxuxsYF8j56ijfOlROJmPNdrrebPp+UAl2fdHEdXTO9BgaJ5xAzxf1lG+cTHWSXcSPz2bXZeS+Untf3H+yA4W9TFMMmQXyln8XSv5ntk4jhWTdX/4pa83g7/8ZbgjGDrB1y0Wy51+i640sGvBRKKi/56JKdk8/+YBTlyNJisza5CjlJ4Edf4Gep7sxZy/epWrgf7tntV70hI1ih6egh46QcTbHso7BQdSf5ERIsx+cxSR4eHi6Ionsb8Ji37pZIstyEF89buw/rCE2f/bf+pwDx4PEA2RjGPWkSq6DXZsPIBtuYuV+17iwbssjOtpH0PxjNuX5Tx5fzaVRDN27gYcB7NIv7ffaWqvPB8XkTk7j9P/uIGa4mUk3DEku7kJRDLqTuBjF27S/H5hd+P+A2C7p5eLr2jGJkTDDhcu/H5Zry9k4qLTrCwt48amKi7cl/AZLtbyxdl+bCeUunXfZ8PuZ3nBkcCW2hoWTfKaSMiZx+J+RHPruLHnb3JVf8/TKKL/B7D1FOfenkt0j78Lda4XoI95LpzjOPDDftQudMHG+y0s9wInz+Eiyfc74UsXJ4DJIW1PZORT4iZyy+uYot/+Jqw7VnXtAfCg3BvL5M8a2HrgOE9P8npm6MIhfrYfohckMZZRRE5Lo9sTBZF1QCvjk9JI6+E5CGCInnH7Jvcs34FzIO9xC8aFcp6dncdpazHO3d1nlxRvo0i2ZsHbuyipeeL65CRA2/u/YOvH0SzK7zG9B2Ds1Cyi1+3kHecykq49S+Sh7vA7uC7NZtz9hDjpxABERpJAA+dcbXDtItzF8YPl0I9JIIKq22fRpNHAZZ+7FC00/q4BZi4nfZLPlCUcrz7Qw946E+VZvSXKN7kbfv5aaHwl1PN0LViS0lcSvbWQXQcXkeb94vUL5WROyMez04FjwVgmpy0ieqt/H3NxqOwA9Prz2GAKPt6O74QSyk8+4fW3ycPxyp1e81sFvz2RkU6Jm8it7uO3yHulDqZlQc1bFNX4fX5nElkLkhgFtJRnEp9dybquiTtGpbOseC7vZGdjb3uJRXPHEemuo6Qgn8p71uF8sacXdw+zAcy2Gbw2jr6+ivKWscyKdnNoa/dnL8Y+uoz0ewFaKF8QT7ZjHc6rK7vfnbwpRRI5CSr3l1BpSSd5agLRM1dSPM9K9sM2WjY9xxMTI2mpKSH/lUqYV8yyR3q/Kxo5LYuN80rIftRGW2d5V9VPyX/Dzdx9WSEe10DnJEDMPRWflMb3p0Le8myiPYt4cHQbdfvyee+bc0kj9DGdQdXt3nEkAXWNLkjtuniNZuzUJFi1isWr2nnOFktk6zkqi4t457PbAsff5sb1MSxa23uiPPKE8/mLJjLo8xSgHl3bX2jF1rCO52yxeC68x4HXiqjWC0MbAAAgAElEQVScug7nYx1Jy6hHlrFx3jtk/4udlhcX8cREaHj7x+Q5gp3mtz8GEO/MleyYaWXx9+24vOLd+psejm8f2xMZ6ZS4idziGo7/ouP5sg9LyP8wwAr2Yp7oTNwCiZ1bTK2liPx1RWRmuODeJLIyy6h/dhZjb+VhgW0nOPp2C9BC5da8jtck+FmX2pW43YoSmLl2Gb9alU9mxk7WfXSelVNimbuzluh/fJWf7n0e25kWoiek88TOGlYtSAjimctY5u4+xT3/mM+rneVjp2ax/IP9LEsdjKGwAWLuZd1l/8cJq/PYlW2n8N4ksp7cy8HHLvDs/nf6se9g6pbAg8uhsK6BtuzYa8cr4UcHcf6/eeTtXYz9DYidOouZT+6l9pFWXo23c6LRBVOv36Xw/O5X7GIWxQlDM3x4+IT3+Qv+PPXQd65tPx/7Gy1wbxKzHi2mfuVcr+/izj62LZ/8NzOxfRZL0oJFOPddxrpgqF5EPbB4s94+wm0b8tj4WiYlLbGkL1/HkQUupjyW38Px7W17IiNbhDHGDHcQItLhq6++Gu4QRGQE85wsxDrdxUt/3MEs/0lKgtsCx9dNwNbyOv+1c1b/JygSGUo1+UQ93EjxmbIbNkPv7bfffmN2JNILzSopIiJyk4icOpdFj5RQUuXq3wYuHeXAJgsbFitpk+HX8IaVKRlFNPgs9VBXfRSiJ3OPXqsitxglbiIiIjeNWJ5Yu47WHeXU9fLC5p64DpXw3lPryJrU97oiQy0hbTajP8wjc0Eh5e8f5/iHlexaamfeRjdzN869RZ4HFrlOQyVFwoiGSorIwHmo22jj1ei9OLJDmMv00lFemH6U9GNbSO/XMEuRwdd2ppyNG3ZyyFGHi2jG2maz6EcvsWjajZ3zVEMlJRwocRMJI0rcREREwo8SNwkHGiopIiIiIiIS5pS4iYiIiIiIhDklbiIiIiIiImFOiZuIiIiIiEiYU+ImIiIiIiIS5pS4iYiIiIiIhDklbiIiIiIiImFOiZuIiIiIiEiYU+ImIiIiIiIS5iKMMWa4gxAREREREZGe6Y6biIiIiIhImFPiJiIiIiIiEuaUuImIiIiIiIQ5JW4iIiIiIiJhTombiIiIiIhImFPiJiIiIiIiEuaUuImIiIiIiIQ5JW4iIiIiIiJhTombiIiIiIhImFPiJiIiIiIiEuaUuImIiIiIiIQ5JW4iI14TZT+IYc5+d8BP3cc2s9A6gZiICCIi4kl9cjPOwKt20/rr7Sy1xRMREUHEfaksfM2J++s+yry7lJiIOZR9EWI1wkYrta8tJPW+CCIiYpgwcyl7ftsaXNErZ3G8Mp8JMV1lV1D2n32VPcXmlAgiXqkdcOQ3K/exzaw/GGSjHSwn1hMREcH6E/0r7jm9nYUpnX0nZg21ffSbweWh9pVUZrzdFFqxi1UsvW8FzitDExUM33Hp1oYGeH4HzYn1RIzo78uRaVi+U0QGgRI3kZHs6yYcy+Yzf1/gP0BN++eTaN1E05glbHdWU+3IZcLZFTyUOJ8yV++b9pxYj+27S6m35FLhrKZi2QSatjxE4pNl9Hg56CpjydPbGbl/DlupWjye1C1NTFhWQXXVZuZHVrHwOzbW/9bTR9kmyhZbmbOjFfuWw51lHcx/wMb6Ez2V9VD7yhJWDPfFY1irZY91BfV9Hf6w0oTj5aXswcbuqmqqy+Yz/hs3bu+e324m1zGDNQviQit4l43clWeZ/7KToTncw3VcRmIbkqGj9iAjmBGREenyqVKTO91iAAMYe1mz7wrt1Wa1BZO4tsa0ey//c7XJtWAsedW+y33Um02TMTxeary32v5+rrFgMQX/HqjMeVP6OCYlOcWA3ZR+3v+69dvnFSb3xd2mprnvVQM6tckkYjG573sfmY56kbHbnO+l6OVDSwwkmoJa37K7MzAsqDCBQmr/aLVJtKSYlMkYXq7pZ9A3uxpTEKh9D7XaAgOYgtr+FO6IeXjOaUeb6/fx+nO1ybUkmk2nBjeqDsN1XIapDQWjtmD4vi9vWWHcHkT6oDtuIiPRF2XkJM5n8+epbDt1mIJA65w7S+0dYHskhUjv5XekYn0c3H9w0+MgPnczzd8az5IFNixeiyP/LoYY3NBteJOH2lfmM59SSl+b0e9qDZyHptcWkhoTw4TMzVT9Icghjp1OHSvllGUpcx72PmJx2BYsgSNV1PYynKnJdZaU6fOxJXuX/RYxsYAnwE+7rjJyHq/C9ss9LL0vpDBvHV+UMScilTWAIzPGd0jZ126cbyxlxgMxREREEPPADJa+UevbpruGof3awcIHYoiImcCc4rOdH7ZS21d5gPYmqq4Nf+0Yalx7sZeYT6wnojNm/jWViIiIjmHMvcVysZbti+d0Ds+NICJmAg8F3E/fMXuO7WHNkSXkZFh8iwa7jzuszFnczIoiR8/fD/0xXMelpzYUaKhkKG3q3FnKVs7ovV0EHX8wgmiv/Yg/vjOu+a91rNf62+tDWeNtKyg75+m9bE9D6Af7WNLK2f0rBr693r5TREaC4c4cRaQfPq8wuS+WmjOXjQn918POu2nPHjaXQ9hle1O1KXjUYkguMPV+t+raawtMiiXTlDaZ4H9B/rzU2DvvFvb0r+tuR83Lva/nfWew/fMaU/pyjkkZ0/FZ3OMFpuJUMDVtNhULut9lNMYY8+luYwWz+qMgNnPtoFw29WVLTAoWk1nuv8XzpnSBxaS8XGPaTXPHHT3dceuuvdnUO7eZHDDWtRWm2llvmtuN6Tp+kGJyiipMtfOwKX3ZbuLAWBaUXr8zWltgwGIslhSzZO9hU+3YbQ6f9S4fZ+wvl5rDXuVTflLfcSe6846bxRJnrE9tMxXOanN4b66xWvq4+/qnM6a6M2ae2maqndWm/vP2nmPpugM+Pcdsc1R31KUwx6SAIXmTqb+24SBiNu2m+sUAfTvofVw/bhZsZvenAzp74XFcempD3e6ohtKmEk1K8vV2UVGU071dBBt/UN+XwZz7/sZ/2JTm2YwFjP1HS0zKGLvZ5Kg21Y5tJicZg2W1qW73L2sxcY9vulb3FDAWn1EFg3wsTbOpyI4zWKyd27u+Xsjb6/E7RWRkUOImMuKFlridL8s0FixmtTPIv1beCda4XHPYfzd/OmyWWCxmyaHOS8VgE7fLNWZ34SazqZd/hzsvHM8f6n29TXtrAiSh7aa5ttRsetbWccEwPcdsczb3Mjy0M4FaGyCB6jwGwR5j70TTtqW+2z7rt6R4Xbwpcetd9/Z92ZFjINGs/sj3yF6uyvVt250X59YdZ3zWa3euNpZuQ2KNOf+WzcQlrzbVf75e1vKi75Di83ttHe27qe+Yfc5pD7FcPpRrUsZ07y/X9vN5CDG3V5tcMPaf+6aVwe7jeoHDZgkE+MFhoIbpuAT6jvRL3EJtU/5D0JvL7D5xBX3Mg/i+DKaOA4v/vNn9MN3adfv7uQbvofFdfcI7WTLXh9B37WOwj2VH/W1m21m/A/PpbmPrx/Y0VFJGshv4uLSIDLfWD9YwP7OMuJdrWDM9su8CAF+PJ8dZTY77FI6iFcxIbKa0tpTMWIAmyl7IoX6xA+ejo0MLZnQKOS+mBLVq3KO55D4a2uYhEktyJrnJmeT+pJbtP8hhqTWG1lrD6uRA67fTfgX4m1D348/D6H8+TLXTQ9O7e1jzwhSsV2pwru0Ysuo5sZ4lhXGU1uaSONBd3ZJaqflgDzy8m5x/9m3DozPms2LyZlYcqWHNdOu1IcLWxPE+6509sQd3tyGxEPfUYc4/5bu3nJlWn6HGceNTgTU0uYHY0KP3j2X0o5uoCdC2O/bjpN0TQsx/aOIUYL3Pd1KSYPdxvUAMcZNh+7kmSrF0LzgEhvS49Cn0NuU/BN0SNwVYQ9MXwLf7ccx70XcdW6kaUPy3cdto4LE5pHi16cj7/n/27j84qirP+/gnVVY9rWFLplTSWWefSTIq8juhdsiP3TFLU8LQFCKdBR8TkY3BkQEWR5JhYAhDIUHZDEEHAXGGkEFMfIxFFC2CQqVd1E0IM0NA0YA6JM7opINQhFqQ3nqm6j5/pJN0dzrpH+lObsL7VZUq6b73nnPPOfd6vn3uOXeqHCrzezTeqhXLcuXdwiz352iFtUw7jjerZHpy1Muy6b3Nct1bKEubU8427yO6lSiXNn/YpJLpPf8vCXY8YDgjcANuEC2vLtGM3HJZ19apdr3fvLf+JKXJniRJNtnnpmn03TOU93SO7HsduvzbFcr7fIXqd4VxvEHjlut4jSpfrtTOF2t1fXqBdjidKggYtEnSzbp5lKT/N9B0LRo33a5xkjTdIdu4OUr58XLtnHtShXc5VTx/h5K31XsCX4TPrY6LklKTldjru0Ql3i2ptXP+ZuCQw6WWZpf0w2SFsubizYP1f8mrHWr54qRaWlrU1NCgA2+US5JcFyXdFWKeL7rkVJrsfV2M/abhvaGnHD9ukUuZgxS69SEa5RJU+G0q5HYRcpn3JZRzjFL+b5Ju9vt3b1lK7hX8JCv5h5KrqVkuJUa5LF1qOSvpbJmW2MoCb/J5m1whHw8Y3licBBjxOtTw7Axl5R7SuG0n5XzGpjDHxnqMsinncUkVzWpWg6p+XCsdL1bW33km38fFKS6zWFKN8v4hTnFxm9Xn28m+qlJOnNd+Af66Fg5o2NT/dnELq7pfQeD+qkFVm5Yo6+6blZiZp50Xs7S16bLanHu0fLq13wDTYpF0tqX36wzc19Uhadw/hN+FTb4/Tw41qb7ZJdfbO1XmcqkqN8Ur/4nKe12+CzYgpgKtFTNkrjZp58IUxf3dd5SSlqcVL1Sp/qpVBY8W+GwWep6TlXh7ZGmYStTLZZBFscxNe47+LDH8+W5Bpdo6p/f0/nvZMbQ/LgCDiN8lgBGtRbUr8zTnBWn5W/XaMTfE36X/sFNZD5cr5/WTKkz1/sLd+YiPVbJonBzOOvV62PFslWYsa9G66nWy3Z6ocf7fdxmVLHvpVmX1k41xng6oNXWrtpb2s+HtyZ0B2VdVyvuHPNXIqnEPb9WhwwWy3xVqmGpVclqaVNqiFvmO1nQ0N8kphwr6fMzGpdplNhW4S9S81+EbGP+tM+iz3iSNzixWnXO5374dcj6bo81JO1T38Dh95+6Iw+obhEWjb5d0qkVtkt8oRJvaPpc0N7mfjpxV49Ks0vbe9aw/bFZK/kmte/2ABiukaXqxQCteT9OOppNantpT9+6jRVoSUZ5b1HZRPo+EhZaGuUS1XO4NltpA21Sk+Q9FKOdY3hmsRzH/fevdvqQWtXwgpa1OljXqZTla1iRJvzqpT925sprv0Q5gUBG4ASNW5xL9c16QShqcWpcRxv/x7krW1C+atLXKqeWpXnN8WmtUvl+y5mdqnEbLMt3WOzC7uUHSZY3PtMnW33yCmMxxsyj5Z3tUv6pAmRH0UtKm5ylt1VYdOFqozO75JC2q3b9Tmr3HZ/6HL6sS77bItapcB37hUEH3I1BuNbxaLqfs2pNmleW71gBl4pLrRUn/MFW26aGVx41ttLLuL5Be3KnyD/NU4jWPpuNwpbaesmr5M33+XCBJGpdRIOsvdvjVs1sNbx1Qy8Ucjb9X0qC8FN2l5t83SfOLZE/1Dtg75DxaGX6ev7DKpiZdvhpZGj08HWxHtDr74YpyuQQ18DYVaf5DEfwcR2tcVPPfnyZV1jRoeWrP4/GuNyq1w5Wmoumds3ajW5YWZc1eJ+uvNmvn68tl836pfGuVcpKL5d57SIfyo3V+gLkRuAEj1amdKvxlgzS9QPpgp8o+8Pv+9iwV5GdqtCTXqzlKzK1RSdfCHaPtKqzK1YHcPM3pKNbyh8fJ4mpQ+S+LVZNUovpf2Ew4p03Sdx39j8wFk5qn4kVblTPTpo7tRcq9y62GimIVv56pkoY8r1+PG7Q5LkvFCyrVVp0rq6S0x3eqpDpLS2bnyPV0gTKtbjW/ulMlv21RblWlVzCH8FhkSZVq9perxmpXVmaarPPXqXJRlvJ+aJNre5FyJ1rk+rBcxb+skRZVqnB2/6OWlukFKltUrryuep5oUcvbZSp+rk251QW9R5H75VLVwkTlvV6iemNdmPtaNS4zU1pVqCWrrqtwbrIsHc2q+W2ZDnx+s+87FEPJ813jlSmpoblF+ufksNPo1tGmllPS8qeHqjMc5XIJ1Ib8Uhw9wDYVaf5DEdI5RjX//Wva5NAcV+f/F/SHnSpaXaPkp+u13PN0RnTL0uv8H83SjKYSFc5Nlru1VpXPlKkmo0T1C8JtpwHagyn/hwYEMKRrWgKIgsBLG5/clhbyu886l0v2fqeR53PnVqMgI7lz+7syjYKnD3jeHdePUF8HYFb/r82oK+16D5zVGDd3ubHn9/4n7VnW3P+db5c/NSp/ZjfGWXv23eEMtuQ0rwMI5vxbhYbdUx/dS5P/vzajbvtywz7R2rlE+US7Ubj3pO9rIXq9q8vbZaPea//kjAJj6weXg+/b63NP/anE6KnBvpe9752Xy0Z9qdd7BzMcRuHeeqOtrXNJfvve877b9pfnrve45R/wez1GOGl0LQMfi2t4qMolQBsKlO5A2lSvz0PMf8j3y+DnGHn+PW3Y/37meQ1K97Zd+9aeNHbkZ3a+ZmWi3Sis+rT361iiWpa9z193ZRqO7neZhn+8gPcUYBiIMwzDiG1oCAAABoP7+GZlZbao+Js9cvgvUhLaEeT8RbJmuHbqsv98TdzYjm9WXGZxz5MZAAYdq0oCADBCWDJytXx2ucrfbonsABdrVfVsorauJGgDALMhcAMAYMRIVt7TJbq8vUoNESwj3/JGuQ79pEQFqcG3BQAMLgI3AABGEMs/FqrMcUgl+8McdbtYq7LSZJU/bWe0DQBMiDluAAAAAGByjLgBAAAAgMkRuAEAAACAyRG4AQAAAIDJEbgBAAAAgMkRuAEAAACAyRG4AQAAAIDJEbgBAAAAgMkRuAEAAACAyRG4AQAAAIDJEbgBAAAAgMkRuAEAAACAyRG4AQAAAIDJEbgBAAAAgMkRuAEAAACAyRG4AQAAAIDJEbgBAAAAgMkRuAEAAACAyRG4AQAAAIDJEbgBAAAAgMkRuAEAAACAyRG4AQAAAIDJEbgBAAAAgMkRuAEAAACAyRG4AQAAAIDJEbgBAAAAgMkRuAEAAACAyRG4AQAAAIDJEbgBAAAAgMkRuAEAAACAyRG4AQAAAIDJEbgBAAAAgMkRuAEAAACAyRG4AQAAAIDJEbgBAAAAgMkRuAEAAACAyRG4AQAAAIDJEbgBAAAAgMkRuAEAAACAyRG4AQAAAIDJEbgBAAAAgMkRuAEAAACAyRG4AQAAAIDJEbgBAAAAgMkRuAEAAACAyRG4AQAAAIDJEbgBAAAAgMkRuAEAAACAyRG4AQAAAIDJEbgBAAAAgMkRuAEAAACAyRG4AQAAAIDJEbgBAAAAgMkRuAEAAACAyRG4AQAAAIDJEbgBAAAAgMkRuAEAAACAyRG4AQAAAIDJEbgBAAAAgMkRuAEAAACAyRG4AQAAAIDJEbgBAAAAgMkRuAEAAACAyRG4AQAAAIDJEbgBAAAAgMkRuAEAAACAyRG4AQAAAIDJEbgBAAAAgMkRuAEAAACAyd001BkAMBxckLNsm458E3zLiYu26JEJQY4x6RFtyZsY5TyOPBfqtmnbqVStKrRpzFBnBgAADCkCNwAwoTOVa/TKx5LuGOqcAAAAMyBwAzBIxshWuEW2oc4GAADAMBRnGIYx1JkAMNyc0StrXtEZSWPuX6VVMzwP8n3j1LayI7ogaeKiR6T9ndtIE/XIlpm60Nejkp+8ojX7z3j+MUYzC1dpzJGuEaeZfo8KBnhss9ejl36PZaae8jq+X57DOa7P+W1R6ilPHuWVT69t+kzL53z9z7GnbH1MekRbZl7oo3zH6FZd0BUFeFTVL8+BH2MFAABmx+IkAGLizH6v4GNSqvqa0XahbptvEKMLOlLmFRB5+8apbWsCzLX7+BWtCRTsdH233/ebC0e3aVvdhZ4PIjjumf1+efzmiLaVbfMJ2rrSeuUTr3/3Ol/Pvn3lvw++5TtTcyd5Pj/ld64fnfLkZ6JSCdoAABi2eFQSQIxM1CNbHvEK2C4E2OaMjhz1fO416nShbpu2HfXf/oKcLx/pDkK6j909onRGr1SeCbjoSfdIk9fo04VTZ3Rhhk1jIj5u17ZeI3XfXNCFrlE677RcF6QJY6RvnHrFc149I3FdI2xndKTugibOmKhHtmzxmuPmNRr3jbPv8v1kovTxGenjUzqjiZ7PL+jMKU859hM8AwAA82PEDUBMjLl/ZvBA4ZNT3aNGE3/U8zjkmBmPaKb/ohzfnNEpz4jYxEVeAcsdNj1yv2fPj0/1HrW6Y6ZmTujZduak6By35/zGaGJqd841c6bnCHdMVKrnHC64OoMn79Gvmd2PT07UTE86F06dCRjeBtKrfCd0BWZndKprhM/73FIJ2wAAGM4YcQMQE2Os4SxgP0Z/P8b332OskrwfXbzwV09Q479tV1oXJF3QhW/kuxKjdUz/S+mHc9xe3/U+jzH9rALZFcB1jrKt6b3BN515CaXkeqc/UamTpDMfex6XnDCxJ1D0Dl4BAMCwxIgbAIwQ3aNqH5/SGa/HJMekTuQ9cAAADHOMuAEwgQv66wV5jZRd0AWX3yZj/l5jdEYXem3rPZLV/4hXQOEcN4QXkPeblHWM9PEF9Z7/FyUTZmrmHWd05JszOlIpT37HKHUyYRsAAMMdI24Ahs6EngUzzrzj7J7fdaHuld4rPHrNGfNZUdFrwY+IFuCI1XEDGDM5tXvJ/yPdq1pekLNsjdasWaM1leGsKxkwhe75dhc+9syXuyNVE3mJNwAAwx4jbgCGUOfCHGeOXvAsiX/E83nnCJfvvLIxsj06U6e6Vnr0nyN2x0ytCrCiZHCxOm4Ad9g0c9IRvfJx52sC1hz1zUf3wibyGp3rKpdJj2jLzOBJjJmcqjFHvd4jx2OSAACMCIy4ARhSY2as0pZF3oHRRD2yZZVmWgNsfIdNq7as6r3i5KRHtMXnJd1hitVxA5iYt8XvfKWuc7Z5pT9mht+qka4Loa046TWCyGOSAACMHHGGYRhDnQkA8BfwPWYIgdd75Sg7AABGDB6VBDB0vF5S7RtknNGpjzs34VG/MH1ypHt+IGUHAMDIQeAGYOjcMVGpd3gCDZ85bl141C9kn7yiNfu9Fzfxfsk3AAAY7pjjBmAIjZGtcIsemRTou97zvhCqMZpZGIPXDQAAgCHDHDcAAAAAMDlG3AAAAADA5AjcAAAAAMDkCNwAAAAAwOQI3AAAAADA5AjcAAAAAMDkCNwAAAAAwOQI3AAAAADA5AjcAAAAAMDkCNwAAAAAwOQI3AAAAADA5AjcAAAAAMDkCNwAAAAAwOQI3AAAAADA5AjcAAAAAMDkCNwAAAAAwOQI3AAAAADA5G4a6gwAML9vv/12qLMAALgB3HLLLUOdBcC0GHEDAAAAAJMjcAMAAAAAkyNwAwAAAACTI3ADAAAAAJMjcAMAAAAAkyNwAwAAAACTI3ADAAAAAJMjcAMAAAAAkyNwAwAAAACTI3ADAAAAAJMjcAMAAAAAkyNwAxADjSqNj1e8319udXuAbdtVvaj3tj1/uar+OpztPX9bGkPfflG1AuWsO8Xq3ADH9fJ1tXKD5Sc+XvHxpWo8Udr979ITARLz+r7vMgiQboBz6Ml3qQLkenCFUkZdZeu1baAyCnheAy2LQOUeqF1Q19EXrEwHcM31KveAZR6kzKLYNnrdAwO1kWDH8U+bNgncMAjcAERV5/+sbdoY4LuD+Sl9dwL6dFD59/TRyYiWmnyl9Nm5aNextw/2/HPTsRh1QjwB5vSAJaf8e4IEmDX52hfLMhpOwiqLfsq9Jl8pYbfXAaZJXfe2yRaVzn/jlr7KfKNsAes5+m3jYH5K4EA0HP3eryJFmwSGAwI3ANFzolQp+QeDbHRQ+feE3+nY+EL/o2IDt1G/DjQi+PUxvVnju92xGHRQGrekKL8myEY1+Urpp9O3cTq/bHcJtSyCl3tk7XVgaYq67mWjbEFGxvv1dbV+vam/DQ4qf43v8WPWNjb9Ogo/BvRxv4oQbRIYHgjcAERJu6pf8Pq1dr1T165d8/pzakP3l310Onrtc03O9Z7valrVGsL23X9r0kM6vne+Dp7vlYIa9+froCQ5NmiDw5N7/yDyzoWq8j7me11HnKeKz7zTWq0AuerVqdzwnl8e3+spuf47fdHtzMVKr/Prr84iFkJZ+JS7f135ttfuYJ26jqnebcOrHmre1LEA5dFne7p2TauneTb6ulUH+9i+5x7jdfxI2kawPHXX7UG1hhi49Vce3fcr2iRwwyBwAxAd3iNT650BOuHpWu3d6Xj7WIxH0KKhUcc8HZp5cxdr9b97ct9HBzJS7f/1pk+nsruz2WXaap9O35v/1XfJHcx/KgaP9g1Pwcqip9znqeKzKi280/vbdK3+rELz1EedRIi6DldPPQQrj1D5//CSvqYrSOlpA0PRNoYKbRIYPgjcAERH9y/a81SxqK+Rk3QtrujsggUcQdtk6zUx3tb1S7AjSUkhbN/vZPqA2/fMx9tg88v3iWOe7+bpwX9KkKZlewLP6HQgu7Se93SbHBVa3FcncNpiVXhG/AKNDG54z9mdt/z95n5gaeP0EBZcGIBQy6Kn3B9U9p0BNvCMZESzY36j1XVU3JmtB/spj4Dtyb9NeZVp5xyx/u8VA20bAfPUPX9sg7JDbFO9j9Nzv5qX0uuOGBHaJDB8ELgBGAbmqWLLQiXEMon1zl6dsEanp4vU3XlLV7bnsaqD+ftMNp/DKyjeZIvtYi6mN9LLYqSfXywkaOF+70ccu3gW3uhrlcUY2PBeH48shsNRoecWxvSOGCbaJDAYCNwAmNwGOa/5P6oUPfMqzgeeX+U978PrF/ruEcAYLVIyEAkLn/330yAAACAASURBVOv+VXzj9FIdG9rsDKmRXhYj/fxiI12rr13TtWvne0bfvGycHosVRLv0zDcb8Ajueqeu7Y/xD1kRoE0CsUfgBiA67kzqnofS96MyjdrXtepkoEcfAy4e0s+v030uTtJHoNe9fU/H7WB+SsD3y3nP++hLtFa6TErpeny0nyW1T+zrXvWt70ekErSwax6eNio/6AqfQyPgwg19dERPtUZawsHLoqfc+5iz6HlPVTRHD260uo4Kr/mzgcqjz8VJ+gxuErRwf+BFQ7oegR5o2+jOk9f8vPx7wg8MA55bVBfxoU0CwwmBG4Do8JqHok22AHOWGlXqPT9jbvYQ/mKcoIX7fYM33w6Y37vb+hKlRUoS/ulBT+euc05LwJf0ds+P8cy368u01T2r5A1Xd35PqZ7/7LXYwdfVeirUDmGQsugp90Cd6kaV3tO5omjAOokQdR2udlWvye/+ESU1KZK7hucdZX29DLr7R6ee+VtRaxt3LlSVT/BmviXzaZPA8EHgBiBKvH9tld8CAL6T6qUNejIa8zP6XJykjw6af3695rz4vIPI+xf+rkcpvf+ivMqd7lyoJ706O50vKg+0qIGk9U8GfWw0fVFFd0dseEpSUvejbD1zkOLj4xV/T08nXuuzg84V6rcsfMrdL51YtNdeaVLX/novxuH1frE+Fs/oc3GS+HjPy64TlD23OzSRzX8brzbVvUBRNNvGnQtV9V7PSJRtoC/gjjbaJDBsELgBiJ5pq3W+Itj/suep4rMoTM6PinStDtCh6n53W1+/LnuvchelRUrS1wSed+PDUaHzoTwmdedCPRe0HswsQQu3BOv89bd6qZcgZRFKuUdlMYkw07xx6jpUA1ugyHv+VZ/8AsOotg3vkSgTLt5BmwSGBwI3AFGVsLCqz8n/naNXsVtoJCK9OlQ9727rcylwv1/wo7NIiWfezWeBAhbPwgZhLEiQsPDJACvoDSN3LlRVH+1IjgqdD6Md9V8WnnJ/L8AWjgqdj/LrAHzSpK5Ds94ZhftGP/Usz1yyXmUe3baRvqaPEX5ToE0Cw0GcYRjGUGcCgLl9++23Q50FAMAN4JZbbhnqLACmxYgbAAAAAJgcgRsAAAAAmByBGwAAAACYHIEbAAAAAJgcgRsAAAAAmByBGwAAAACYHIEbAAAAAJgcgRsAAAAAmByBGwAAAACYHIEbAAAAAJgcgRsAAAAAmByBGwAAAACYHIEbAAAAAJhcnGEYxlBnAgAAAADQN0bcAAAAAMDkCNwAAAAAwOQI3AAAAADA5AjcAAAAAMDkCNwAAAAAwOQI3AAAAADA5AjcAAAAAMDkCNwAAAAAwOQI3AAAAADA5AjcAAAAAMDkCNwAAAAAwOQI3AAglo5vVlxcnDYfj/QAbjVsytKc37aEt9vFWq24u0jOq5GmG1uu98q0+Q3X4CY64LqI9fFHZl1jGIn1NQJgQAjcAMDE3H8oU2HNHBUvSg5vx9vtKlzdrLynnXLHJmsD0KByW5FOmi9jQ2pk1jUAIFoI3AAgljLWyTAMrcuIZOcWVf6yWImrC5RpCX/v5IcLlbe/SDtPRZI2wkZdY7gbUBsGEGsEbgAwAB0flmmJbbwS4+IUlzheMx4rk9P7CUD/R4+Ob1ZcXI6qzjaravUcjU+MU1xcirIeK1PDRd9ju98rV/Hh5SqYbfX94mKDdi7LUdbdcYrzStd/f42yKWdZm4q216gjyucdsa+qlBOXpWJJNbmJnWXxlee7v7nkfGGF5kxKVFxcnBInzdGKFxp8895Vfh/WaMmkRMUljldORbPnyw41BNtfkq63qHZTXr9lHwh1jeEulm1Y6lDzq0XBrz8AESNwA4AIuY9vlu2HW9WWWqidzjrV7Vqu5OYizUgrlrPfZ9ZatCN/jso77CqpqtOB7TbdfLhIWY+Wq2d2k1v1hzfL9RO7skZ77XrVqaJJWSo5+x3lldapznlIlauydL2iSFlzy9Tkl1Lm/StkrSjXgS+ieOIDcbtNxc4dKpBkW39Adc5i2W6XpBZVPZamGStPKvHHO1XnPKSyhRbVrszSuEer5Dvrq16FC7bKsqpcdbsKVZA5rnP/R8cpa2WtLAvLdMhrf/uzTT6PEO7InaGyv2SppKpOh/Y6ApR9b9Q1hrvYtmGXah6bqvGrmjzXb512/jhRzc8Eun4BRMwAAESk/mkZml9pnPf+sHmHYbsr09ja4Pl3Q4khySjx+3fa+nrjutdubVUOQ3IYlX/xfHC9ziiUDMfLPkc3Lr9VaGTe5bWdx/m9dt/9u3c4ZCyXjNzqtoGcapTVGyWS4ajqydPlmgJDSjPWfXDdZ8vLtYWGVVZjndPzuaf8bLs+9dnuunOdYZXVKDziu//539iN5Ix1Rt1/9+xr/VmdT9l3l11LPzmmrjHMxbINd15/dmNHs1+in+8x7N7XL4ABYcQNACJk/a5demOHyioa1NK1ot+9y1X3eb0Kg8wRsc/MlPdUJmvyVEk1aul6bPCrFjVJmnq370IVo+duVf3nB5T7Xd/jJY/LktSh6/6/nI9OVHKqVHXWzL95d6j+aLl0/3IV/LPvBK/Rs/NUlOrS5sP1PqNmtrRxPts1Hy+Xy7pCOff77p/8+CGdbyiRbVTPZwUP2HzKvrPsatTSzyKX1DWGu1i24ab3Nst17zhZ2pxyvuf19xe3EuXS5g/9x4cBROKmoc4AAAxXyQtKtONwjlY8lqWdj0nJGQ7Zc/NUsMChNGv/+94c7O570SWn0mTva6GKqx1q+eKkWlpa1NTQoANvlEuSXBcl3eW9YaIS75b0cYtcylSQbA0RtzouSkpNVmKv7zz5b3WpQ+oj/y61NLukHyYrlPUYg5Z9ANQ1hrvYtWGXWs5KOlumJbaywJt83iaX+rp+AYSKETcAiNSoNC2vPq/rfzmpA3sLZbu5WQdW5mhqYpY2H4/GwuzJSrzd76OrTdq5MEVxf/cdpaTlacULVaq/alXBowVRSG/4csd6HXzqGsNdrNvwgkq1GYaMQH8vOwjagCggcAOAAbJ8N02O/K3a4/xUbd/UaV1qg4pfdkZhNbUWtfmt3Nb0YoFWvJ6mHU2XZRht+tRZpwO7SpSXMTrwIYYFi0bfLulUi9p6fdemts8l3ZvcT8fPqnFpVumDlt6LIPxhs1Im5aj8bJRySl1jmIt+Gx4ta5Kk10/qU14kCMQUgRsARKRFVT/OUspjfsuv356oxDuicPjbrbKpSZeven/oUvPvm6T5ObKnenfeO+Q8WtnHgTyBz6T+Ap+hNlpZ9xdIR3eq/EPfnl/H4UptPWXV8sxxfezbaVxGgayuHTpw1Ht/txreOqCWi1M1/t6B5I+6xnAXyzZsUdbsdbKqTDtf9/vppLVKOXEpmtP9yg4AA8EcNwCISLJs9yfr+sLlyrmpRQXz02SVS02v71DR0UyVPGPTgMZF7hqvTEkNzS3SP3fN3LJqXGamtKpQS1ZdV+HcZFk6mlXz2zId+PzmwJ31jja1nJKWP91/4DO4LLKkSjX7y1VjtSsrM03W+etUuShLeT+0ybW9SLkTLXJ9WK7iX9ZIiypVOLv/0rRML1DZonLlzbSpw7N/y9tlKn6uTbnVBcoMK38uVS1MVN7rJao31imTusawF9s23H39PZqlGU0lKpybLHdrrSqfKVNNRonqF9AmgWhgxA0AImRdUKn62hVK/qJchfYZmmEvVPnFLFV+XKt1/9jXShOhSpPtZ5KzocnnF/K0p2pVXzpH199eojm2GVpS6pRlQaWaPtihHEn1zb6/eLt/79ROOZSVZqbH69LkeLpQ9s+LlWOzq/yMJCUrd2+T6rZPVdtvlmuGbY4Kq91y7D2p5pdzQ1h0JFm5Lzer3mv/zQ3JKvqgWZULBj7+RF1juIttG+66/nJkOVqsObYZynmmXppfqU8Pr1PmqOBHABBcnGEYxlBnAgDQm/v4ZmVltqj4mz1y+C9cEdoR5PxFsma4duryXsfARoUQU9Q1ACAYRtwAwKQsGblaPrtc5W9H+F6ui7WqejZRW1fSkTc76hoAEAyBGwCYVrLyni7R5e1VaohgtbaWN8p16CclKkiNfs4QbdQ1AKB/PCoJAKbmVsMmm0qslTr0eCivl/a4WKsVmbWyN+yQPaJH7zD4qGsAQN8I3AAAAADA5HhUEgAAAABMjsANAAAAAEyOwA0AAAAATI7ADQAAAABMjsANAAAAAEyOwA0AAAAATI7ADQAAAABMjsANAAAAAEyOwA0AAAAATO6moc4AAPP79ttvhzoLAIAbwC233DLUWQBMixE3AAAAADA5AjcAAAAAMDkCNwAAAAAwOQI3AAAAADA5AjcAAAAAMDkCNwAAAAAwOQI3AAAAADA5AjcAAAAAMDkCNwAAAAAwOQI3AAAAADA5AjcAAAAAMDkCNwAwNbcat9jkqGgNb7dL72rV5LU6djU2uRqo9ve3q/St9sFN9ESp4uPjVXrCrMcfmXWNYSTW1wiAASFwAwATc5/crrUHf6SfP5wU3o63zdLKp84p/9ljcscmawPQqH2z1+qU+TI2pEZmXQMAooXADQBMq1Wvbdoo61OLlW4Jf++kBU/qoVfX6jcfRT9nCGDaal27dk2rp0WyM3UNExhQGwYQawRuABCyK2p8cZUcP0hRfHy8Un7g0KoXG3XFe5O/tetYsG0kXanfrmWzpyolPl7xKVNlX7pdx/yeHHS/v08bjzyhxbMSfL+41KiXfpor2+R4xXvt33jJL5FR2Xrwxy6t3XWwV/pD5utq5cbbtFHSwfwUxcfnqvprz3ehlN2J0s596g9q2Q9SFJ8yVbn7z3m+DKF+JMndqne35GtqSrzi4yfIFqjsAghaZ/6PmXXl9bNzql7n6De9EVnXiJJBvO8MoA1LV3Suem3w6w9AxAjcACAkrapekiZb0buy5GxRzeEabcmx6N0im+ZvPe15RK1V1UszZS86Jetjz6nWa5u0JdXqmrnkPlGq2fc/L9eUJ/Xc4VrVPv+Eks6tlT1zo451P+vmVuO7pWp/fJYybvXKxtVjWvsDm/7j3Gg9VFKr2sM1qliZIff+tbL963ad9st1um2pEvbv05t/im3phOy2bP388DYtlpS9pkq1h3+u7NukUMuu03GteeTXsqx8UbXPP6nF6WMVWv102v1vc/TrrzK04Xe1qtn9gCxH1sq2ZJ/6m1kWWp0F0qrdTzj0uyuztOF3taramh0gvRFa14iCwb7vBM5D8DbcroNLszR1zWlPHmr13GNWnf1VoOsXQKRuGuoMAMBw4H5/n9a8Kq18+4961uZ5lu2+WZqW4NCcl99U49IpSnWWKv9Vq1YfrdWGrJ5tZk1dq7T5a7Tv0Qe04T6LTjs36vQDFaraslCds5mylX2v1Pqvr+n0R1L2NEnuRr3zvDRvz1h59+WvvP+OGkfN05Y9u7TwTvXk4zaXJiw9rnNfr9SUO712GDtFD2qj/vN0uxZ/3280ZyhYEjTlvlQlSeoYm6Hs+zrzdOWt0MquU7vuXXtY2xaN7T5sKPWT3bXxw7tUszlbnVtla6zOacLSd3Xiy8VK+l7gbIdUZ4H3lNvmVO369M707stWxm0dSsl/Vye+XqykOzVy6xoDNuj3nYCCt2H3+7v11P6x2tZUoyfu8ex2X7bmzUyXY7L/9QsgUoy4AUAIzp3Yp/aEpXrQ5tv5SMqv0SfvbVD2qCs67twn2Z7Q4izfbW6d+X/008ntKn23UW5JCXfOkt7are37G9XatRLgPU+o9iOnVnZ1nr5u1WlJqd/3XajiVvuzcn5U1dOR78rH2AxJHbru/8v5rVYlTZaqPzPzb96hl12Xf5ky1me74PXT89niOV1Bm2ebsRmSDqq1n0UuQ6qzPsyake6TXkJSamd6XY+I3lB1jXAM+n2nD8Ha8OljpWq/Z6wsrmM69r7X39duWdWu0nr/8WEAkWDEDQCCalfr2Xbpn5LU93p/bl25JGlykqy9vrPKepekP7friqSk+Ru07UiuVi216aWlUtK0eZq18CEtdszTlK6BkkvtOqYp+lFfP1JfvaLW86f0ZWurTjc26s2393Xm9JKk7wdI+5Mv1a50mXMcJvSyC1wcodRPj5sj+D9fSHUWaXo3VF0jdENw3+lD/224XV9+Jumz7Vo2e3vgTb5wqV2iTQIDxIgbAITgf/4nigcbNUVP7P9Elz6rV9Xulcq2nNWbRbnKSrGp9IT3MEqSrLf57Xv1tF5aNEHxCX+vCZn5eurF13T8WoIW5y6OYgaHn6jWTyAh11mkqGv0NjT3nQg5KnT+2jVdC/S3Zx5BGxAFBG4AEFSCxk5JkP6rtfck+5OlmvCDXO37zKJbb5P0UatcvfZ3yfWFpHu+59N5sdw5RfMWPatdh0/q/J9rtXpyozZWHfNaha1VLr+V207v+YlW1UzRtoa/6tq18zp5uFZVz2/QQ9Nu1fAVftn5CqV+opTToHUWqRulrhG6obrvhOtWJfxvSTVNOsuLBIGYInADgBCMnbZYCe279abTu2fiVuOhN9V6KVX33nOrMmyLJedL2lfv23u5cuT/6vmPEvRE+r2SWlW9wqYJS/2Wbb/NKuvt3v9OULZO6/JV743ade6Pp6UHHtSsyT7LWOhY3Wt95NzTeZvQX+Az1EItu74Fr5+B5C/EOovUDVXXCMeg33ciYlH6rNVK0Ha99IZfiPlltXLjJ8jR/coOAAPBHDcACIHlvsXa8vA+5c+168rWJ/XQBItaa3+tjS+4tHD/YqVL0gOrVfGwTfn329Xu2aa9fp82bjooPVyhlTNvlXSrsm3f0/VFT+nhm77Uvz0wRQlq1+ma3VrrTNeGjdmdKwt+/16lS2o81ypldc1wSdDYaenSmjVatua6nrQnydJxVgcrtuvNP90cuLN+xaXWj6Qn1vcf+AwuiyyTpYOv7tNB6yxlTJuihJDKrp8jhlI/IWtX9aIU5ddskPPaaqUrKbQ6i9SIrmsMxKDfdwaazyU22U9v0JP2JLm/fEev/Wq7Dk7bIOf8scEPAiAoRtwAICRJWrinSc6tqXLtfUr22Q6VNibpp0ebVOFI6Nlmd4NqvbZZc8CtB3bXq2nPwu4FBhIcFXK+sVRJf/qd1sy3yz5/jX53KV0Vv39Dq6d2rVAxRf/yU+lY42mfX8in/Psbcm7+kdy1y+SYbdey547pfzn2quHoNj0o6fg531+83X/8T72kecqYYqbH66bogfUrNetPG5U7e772fSqFWnZ9C6V+IhdanUVqJNc1Bmaw7zsDzeeDstRtlGO2Xbm/apTmVujkm6uVPir4EQAEF2cYhjHUmQBgbt9+++1QZ+GG5D5RKtv0Vv38z7s0z3/hitCOoGMbxsve/pz+unvewEaFEFPUNdDplltuGeosAKbFiBsAmJRl2kI9MXOf9tVG+F6uS+/qta1WPbuMjrzZUdcAgGAI3ADAtJL00PoN6thVrcYIVmtrfWuf3nl8gxZPjn7OEG3UNQCgfwRuAGBilqkr9ey8d/Qfr4Y5EnPpXW1/Lkkvrp/FCMwwQV0DAPrDHDcAQTHHDQAwGJjjBvSNETcAAAAAMDkCNwAAAAAwOQI3AAAAADA5AjcAAAAAMDkCNwAAAAAwOQI3AAAAADA5AjcAAAAAMDkCNwAAAAAwOQI3AAAAADC5OMMwjKHOBAAAAACgb4y4AQAAAIDJEbgBAAAAgMkRuAEAAACAyRG4AQAAAIDJEbgBAAAAgMkRuAEAAACAyRG4AQAAAIDJEbgBAAAAgMkRuAEAAACAyRG4AQAAAIDJEbgBAAAAgMkRuAFABFzvlWnzG65BSMmthk1ZmvPblvB2u1irFXcXyXk1NrkaqMErPy/HNysuLk6bj5v1+COzrtG/IbkWBslIPjdgKBC4AUDYGlRuK9JJd+xTcv+hTIU1c1S8KDm8HW+3q3B1s/KedmoQshmmwSu/4WRk1jX6N5KvhZF8bsDQIHADANNqUeUvi5W4ukCZlvD3Tn64UHn7i7TzVPRzhgAy1skwDK3LiGRn6hoA0D8CNwAIx1dVyonLUrGkmtxExcXlqOorz3cXG7RzWY6y7o5TXFyc4hLHa8ZjZWq46LX/8c2d+5xtVtXqORqfGKe4uBRl+W8nyf1euYoPL1fBbKvvF6GkI0mjbMpZ1qai7TXqiG4pRK6/8vubS84XVmjOpETFxcUpcdIcrXihwTfvXeX3YY2WTEpUXOJ45VQ0e77sUEOw/SXpeotqN+X1W/aBdHxYpiW28Ur0KnOn91Ng/o9K3uh1jf4N4r1EV5tV49Xm56yuUvPZKuX0erS3Q82vFoV2DfaXbn/nBiByBgAgdNfbjJPOHUaBZNjWHzDqnCeNtuuGYfx3nVFolWGdXmDsqKkz6pyHjMrSAiNTMpSx1TjZtX9DiSGlGZkZyYbt8R3GAWedcWB7gWGzytDsPcb5noSMup/J0E8OGZe90w81Ha/0rLIbez6PZaGEoa/yM84blYushpRpFGw/0HleTzuMZMmwLqrsKZeGEkOyGlZrprF87yGjrmaPcajZe/9kw/F0pXHIa//MZ04a17v3lWG19pT9ob2FAco+QLYbSow0WQ37U3uMA846o65mh1GQIUPWdUbdde+8yShp8P73DVzX6N+g3Us814bV1nlt1VYaJQuSDWtGppHm3V6NNuNAfnLPdl7H630NBkm3z+scwEAQuAFA2OqNEslwVLV1f3L5rUIj8y6HUfkX3y3P77Ubktfnns592vp6w7sf01bl8N3uep1RKBmOl33DiZDT6d7hkLFcMnKr2wzzCFB+NQWGlGas+8C3d3e5ttCwymqsc3o+95SfbdenPttdd64zrLIahUd89z//G7uRnLHOqPvvnn2tP6vzKfvusmvpJ8dPy9D8St/grnmHYbsr09jqE6j5B243el2jf7G/l3ReW5lGSYNPq/f80NHTXjuvIbuxo9kvi5/vMewBrsGg7TrAuQEYGB6VBIAoGD13q+o/P6Dc7/p+njwuS1KHrvtN0LfPzJT3VCZr8lRJNWrpepzoqxY1SZp6t+9CFeGmo9GJSk6Vqs6GuVLhoOpQ/dFy6f7lKvhn3wleo2fnqSjVpc2H630W3rCljfPZrvl4uVzWFcq533f/5McP6XxDiWyjej4reMDmU/adZVejln4Wv7N+1y69sUNlFQ1q6Vq98d7lqvu8XoVB5rRR1whHdO8lXddWgXIzfFq9cn9c4HOcpvc2y3XvOFnanHK+5/X3F7cS5dLmD5vCSBdALNw01BkAgBHlaodavjiplpYWNTU06MAb5ZIk10VJd/VsdnOwu+9Fl5xKk72vhSpCTEdKVOLdkj5ukUuZsgY41NBzq+OipNRkJfb6zpP/Vpc6pD7y71JLs0v6YbJCWY8xaNkHkLygRDsO52jFY1na+ZiUnOGQPTdPBQscSgtSqNQ1IhKVe8lldbgkZYzvfW0kjZej+x8utZyVdLZMS2xlgQ/1eZtc6rkGI7mOAAwMI24AEA1Xm7RzYYri/u47SknL04oXqlR/1aqCRwuC79unZCXePhjpDH/uWC85PipNy6vP6/pfTurA3kLZbm7WgZU5mpqYpc3Ho5E4dQ2PKNf79XDe77egUm2d02h6/73s4McAYIgRuAFAFDS9WKAVr6dpR9NlGUabPnXW6cCuEuVljB7AUVvU5rc6XGzSGWoWjb5d0qkWtfX6rk1tn0u6N7mfTqNV49Ks0gct6vWQ4B82K2VSjsrPRimn302TI3+r9jg/Vds3dVqX2qDil51RWMnxRqlrBBPdev+OEu+SdPzT3tfGVy2q7/7HaFmTJL1+Up/y3jXAtAjcAGDAXGr+fZM0P0f2VO/OVYecRysjO+TtVtnUpMs+v5ZHko4n8JnUX+Az1EYr6/4C6ehOlX/o22vsOFypraesWp45ro99O43LKJDVtUMHjnrv71bDWwfUcnGqxt87kPy1qOrHWUp5zG+p/dsTlXjHQI7bdZwbqa7Rv2jfS7qurXJVHfe9Npw1O9QzrdOirNnrZFWZdr7uF+K1ViknLkVzul+7AWCo8IQyAITNIkuqVLO/XDVWu7Iy0zQuM1NaVaglq66rcG6yLB3NqvltmQ58fnNknei7xitTUkNzi/TPXbNTrOGn09GmllPS8qf7D3wGV+/ys85fp8pFWcr7oU2u7UXKnWiR68NyFf+yRlpUqcLZ/Y82WKYXqGxRufJm2tTh2b/l7TIVP9em3OoCZYaVP5eqFiYq7/US1RvrlKlk2e5P1vWFy5VzU4sK5qfJKpeaXt+hoqOZKnnGpgGNgY3oukb/Yn8vGT1/nfbMz9KS+XPU8ovlyp0oNb1YpK0f+OWk6xp6NEszmkpUODdZ7tZaVT5TppqMEtUvCLddBbjOI3i5PIAejLgBQNjS5Hi6UPbPi5Vjs6v8jJT2VK3qS+fo+ttLNMc2Q0tKnbIsqFTTBzuUI6m+OdyV/tJk+5nkbGjyGeUJNx33753aKYey0sz0eF3v8pOSlbu3SXXbp6rtN8s1wzZHhdVuOfaeVPPLuSEsOpKs3JebVe+1/+aGZBV90KzKBQMff7IuqFR97Qolf1GuQvsMzbAXqvxilio/rtW6fxxob3Qk1zX6Nxj3kmQVvOxU5SKL6p/J0QxbkZxJJXLuXdFru85rKEeWo8WaY5uhnGfqpfmV+vTwOmWOCnjwsM4NwMDEGYZhDHUmAAC9uY9vVlZmi4q/2SOH/8IVoR1Bzl8ka4Zrpy7vdQxsVAgxRV1j0H1YrLgfNquy5YByk4Y6MwBCwYgbAJiUJSNXy2eXq/ztCN/LdbFWVc8mautKOvJmR10jVpqey9J4W5l838LmVsORWsk6VckEbcCwwYgbAJiY+w+bZXtcKmtYp8wwn8hr+e0cZTUtV/MuO535YYC6RkycKlNWWpFcC0pUkp8pq6VDza/uVMlvP5Wtql6VD4fy9kMAZkDgBgCm5lbDJptKrJU69HgYHayLtVqRfhRTrgAAIABJREFUWSt7ww7ZI3r0DoOPukZsdJypUsnTO1TzeoNaZNW4uTla/lSxlk9n/VFgOCFwAwAAAACTY44bAAAAAJgcgRsAAAAAmByBGwAAAACYHIEbAAAAAJgcgRsAAAAAmByBGwAAAACYHIEbAAAAAJgcgRsAAAAAmByBGwAAAACY3E1DnQEA5vftt98OdRYAADeAW265ZaizAJgWI24AAAAAYHIEbgAAAABgcgRuAAAAAGByBG4AAAAAYHIEbgAAAABgcgRuAAAAAGByBG4AAAAAYHIEbgAAAABgcgRuAAAAAGByBG4AAAAAYHIEbgAAAABgcgRuABBLJ0oVHx+v0hORHsCtxi02OSpaw9vt0rtaNXmtjl2NNN3ItL+/XaVvtQ9uogMuY7PkY3jVNUYgs1xLAAIicAMAE3Of3K61B3+knz+cFN6Ot83SyqfOKf/ZY3LHJmsBNGrf7LU6NXgJjijDq64BAIONwA0AYmnaal27dk2rp0Wyc6te27RR1qcWK90S/t5JC57UQ6+u1W8+iiRthI26xnA3oDYMINYI3ACMXJca9dJPc2WbHK/4+HjFp0yVfel2NV7y2uZEqeLjc1Vdf1DLfpCi+JSpyt1/zvPlFTW+uEqOH6QoPj5eKT9waNWLjbritfuV+u1aNnuqUryOf6zd//hejx51pffZOVWvc2hqSrzi4yfI5p8vSe7392njkSe0eFZC+OclSaOy9eCPXVq766BPnmPi62rlxtu0UdLB/JTOc/za893f2nUsSDkOtB4kSe5Wvbslv98yDSjE8qSuETWDcG8KJJZtWLqic9Vrw84TgNARuAEYma4e09of2PQf50broZJa1R6uUcXKDLn3r5XtX7frtM/Gx7XmkV/LsvJF1T7/pBanj5XUquolabIVvStLzhbVHK7RlhyL3i2yaf7W03JLcp8o1ez7n5drypN67nCtap9/Qknn1sqeuVHH+n1mrVW7n3Dod1dmacPvalW1NVuWI2tlW7JPPbOb3Gp8t1Ttj89Sxq2RnpeUbluqhP379OafBlacQd2WrZ8f3qbFkrLXVKn28M+VfVvnuVYvzZS96JSsjz2nWq9yTFtSLd/ZXJHVQ5fd/zZHv/4qQxt+V6ua3Q8EKNMAQixP6hpRMwj3pkBi24bbdXBplqauOe25zmv13GNWnf1VoOscQKRuGuoMAEAsXHn/HTWOmqcte3Zp4Z2eD++bpWm3uTRh6XGd+3qlpnR9rnbdu/awti0a272/+/19WvOqtPLtP+pZm6Vn/wSH5rz8phqXTpHFuVGnH6hQ1ZaF6pyVlK3se6XWf31Npz+Ssvt83Oi03DanatenyyJJ92Ur47YOpeS/qxNfL1bSnZLcjXrneWnenrHy7suHd16Sxk7Rg9qo/zzdrsXf9xvNiSZLgqbcl6okSR1jM5R9X2daV94qVf6rVq0+WqsNWT3lOGvqWqXNX6N9jz6gDfd1PRsYWT1kd2388C7VbM7uLFNla6zOacLSd3Xiy8VK+l7gbIdanqepa0TJYNybskf1TjeWbdj9/m49tX+stjXV6Il7us4pW/Nmpssx2f86BxApAjcAI9Kt9mfltPf+PGlshqT/1HW/X5j/ZcpYn3+fO7FP7QlL9aDNt7ORlF+jT/I7/7v1zlnSpt3avv97Wjk/XUmjJN3zhGo/eiJo/mbN8HSCPBKSUiVtVOvXku6U9HWrTkv6l+/7LlQR7nnpVquSJksvfdaqCg12Z/6Kjjv3SbZdWpzlW463zvw/+unk7Vr7bqN+fl92d1lEUg9dFs/J9inTzjLZqNZ2SX0EbqGWZwJ1jSgZjHtTILFsw6ePlar9npWyuI7pmMt7T7esaldp/WltuC89aDoA+kfgBmBku3pFredP6cvWVp1ubNSbb++TJLVfkvT9vnZqV+vZdumfktTf+n5J8zdo25FcrVpq00tLpaRp8zRr4UNa7JinKUH6zTcHu/teatcxTdGP+vqROuTzssp6l6RPvlS70ge5O+/WlUuSJifJ2us7T77+3K4rkgKfZmj10CVomfYnSHlS14i6GN6bAoldG27Xl59J+my7ls3eHniTL1xql2iTwAAxxw3AyHT1tF5aNEHxCX+vCZn5eurF13T8WoIW5y4Oaff/+Z8QNho1RU/s/0SXPqtX1e6Vyrac1ZtFucpKsan0RDQWZk+S9Ta/jwZ4XsNNSPUwEKGWJ3WNaBmMe1MgsW7Djgqdv3ZN1wL97ZlH0AZEAYEbgBHp9J6faFXNFG1r+KuuXTuvk4drVfX8Bj007dbgOytBY6ckSP/V2ntS/clSTfhBrvZ91vOR5c4pmrfoWe06fFLn/1yr1ZMbtbHqWBRWU2uVy2/ltoGd12Cz6NbbJH3UKlev71xyfSHpnu/106ELrx4iEW55UtcYqMG8NwUS/TZ8qxL+t6SaJp3lRYJATBG4ARiB2nXuj6elBx7UrMk+yz3oWN1rIR1h7LTFSmjfrTed3j0RtxoPvanWS6m6955WVa+wacJSv+XXb7PKensUTuG2BGXrtC5f9f4wkvPyBEgT+guQYuVWZdgWS86XtK/et0d35cj/1fMfJeiJ9Hv7PULwehhI/kItT+oa0TIY96ZAe8WyDVuUPmu1ErRdL73hF05+Wa3c+AlydL/GAMBAMMcNwAiUoLHT0qU1a7RszXU9aU+SpeOsDlZs15t/ujmkTq3lvsXa8vA+5c+168rWJ/XQBItaa3+tjS+4tHD/YqUrQUm27+n6oqf08E1f6t8emKIEtet0zW6tdaZrw8ZsDWhc5Pv3Kl1S47lWKatrNksE53XFpdaPpCfW9x8gRYdFlsnSwVf36aB1ljKmTVHCA6tV8bBN+ffb1e4px/b6fdq46aD0cIVWzuy/lILXQzjaVb0oRfk1G+S8tlrpIZdnkrKpa0TFYNybAoltG+7O0xKb7Kc36El7ktxfvqPXfrVdB6dtkHP+2OAHARAUI24ARqQp//6GnJt/JHftMjlm27XsuWP6X469aji6TQ9KOn4u2JuFkrRwT5OcW1Pl2vuU7LMdKm1M0k+PNqnC0dm9SnBUyPnGUiX96XdaM98u+/w1+t2ldFX8/g2tnjrQpa+n6F9+Kh1rPO3zC3m45+X+43/qJc1TxpTBeLxuih5Yv1Kz/rRRubPna9+nkpSkhbsbVOtVjmsOuPXA7no17VkYwgILwethQDkOsTypa0TLYNybAoltG+7K04Oy1G2UY7Zdub9qlOZW6OSbq5Ue4PUEAMIXZxiGMdSZAGBu33777VBn4YbkPlEq2/RW/fzPuzTPf+GK0I6gYxvGy97+nP66e97ARoUQU9Q10OmWW24Z6iwApsWIGwCYlGXaQj0xc5/21Qb7Bb4Pl97Va1utenYZHXmzo64BAMEQuAGAaSXpofUb1LGrWo0RrNbW+tY+vfP4Bi2eHP2cIdqoawBA/wjcAMDELFNX6tl57+g/Xg1zJObSu9r+XJJeXD+LEZhhgroGAPSHOW4AgmKOGwBgMDDHDegbI24AAAAAYHIEbgAAAABgcgRuAAAAAGByBG4AAAAAYHIEbgAAAABgcgRuAAAAAGByBG4AAAAAYHIEbgAAAABgcgRuAAAAAGBycYZhGEOdCQAAAABA3xhxAwAAAACTI3ADAAAAAJMjcAMAAAAAkyNwAwAAAACTI3ADAAAAAJMjcAMAAAAAkyNwAwAAAACTI3ADAAAAAJMjcAMAAAAAkyNwAwAAAACTI3ADAAAAAJMjcAMAU3OrYVOW5vy2JbzdLtZqxd1Fcl6NTa4kyfVemTa/4YpdAoEc36y4uDhtPj64yQ4O89Y1bhAj+voChj8CNwAwMfcfylRYM0fFi5LD2/F2uwpXNyvvaafcMclZg8ptRToZm4PfkMxb1wAAMyBwAwDTalHlL4uVuLpAmZbw905+uFB5+4u081T0c4Zoo65hAhnrZBiG1mUMdUYABELgBmBkuNignctylHV3nOLi4hSXOF4zHitTw0WvbY5vVlxcjqo+rNGSSYmKSxyvnIpmz5cdanhhheZMSlRcXJwSJ83Rihca1OGTSAjb/M0lZ9DjSB0flmmJbbwSvfLq9Hvq0P1euYoPL1fBbGv45ypJo2zKWdamou01vdIfkK+qlBOXpWJJNbmJnWX6lee7UM5/wPUg6XqLajflaXxinOLiUpQV6PwDCbXsqGv4G5R7TCCD2Bb9H5XsOp+zzapaPSfI9dah5leLIjg/ACEzAGC4++86o9Aqwzq9wNhRU2fUOQ8ZlaUFRqZkKGOrcbJru4YSQ7IaVmumsXzvIaOuZo9xqNkwDOO8UbnIakjJhuPpSuOQ85BR+bTDSJaMzGdOGteNcLfJNAq2H+jMh2cb66JK47wnG9cbSow0WQ37U3uMA846o65mh1GQIUPWdUbd9a7MXjfqfiZDPzlkXI7kXL3O2Sq7sefzKJb39TbjpHOHUSAZtvUHjDrnSaPteujnP6B6aCgxJBlWa7Jhe3yHccBZZxzaW2jYrDI0e09PGoGEXHbUNfwMyj0mkEFui57rq6TB+99pRmZGz/V2YHtBgOutzTiQn2zIavPkoWc7n2sfwIAQuAEY9i6/VWhk3uUwKv/i+/n5vXZD8vrc0ymx7frUZ7vrznWGVVaj8Ihv9+n8b+xGcsY6o+6/Q9vmck2BIaUZ6z7w3eZybaFhldVY9//Zu//gKss7//+vzHRmo3FHOio5Wfv5NIlaRRASZgtJdm3qYYByGEVOPuCSSNkYWhBYVJJSKLAMECqbErQIii0hRUxc4ySIDqHA5LjUNiG0S0CRgLYkttqc8GMIsyDZ+Xbm/v6Rc5LzMzk/k5vk+ZjJjJxzX/f18z5e73Nf93UcPa83bpSh2T6TmdYdhvX+bGOre8J0s8Eolgz7G95TnpDr2pvgoLFUMvJrOozYajRKJcNe3XfeUOsfTT/0Bm4/avCa7PbWvy14iUNtO/oavgbjMyaQQR+LAQM3GZnrGr2ut45qe4BrxmbsaPWpwGe7DZvntQ8gKgRuAIavplJDsvbdgfCdlLic/KnFkKXUaOznVAMfc9U4+KwMTQ101+eksTVDhlzBRs9kL9tYuqfRuBBkwmZ8ttuwBihrUL519c17Y3+1i4Rv4BZ6/aPpB3faNR8Gfj3k9vJL29d29DVCFsPPmEAGfSwGCdwGut4a18nQQ8XGbkeD0eD113NnnjEJxMbXBn9xJgDEyfUutf3xpNra2tTS1KTa/RWSJOdlSfcHS+RUW6tTejRNwffyC+WYbnVdlpSRphS/91KU8oCkdqe6JKXNKdWOQ3la9kyOdj4jpWXZZcsvUNEcuzLdjzhddsqhTNmCbVQRcl1deX/cJqeyZQlwqtgIvf6ByxBKG/e5LZr/e/XbdvQ1+hG3z5hI08V4LAbR//XmVNs5SefKtdBaHviQzzrkVLBrH0Co2JwEwK3veot2zk1Xwt9/XemZBVr2SrUar1tU9P2ikJJ3h7CHeijHhOyOTC2tuaCbfzmp2j3Fst7WqtrleZqYkqPNxz0zSlPK3T5po6yrmcW0jQMJse3oa/gZhM+YWKYLKOSxGKE5VeroWcnl//eGnaANiAECNwC3vJbXirTsnUztaLkqw+jQWUeDal8tVUHWqBBSWzQm0yJ92Ca/nz3+w2alP5KninOhHJOoUXdLOtWmDr88OtTxmaSH0rwmL4nfyJS9cKt2O86q41KD1mQ0ae0bDo9d2NrU4bNzW3R1jafw6+8tlDaOroShtR19DX/x/4yJNF08xmK4RsmSKumdkzrLDwkCcUXgBuAW51Tr71uk2XmyZXhOorrkOFoV0hnGZBXJ4tyh2qOes45uNb1Xq7bLE/XwQ6EcM0o5U4ukoztV8Vvv2UvXoSptPWXR0uwxktpU/cMcpT/js2373SlKucfz3xZZ1aKr16Otq2vy9kh/QVMshFr/4ELph8iF3nb0NbwNzmdMZOliPBYjkqicGWtkUbl2vuMTYrZXKy8hXTN7fxIBQFSG9Ak7AIiBk9uyDcliWF/YbRx0bXO9dEaaYbk/zbAEeNDefxMI/+20d79gNSyyeOzQF9kxgbbl7qjJNyyyGNYfbDWq6huMhvoqY2thtiFlG6W/d+++1miskQzrL7y3HAi5rm6unQaXvnfViC3XxgczSo3aiH4OIMJ+CJbW7/UOo2qODKlvY4fQ246+hrfB+YwJZJDHYpDNSQa+3txl6Guj2j3Fhv1+GcoqNRqDbYYCICwEbgCGgatGY1mRkX2/DElGWpbdKN7TaHR09ExkbXtcU5d+dx68ajRuX2rYxllc5ygytn7oOwEO4Zj/r8No8DjGMs5mFO85afie6UJ9qVH02BjDIhmSxRjzeLFR9bHnUa7f9iqs9UkbYl3dZzlSHHjr+Bi48F6xYbu/p/ylv3e9GEr9o+mHKAK38NqOvoanwfqMiTBdrMZixIGbfzl1f7Zh/1GVcZbvEYCYSTAMw4j/fT0AQLi6j29WTnab1l7aLbvvxhWhnUGOn6RpinOnru6xiyejzIu+BgAMhGfcAMCkErPytXRGhSre99uaIDSX61X9Yoq2Lmcib3b0NQBgIARuAGBaaSrYWKqr26vVFMFubW37K3Tw2VIVZcS+ZIg1+hoA0D+WSgKAqXWraZNVpZYqHfxBGD/fe7ley7LrZWvaIVtES+8w+OhrAEBwBG4AAAAAYHIslQQAAAAAkyNwAwAAAACTI3ADAAAAAJMjcAMAAAAAkyNwAwAAAACTI3ADAAAAAJMjcAMAAAAAkyNwAwAAAACTI3ADAAAAAJP72lAXAID5ffXVV0NdBADACHD77bcPdREA0+KOGwAAAACYHIEbAAAAAJgcgRsAAAAAmByBGwAAAACYHIEbAAAAAJgcgRsAAAAAmByBGwAAAACYHIEbAAAAAJgcgRsAAAAAmByBGwAAAACYHIEbAAAAAJgcgRsARKDzN9tV9l7nIOTUreYtVtkr28NLduWwVoxfrWPX41MqX4PXHh5OlCkpKUllJ+KbDX2NeBqSa2eQDOe6AUOBwA0AwtasvTNW61R3/HPqPrldqw98Tz+elxpewruma/kL51X44jHFv5iD1x6Dj75GPHHtAAgdgRsAmFa73t60QZYXFmhyYvipU+c8p6feWq1ffBT7kiHW6GsAQP8I3AAMP1ea9frz+bKOT1JSUpKS0ifKtni7mq94HHOiTElJ+appPKAl305XUvpE5e8773rzmppfWyH7t9OVlJSk9G/bteK1Zl2TpC9rlJ9k1QZJBwrTe87xZQT5fnpeNWvsmpiepKSksbL6Hiep+zd7teHIIi2Ynhx+/STpjlw9+UOnVr96oKfs8dBfe/ytU8eCtaNbpP3gqbtdh7cU9tuWAQ3UjvT1yBLPz41ABnF86fp5HfC4RuxranT+0xrl+y01vqbzNatDu2b7y7e/ugGIGIEbgOHl+jGt/rZV/3F+lJ4qrVf9oTpVLs9S977Vsv6/7TrtdfBxrXr650pc/prqX35OCyY/KKldNQszZS05rMS8Lao7VKcteYk6XGLV7K2n1X1Xrn58aJsWSMpdVa36Qz9W7l3h5tuuXYvs+tW16Vr/q3pVb81V4pHVsi7cq76nm7rVfLhMnT+Yrqw7I62fNNm6WMn79urdP8WykT0Eaw+1q2Zxtmwlp2R55iXVe7Rj5sIaeT/FFUE/eKTe9a8z9fMvsrT+V/Wq2/VEgLYMIJR2pK9Hjnh/bgTKc9DGV7tqnp+h/F90KutH1arfv15Zf96gGYt2+VwjnTqwOEcTV512XbP1eukZi879LNA1O0C+QT8XAETja0NdAACIpWu/+bWa75ilLbtf1dx7XS9+Z7om3eXU2MXHdf7L5Zrgfl2demj1IW2b/2Bv+u7f7NWqt6Tl7/+3XrQm9qVPtmvmG++qefF65X4nQ6mSuh7MUu53eu6QXKsPJ9/T6rY6VL9ushIl6Tu5yrqrS+mFh3XiywVKvVdSd7N+/bI0a/eD8pzLh1c/SQ9O0JPaoP863akF9/nczYmFxGRNCNQe75Wp8C2LVh6t1/qcvnacPnG1Mmev0t7vP6H133GvCYykHyYo133wvFdVtzm3py2Vqwd1XmMXH9aJzxco9ZuBix1aOwap20jt62Es/p8bE5R7h0+mwa6dGI+vnmsxVes/qNPKSa6rZNokpS60qvCE9GRvHXbphX0PaltLnRZ9y51vrmZNmyz7eN9rdqB8A9cNQHQI3AAMK3faXpTD5v966oNZkv5LN32++v7uhAe9/n3+xF51Ji/Wk1bvB41SC+v0SWHs8p0+xTXhcUlOzZC0Qe1fSrpX0pftOi3pu/d5b1QRbj6606LU8dLrn7arUoM1ebqm4469kvVVLcjxbsc7p/2Lnh+/XasPN+vH38ntbYNo+mHBzFyvtuxpiw1q75QUJHALux2jSDu8+3p4GKrPjViUpf/x1Xctzp3kdZVo7jMLVPhWWe8rp4+VqfNby5XoPKZjTs8cumVRp8oaT2v9dyaHmG94dQYQGgI3AMPT9Wtqv3BKn7e363Rzs959f68kqfOKpPuCJepU+7lO6Z9SFea+fmHne9tAn75XOnVME/S9YBtVhFw/iyz3S/rkc3Vq8iBN57t17Yqk8amy+L3nKs+fO3VNUuDqhdcPA7ZlfyIaJ+GlHd59PcwM1edGFGXpf3xd1bVOSZMe8i/bN8doVu8/OvX5p5I+3a4lM7YHPtUfneqUesdVVNcdgIjwjBuA4eX6ab0+f6ySkv9BY7ML9cJrb+v4jWQtyF8QUvL//d+hyTewVFl8nwuJSz7mE3E/hCqadqSvh5+h+tyIQ1l83Qzn9/3slbpw44ZuBPrbPYsvA4AhxvclAIaV07uf1Yq6CdrW1KhF4/ueGOp2rNaSAVMn68EJydKr7WqXvCcpJ8s0dtEprayq1oJv+aeMLt9g2uW8Iq9lR/HJJ9YSdeddkj5ql1O5Pt/0O+X8oyTbN/uZBIbYD1GUMJp2pK+Hn6H63Ih9WXx9XZb7JJ04p3ZN9r4Wv2zXcUkZkqQ7lfx/Jb3conO/nKvkCH6SAkD8cccNwDDSqfP/fVp64klNH++1zYOONbwd0hkenLRAyZ279K7D80GSbjUffFftVzL0UMDJV/T5+rkrWbk6rate35ZHko8rUBrbX6AUa3cqy7pAcryuvY3eD+RcO/KfevmjZC2a/FC/Z4isH0IVTX/R18PPUH1uxKcs3tzX4l7VnPAu27EDu9TZ++9ETZ6+Usnartf3++zH+nmN8pPGyt77swcAhgp33AAMI8l6cNJkadUqLVl1U8/ZUpXYdU4HKrfr3T/dFtJkNvE7C7Rl3l4VPm7Tta3P6amxiWqv/7k2vOLU3H0L1PNofqISx0sH3tqrA5bpypo0Iep8/dz3kCZLaj7fLuW4vyePoH7XnGr/SFq0rv9AKTr+7ZH8xEpVzrOqcKpNna527Gzcqw2bDkjzKrV82p39nzGkfghVp2rmp6uwbr0cN1ZqcljtSF8Pf4P1uREwZdzH151PrNSrT1i15F/sav/RIj01Vjr9y5/o5d8FqcNCq2yn1+s5W6q6P/+13v7Zdh2YtF6O2Q8GziCMunEnD4gOd9wADCsT/m2/HJu/p+76JbLPsGnJS8f0d/Y9ajq6TU9KOn6+31/3kpSqubtb5NiaIeeeF2SbYVdZc6qeP9qiSrt72jRBT6xbrul/2qD8GbO192ws8vWrib77vHSs+bTXj9+Gm0/3f/+XXtcsZU3oP1CKjn97SKmau6tJ9R7tuKq2W0/salTL7rkhbOIQSj9EUeKQ25G+HgkG53MjYM6DML5SteCXh1Q5L1HHf5Yv24yf6L/+73od2rU4SB2eVGLDBtln2JT/s2bp8UqdfHelJvv+nMGAAn0uAIhGgmEYxlAXAoC5ffXVV0NdhBGp+0SZrI+168d/flWzIvrx2m4dW/+wbJ0v6a+7ZonpvHnR1xh0jRuUNPW8Ks9Wa26Qn80YCrfffvtQFwEwLe64AYBJJU6aq0XT9mpvfbjfsLtcOay3t1r04hIm8mZHXyNeTr9i1cQZ23Xa69VuNTcclpIz9E0TBW0A+kfgBgCmlaqn1q1X16s1au7nB6GDaX9vr379g/VaMD72JUOs0deIjwm5T2rUb1Yrf36Zao4c07HfHNDry+yat8WpuVvmhvm8KIChxFJJAANiqeRQ6lbzFpv+I3mP6grD+HnfK4e14rHDmv7BNk2PaOkdBh99jfi4drZGW17cpffqmtWuZD1oe1KL/u3HWvQd8+0/ylJJIDgCNwADInADAAwGAjcgOJZKAgAAAIDJEbgBAAAAgMkRuAEAAACAyRG4AQAAAIDJEbgBAAAAgMkRuAEAAACAyRG4AQAAAIDJEbgBAAAAgMkRuAEAAACAySUYhmEMdSEAAAAAAMFxxw0AAAAATI7ADQAAAABMjsANAAAAAEyOwA0AAAAATI7ADQAAAABMjsANAAAAAEyOwA0AAAAATI7ADQAAAABMjsANAAAAAEyOwA0AAAAATI7ADQAAAABMjsANACJxfLMSEhK0+Xi803WraVOOZv6yLbx8Ltdr2QMlclwPs3xRcn5Qrs37nYObaaR9Ee/zD/O+jot492U8xLrMxzcrISFP1V/E6fwD5n2LtT8wghC4AYCJdf+hXMV1M7V2flp4Ce+2qXhlqwo2OtQdn6IF0KQKa4lODl6Gw8qt1dcAgMFG4AYAkchaI8MwtCYrnpm0qerf1yplZZGyE8NPnTavWAX7SrTzVOxLNqLQ1xhKgzL+hiAvAGEjcAOAALp+W66F1oeVkpCghJSHNeWZcjk8VwD6LClyvpWnhITNarrcpPJncpTuSjdzZbVaAy1hu9mm+k0FejglQQkJ6cp5plxNl70P6f6gQmsPLVXRDIv3G5ebtHNJnnIeSFCCR/l80+sOq/KWdKhke526omyPAX1RrbyEHK2VVJef4r3U629OOV5ZppmPpCghIUEpj8zUsle2qb4IAAAgAElEQVSavMvkXh722zotfCRFCSkPK6+y1fVml5oGSi+F1KaBhNvXvWU916rqlTMHzm+49fVg6K/Nuh1am5KglE1Nfsm6j5b0jT2ffkpPSFDCAzla+DOHnH/zTdml1rdKohijkq6GkE8o14KvgMsXQ7wmfGsZ17EeQhsCiI4BAPBys6nUyJTFsL2w26h1NBgNdTuMoiwZsqwxGm66DmoqNSQZpU09/+yothtStpGdlWbYN1YZBx0HjaqNdiNNMiyrGwx3Mnc6iyXNsP5gh1HraDAO7ik2rBYZmrHbuNBXCqPhRzL07EHjqmfh/qfBKLbIsDxWZOyoazAaHAeNqrIiI1sylLXVOOlbmaZSwyKbsfuzeLSUh5sdxknHDqNIMqzrao0Gx0mj46ZhGMYFo2q+xZCyjaLttT3ldbfL/Kq++jaVGpLFsFiyjaV7DhoNdbuNg62e6f3bNfunJ3vaNeQ2DVDsCPq659+ZRnZWX36124v88xuufR1PIbZZ40aLIUup0eiV2NWOhbU97djbTxYjbc7W3n7KlgzL/Fqjozddh1FbmGbIYnWN0b7+DGmM9pZ5oHzCuRbsRtVfvNukd/yFck0EENexHmobAogKgRsA+GjcKEOzfSYbrTsM6/3ZxlavCY1v4CbD/sYFn3NZDMljgume5P2owWuCdWGPrWey1uZ64WaDURzgfFffKzay7/eY1Pmm93nduHrQWCoZ+TUdRvw1GqWSYa/uy+tqXZEhZRprPvSeTl6tLzYsshhrHK7XXe1iffWs13E3HWsMiyxG8RHv9Bd+YTPSstYYDf9jhN6mgUocQV+7/525rtErv54x4D/hHp59HSehtlnLViNTFo9gxuhtx6K6q97n8gkcbh7xHns9Y8xm7Gj1Kctnuw1bCGM0WJnd+bjLGN61EDxwC+maCCCeYz3kNgQQFZZKAoAPyzds0v4dKq9sUpt7meNDS9XwWaOK+332w668R703lki7P0fSSbV94X1k0RNWeT7KlDYmR1Kd2tzLlr5oU4ukiQ94n2/U41vV+Fmt8r/hfb6e9F266bs7xagUpWVI1efC3KkwJrrUeLRCmrpURf/s/eDWqBkFKslwavOhRq8NNayZY7yOaz1eIadlmfKmeqdP+8FBXWgqlfWOvtcGbNMAIu9ryTYt2ys/S9rEnvxGZF/H1oBtlmFVQYZTO472LZfsOlqnchXJ9ugoj5QWLVuSL8+WTZyap2UWpyqO9yxzbPlgs5wPjVFih0OODzz+/tKtFDm1+bctXmXzHaM9MlWS713mxKl5KpJTOz5oUSTXQjDhXBOe4jnWw21DAJH52lAXAADMJm1OqXYcytOyZ3K08xkpLcsuW36BiubYlWkZIHGIn6q3DXTcZaccypQt2EYV17vU9seTamtrU0tTk2r3V0iSnJcl3e95YIpSHpD0cZucytZAxY+tbnVdlpSRphS/91zlaneqSwpSLqfaWp3So2kKZZ/FAds0gGj6OtT8RkZfx9bAbZspa36mSrY51LQuW9nqUuOhndKzB2W92/O4HKV9wzdtmtIelZwtrXIqRW3nJJ0r10JreeCsPuuQU8HGaN85U+72f+3hOZLzLx3qUkqU14JbeNeEV2niNtadMWpDAAPhjhsA+LojU0trLujmX06qdk+xrLe1qnZ5niam5Gjz8cHccD3AZPB6i3bOTVfC339d6ZkFWvZKtRqvW1T0/aJBLNfg6Y53c9PXt6zMqQXKdNaq8ZSkrkbVvyYtnZGjUQOmdEn0iJTnVKmj5/ER/7837NEFHHckKoKNQoOK+JqI91iPZxsCkETgBgBBJX4jU/bCrdrtOKuOSw1ak9GktW84BnGXtDZ1+Ozc1vJakZa9k6kdLVdlGB0662hQ7aulKsgKebo6iBI16m5Jp9rU4fdehzo+k/RQWj8TOovGZFqkD9vkt/jvD5uV/kieKs7FqKT09a0nw66lU1tUdbRFXR/Wa6eKZZ/q2zb+7Sq1qe1DKTMzTRaNkiVV0jsndTaq2CVwPmffkTJTvq7EqK8Ft+ividiP9Vi1IYCBELgBgJc2Vf8wR+nP+GyrfneKUu4ZxGLcbZFVLbrq9VMCTrX+vkWanSdbhucEtUuOo1VBTuSaFD4SyqQw1kYpZ2qRdHSnKn7rPaPrOlSlracsWpod6HmhPmOyimRx7lDtUc/03Wp6r1Ztlyfq4YeiKR99fWtLk3WeTS3V9dr54U5ZVtuU43drq0VVdU1ez44591dphzNTBY9lSkpUzow1sqhcO9/xCYXaq5WXkK6Znlv+B+WfT9tbO1Qhdz7RXwtukV0T8RzrsWpDAAPhGTcA8JIm69Q03Zy7VHlfa1PR7ExZ5FTLOztUcjRbpT+1hr4UKxr3P6xsSU2tbdI/u59msWhMdra0olgLV9xU8eNpSuxqVd0vy1X72W2BJ+tdHWo7JS3dGNqkMDqJSsyQ6vZVqM5iU052piyz16hqfo4KHrXKub1E+eMS5fxthdb+e500v0rFM/pvzcTHilQ+v0IF06zqcqVve79ca1/qUH5NkbLDKp9T1XNTVPBOqRqNNcqmr295aY/aZXtmrXY4LSqqzgm4JLFlk10znWu1dN4Y6Q87VbKyTmkbG7U0o+f93jH2/RxNaSlV8eNp6m6vV9VPy1WXVarGOaG0Z6YSjxZoprNYS+elqds1xj3zGRXlteAW2TUR37EemzYEMBDuuAGAD8ucKjXWL1PaHytUbJuiKbZiVVzOUdXH9Vrzj7F8WqU/mbL+SHI0tXh9Q575Qr0ay2bq5vsLNdM6RQvLHEqcU6WWD3coT1Jjq/c33t2/d2in7MrJHIwQJFP2jcWyfbZWeVabKs5IUpry97SoYftEdfxiqaZYZ6q4plv2PSfV+kZ+CBsspCn/jVY1eqTf3JSmkg9bVTUn+vtK9PUt7n6r7DOccqpI1uzA/VVaXy/736pUYp2ipW90y159VvXrPHdJdI+xPCUeXauZ1inK+2mjNLtKZw+tUXaQXRq9pWlZZa0rn5kqeKNbtj0n/fOJ6lrwLW9410R8x3os2hDAQBIMwzCGuhAAAH/dxzcrJ7tNay/tlt1vx7qQziDHT9I0xblTV/fYB+fuESJCX0eq5y5q8SON6ljnc6/p+GYlZK9VaZOhNQNsdw8AtwLuuAGASSVm5WvpjApVvB/h73Jdrlf1iynaunwkTeRvTfR1hP54UFXvZKrk8fAWzQLArYjADQBMK00FG0t1dXu1miLYra1tf4UOPluqoozYlwyxRl+Ho+t4hcp/VqK8GQtVP6dEBSOk3gBGNgI3ADCxxH8sVrn9oEr3hXkn5nK9ysvSVLHRNrLuwNzC6OswXG3VzpXlanmgVA2v5o+QXTQBjHQ84wYAAAAAJscdNwAAAAAwOQI3AAAAADA5AjcAAAAAMDkCNwAAAAAwOQI3AAAAADA5AjcAAAAAMDkCNwAAAAAwOQI3AAAAADA5AjcAAAAAMLmvDXUBAJjfV199NdRFAACMALfffvtQFwEwLe64AQAAAIDJEbgBAAAAgMkRuAEAAACAyRG4AQAAAIDJEbgBAAAAgMkRuAEAAACAyRG4AQAAAIDJEbgBAAAAgMkRuAEAAACAyRG4AQAAAIDJEbgBAAAAgMkRuAHAYDpRpqSkJJWdCDVBt5q3WGWvbA8vnyuHtWL8ah27Hm4BQ9f5m+0qe68zfhkEEnb7DaFh1Nf9upX6xC3WZT5RpqSkfNV8GafzD5ZbtdzACEHgBgAm1n1yu1Yf+J5+PC81vIR3TdfyF86r8MVj6o5LyZq1d8ZqnYrPyUck8/Y1AMAMCNwAwLTa9famDbK8sECTE8NPnTrnOT311mr94qPYlwyxRl8PK5NW6saNG1o5aagLEqZbtdzACEHgBgC6pubXVsj+7XQlJSUp/dt2rXitWdc8D/lbp44NdIyka43btWTGRKUnJSkpfaJsi7frWKDVhN3tOrylUBPTk5SUNFbWxdvVfMXnkN/s1YYji7RgerL3G1ea9frz+bKOT1KSRz6+6XVHrp78oVOrXz3gV86ofFmj/CSrNkg6UJjuvUQslHZyLytrPKAl305XUvpE5e8773ozhL6QQmq/wOjruOmvnt3HtCE9Selbmv2TOVb3jSH32Pj0vGrW2DU2KUlJ461a8vIxdf7NN+U1na9ZHcVYk9QVQj4hjgcvAZcchji2/QzimPUtt09/9H+9hdAfAKJC4AZghGtXzcJMWUsOKzFvi+oO1WlLXqIOl1g1e+tp19KzdtUszpat5JQsz7ykeo9jMhfWyP1EUveJMs2Y+rKcE57TS4fqVf/yIqWeXy1b9gYd81nDtutfZ+rnX2Rp/a/qVbfrCSUeWS3rwr3qe7qpW82Hy9T5g+nKutMj4fVjWv1tq/7j/Cg9VVqv+kN1qlyepe59q2X9f9t12qd2k62Llbxvr979Uwyb7K5c/fjQNi2QlLuqWvWHfqzcu0Jvpx7Hterpnytx+Wuqf/k5LZj8oELri1DbLxD6Op76rWdirr73w2R1/uKYvEO3bjU3bJfmP6Xp97pfa9euRTO04c/f1U8P1av62Yd0bo1N2YsPqC/G6NSBxTmauOq0q5/q9dIzFp37WahjzVXmxQPlE86Y7k/oYzv8dLEfs75l2LXIrl9dm671v6pX9dbcAGM4nP4AEDEDAAZw48aNYft35dBKI1nJxvL3r3i9/smO6UbqpJVGfecN469vLTCkCcbKo97H/HX/ciNZycbKQz2vO9bJ0BOVxieeebRsM3Lvm2y8+IHr3x+sNyQZyc/XG1c889s13ZBmGZVnXa9dqTeWS8as3Z945/nOcmPyfbOMyk+969Gb3uf1G3+tMxZJxtx9F2Lcdg5jvWTMquw7b6jt5G6D3JdPht0XIbcffT14f6HWs+lFY4KSjfUfeKR11X3BW3/1Ptc877a98r53+/f05XRjW4tPWT561ZgewlgLVmZ3Pu4yhjemPfrEdX73eUIa2yYas+t9/j1hlcOrnS5UzvKqb8j9EcIfgOC44wZgRDt/Yq86kxfrSav3g0WphXX65IP1yr3jmo479krWRVqQ433MndP+Rc+P71TZ4WZ1S0q+d7r03i5t39esdvcOf99apPqPHFru88zIgpm58jxb6oNZkg6o3f1V/5ftOi0p4z7vjSrutL0ox0fVmnuv18uu9F266fvN+Z0WpY6Xaj6N93feobeT23cnPOh13MB90ffagO0XAH0dXwPWc3yu/mV8p3Y5+u65XXMc0HYt0PR/8rzVmKzFP5wrz9ZItD6pxcmd2nuiZ5nj6WNl6vzWg0p0HtOx33j8fdktizpV1uh9P9J3rPWYoOef8i5zovVJLVCndv3mtCIZ08GEM7bDSxefMetr+pTJXu2UnJoh6YDaXUukw+0PAJH52lAXAACGTqfaz3VK/5Sq4Pv4devaFUnjU2Xxe88iy/2S/typa5JSZ6/XtiP5WrHYqtcXS6mTZmn63Ke0wD5LE3weXbptoE/fK506pgn6XrCNKq5fU/uFU/q8vV2nm5v17vt7e2p0RdJ9Acr4yefq1GQlBzhVbITeToGrFEpf9Bmw/SI6P30djYH7ZIJyn5qg1duPqXnVZE3WNR0/8rr0gzp99y7P47KUeq9v2lSl/pPUefq8OmXR559K+nS7lszYHjirPzrVKQ3QBqmy3OX/2hi71PmFU9dkiXJMu4U3tsNLF58x66v/vu2MUX8AGAh33ACMaP/7vzE82R0TtGjfJ7ryaaOqdy1XbuI5vVuSr5x0q8pORLJRe4CJ5fXTen3+WCUl/4PGZhfqhdfe1vEbyVqQvyAWNRhSMe2LeJ+fvo7IBOu/aELnu2r+SNK14zr8S2nRtCzdOWBKl7/7u77/tlfqwo0buhHob/es6IKEpET93cBHhSzSsWfuMesjnv0BQBKBG4ARLVkPTkiWftfu//D8yTKN/Xa+9n6aqDvvkvRRu5x+6Z1y/lHSt77pNSlJvHeCZs1/Ua8eOqkLf67XyvHN2lB9LILd1drl9Nm57fTuZ7WiboK2Nf1VN25c0MlD9ap+eb2emhTy1DdOwm8nb6H0RTTlo69NYfwTWmQ9rf90nNa13x3W61quWVbf+vi3hdSu9t9JEyakKll3Kvn/Sqpr0bmo4o3A+bTWSRMso5QY9Zh2i3Rsm33MusWqPwAMhMANwIj24KQFSu7cpXcdnjOObjUffFftVzL00LfuVJZ1geR4XXsbvWcl1478p17+KFmLJj8kqV01y6wau9hnO/a7LLLcHUHB7kpWrk7r6nXPFzt1/r9PS088qenjPSe713Ss4e0gJ3JN3saGMsGMRqjtFNzAfRFdCelrM0hV7tzpOv32Yb3+u9eVXPK9AL9bd1r/ecD72bHO997Wrs4J+pfcCZISNXn6SiVru17f7xPSfF6j/KSxsntu+R+Ufz7tNbu0V+58oh/TbpGObdOOWS+x6g8AA+EZNwAjWuJ3FmjLvL0qfNyma1uf01NjE9Ve/3NteMWpufsWaLIkPbFSlfOsKpxqU6frmM7Gvdqw6YA0r1LLp90p6U7lWr+pm/Nf0Lyvfa5/fWKCktWp03W7tNoxWes35Ia+HEyS7ntIkyU1n2+XctxPuCTrwUmTpVWrtGTVTT1nS1Vi1zkdqNyud/90W+DJ+jWn2j+SFq0LbYIZukQljpcOvLVXByzTlTVpgpJDaqd+zhhKX4SsUzXz01VYt16OGys1OdTz09dxl5ozS9MXb9CuzmQt+NXkgM+Hnd4yT/bOH2vR3Iekk6/rJ2sOKHWdQz8c3/N+b18utMp2er2es6Wq+/Nf6+2fbdeBSevlmB1oMxJfE5ToeEb2zuVaNDdV/+vqZ8987oxyTLtFOrZNO2aDlTOq/gAwEO64ARjhUjV3d4scWzPk3POCbDPsKmtO1fNHW1RpT+47ZleT6j2OWVXbrSd2Napld9/ud8n2Sjn2L1bqn36lVbNtss1epV9dmazK3+/Xyon9b1/gb4K++7x0rPm01zfkE/5tvxybv6fu+iWyz7BpyUvH9Hf2PWo6uk1PSjp+3vsb7+7//i+9rlnKmhDr5XUT9MS65Zr+pw3KnzFbe89KobZTcKH0RTToa1O4L1ezpnWqUwv03UmB22r9/v2a9be39ZMZNr1Q1a0nKk9q/yrPIM/dl08qsWGD7DNsyv9Zs/R4pU6+u1KTg+zS6C1Vi1+vduVjV2F1t6bvavTPJ6ox7VvecMe2WcdssHJG0x8ABpJgGIYx1IUAYG5fffXVUBdhROo+USbrY+368Z9f1Sy/3e9COoOOrX9Yts6X9Ndds6L6Rh3xNbL6uudu6KqxDl1Y5XOv6USZkh7boPUf3NDKAbaox/B0++23D3URANPijhsAmFTipLlaNG2v9tZH+LtcVw7r7a0WvbjE7BN5jKi+/tOv9Z91E/S8LbzFrwAw0hG4AYBppeqpdevV9WqNmiPYra39vb369Q/Wa8H42JcMsTb8+/raib3a/vJq5c9eosP25/WUicsKAGZE4AYAJpY4cblenPVr/cdbYd6JuXJY219K1Wvrppv/DgwkjYC+7jqn19ds1+n71qv+5bkm3vkSAMyJZ9wADIhn3AAAg4Fn3IDguOMGAAAAACZH4AYAAAAAJkfgBgAAAAAmR+AGAAAAACZH4AYAAAAAJkfgBgAAAAAmR+AGAAAAACZH4AYAAAAAJkfgBgAAAAAml2AYhjHUhQAAAAAABMcdNwAAAAAwOQI3AAAAADA5AjcAAAAAMDkCNwAAAAAwOQI3AAAAADA5AjcAAAAAMDkCNwAAAAAwOQI3AAAAADA5AjcAAAAAMDkCNwAAAAAwOQI3AAAAADA5AjcA6NWl1rdKtPMPcczi+GYlJCRo8/FQE3SraVOOZv6yLbx8Ltdr2QMlclwPt4CRcX5Qrs37nYOTmVvYbekt7mUeLn0dZTsPiViX+fhmJSTkqfqL2J9/SK6dQTKc6wYMBQI3AHD7ol5r88vV9behLkif7j+Uq7huptbOTwsv4d02Fa9sVcFGh7rjUzQPTaqwluhk/DOKIfOV+dboa8SW+cZh7AznugFDg8ANAEyrTVX/vlYpK4uUnRh+6rR5xSrYV6Kdp2JfMsQafX1LyVojwzC0JmuoCwJgJCFwAwCpZ+nT/ylQnaS12QlKSNisJtdb3efqtPmZKXo4JUEJCQlKeCBHeSur1eqxNM35Vl5PmstNKn8mR+kJCUpIeVgzfY7rdbNN9ZsKXOdMV84z5Wq67H1I9wcVWntoqYpmWLzfuNyknUvylPOAqzwpD2tKgPS6w6q8JR0q2V6nruhaJ7gvqpWXkKO1kuryU7yXk/3NKccryzTzkRQlJCQo5ZGZWvZKk3dZ3EvQflunhY+kKCHlYeVVtrre7FLTQOmlkNoy5DKH0rbuMp9rVfXKmQPnO1z6ur96dDu0NiVBKZua/JJ1Hy3pa2Oftkt3XU8Lf+aQ0+9Od8/S5cjHj6SrIeQTyjj1FXCpZIjj1W0wx+H1VtV59N3MldVqPVetvAB1CLnN+8u3v7oBiJwBADCMS2eNhpo1hlUyil5tMBocZ42rhmEYn+02bJKRNqfUqKpvMBoctcbuF2yGRTIszx7sOcYwjI5quyFlG9lZaYZ9Y5Vx0HHQqNpoN9Ikw7K6wbjpzqep1JBkWCxphvUHO4xaR4NxcE+xYbXI0IzdxoXeAt00Gn4kQx55GIZhGP/TYBRbZFgeKzJ21DUYDY6DRlVZkZEtGcraapz0rVdTqWGRzdj9WXyazbjZYZx07DCKJMO6rtZocJw0Om4ahmFcMKrmWwwp2yjaXttTTnd7zK/qq2dTqSFZDIsl21i656DRULfbONjqmd6/PbN/erKnPUNuyxDLHGrbNpUaUqaRndWXb+32Iv98h0tfh1iPxo0WQ5ZSo9ErsatuhbU9dettO4uRNmdrb9tlS4Zlfq3R0Zuuw6gtTDNksbrGT18bhzR+ess8UD7hjFO7UfUX7zYpbfI9Tz/j1ddgjUN32dxtWV9llM5JMyxZ2UamVx3CafMB8g36uQAgGgRuAOD2lyrD7jWRMYyTr1qNMVmlRqPXpOOm0bDaYkh9k9SewE2G/Q3vcKFxo/dxvRPKHzV4TeYu7LH1TAzb3Fk0GMUBznf1vWIj+36PCaRvep/XjasHjaWSkV/TYcRPo1EqGfbqvjyu1hUZUqax5kPv2drV+mLDIouxxuF63dUe1lfPeh1307HGsMhiFB/xTn/hFzYjLWuN0fA/RuhtGWqZQ21bV76Z6xq98u0ZA/7H3fJ9HWo9WrYambJ4XT/uuhXVXfU+l2cgYBjGzSPe46Kn/23Gjlafsny227CFMH6Cldmdj7uM4Y3T4IFbSOM1oPiPw546ZhulTV695wo0fesQepsPOP4D1A1AdFgqCQD9yHy2QWeb1vg8d5Sohx/JkXRVN70evLcr71HvjSXS7s+RdFJtPsuEip6wyvOUaWNyJNWpzb0B2xdtapE08QHv8416fKsaP6tV/je8z9eTvsunPJJGpSgtQ6o+F+ZOhVHpUuPRCmnqUhX9s/cDW6NmFKgkw6nNhxq9NtKwZo7xOq71eIWclmXKm+qdPu0HB3WhqVTWO/peG7AtQxRu29qmZXvla0mb2JPvMO3rAeuRYVVBhlM7jvYtl+w6WqdyFcn26CiPlBYtW5Ivz9omTs3TMotTFcd7ljm2fLBZzofGKLHDIccHHn9/6VaKnNr82xavsvmOnx6ZKsn3LnPi1DwVyakdH7QoknEaTDjjdSCxHYfuOhYpP8ur95T/wyKv84Tb5qGOfwCx87WhLgAA3Aq6u5xqO3dWbW2tavywXnX76yXZ5bwsyXOCFeKn6m0DHXfZKYcyZQu2UcX1LrX98aTa2trU0tSk2v0VktRTnvs9D0xRygOSPm6TU9myBDhV7HWr67KkjDSl+L3nKk+7U11SkPI41dbqlB5NUyj7Kw7YluEKsW1DzXe49PXA9c2UNT9TJdscalqXrWx1qfHQTunZg7Le7XlcjtK+4Zs2TWmPSs6WVjmVorZzks6Va6G1PHBWn3XIqWDjp++cKXf7v/bwHMn5lw51KSXKceoW3ngNWUzG4VV1OSVlPexfttSHZe/9hzPsNo/5dQdgQNxxA4D+tNerxJqi276eooezF6q0sk7OO2wqmm8dhMwDTDyvt2jn3HQl/P3XlZ5ZoGWvVKvxukVF3y8KeIZbVfdQbCE+pG07PPo6c2qBMp21ajwlqatR9a9JS2fkaNSAKV0SPaLXOVXq6Hmkw//vDXt0gekdiYpg886gYjpeY9zvN8P5fb94tjmAqBG4AUBQXarbOFPlVwt08C83ZRgX1HikQbvLlsr+wGDk36YOn93hWl4r0rJ3MrWj5aoMo0NnHQ2qfbVUBVkhT40HQaJG3S3pVJs6/N7rUMdnkh5K62cSaNGYTIv0YZv8Fv39YbPSH8lTxblYlrfH0LbtrdrXPjLsWjq1RVVHW9T1Yb12qlj2qb7l9a+r1Ka2D6XMzDRZNEqWVEnvnNTZqAKiwPmcfUfKTPm6EqMep26xHa+x7fevK+V+ScfP+pftizY19v4jVm0OIJ4I3AAgqFa1Vkp6PE+2b3h8P/+3VtXvd8Q367stsqpFV72+LXeq9fct0uw82TI8J3FdchytCnIi1wT0kVAmoLEySjlTi6SjO1XxW+9ZYNehKm09ZdHS7EDPJPUZk1Uki3OHao96pu9W03u1ars8UQ8/FOsyR9K2MXJL97WvNFnn2dRSXa+dH+6UZbVNOX63tlpUVdfk9eyYc3+VdjgzVfBYpqRE5cxYI4vKtfMdn3CjvVp5Cema6bnlf1D++bS9tUMVcucT/Th1i914jfU4dNexQtXHvcvmqNuhvsdAY9XmAOKJFcoA4HbHKKVIqn2jQpk3c5Tz2BhlPmuRNhUo7++3auk/jlK3s0lVP92hpu6YPs3i7/6HlS2pqbVN+md3XhaNyc6WVhRr4f7RnHAAACAASURBVIqbKn48TYldrar7ZblqP7st8GS9q0Ntp6SlG0ObgEYmUYkZUt2+CtVZbMrJzpRl9hpVzc9RwaNWObeXKH9copy/rdDaf6+T5lepeEb/dw8SHytS+fwKFUyzqsuVvu39cq19qUP5NUXKDqt8TlXPTVHBO6VqNNa40vqXOey2jZVbqq8HlvaoXbZn1mqH06Ki6pyASxJbNtk107lWS+eNkf6wUyUr65S2sVFLM3re7+3/7+doSkupih9PU3d7vap+Wq66rFI1zgmljplKPFqgmc5iLZ2Xpm7X+PPMZ1SU49Qt8vEa/3E4avYa7Z6do4WzZ6rtJ0uVP05qea1EWz8MUoeo2rz/ulliuT4VGIG44wYAbqOsKtqer+79CzXTWiqHc5RsZQ5V/WiMWrflaYq1QCW/bNPEskadfGepMtWos5/Fa11Rpqw/khxNLV4/fpv5Qr0ay2bq5vsLNdM6RQvLHEqcU6WWD3coT1Jjq/e35d2/d2in7MrJjOfyukzZNxbL9tla5VltqjgjSWnK39Oihu0T1fGLpZpinanimm7Z95xU6xv5IWzikKb8N1rV6JF+c1OaSj5sVdWcWIRR/mUOt21j51bq6xDcb5V9hlNOFcmaHXimXlpfL/vfqlRinaKlb3TLXn1W9es8dyl093+eEo+u1UzrFOX9tFGaXaWzh9YoO6RdGtO0rLLWlc9MFbzRLduek/75RDVOfcsb7ngdjHGYpqI3HKqan6jGn+ZpirVEjtRSOfYsC1KHaNq8/7oBiE6CYRjGUBcCAOCv+/hm5WS3ae2l3bL77Y4X0hnk+Emapjh36uoee+gbRGDQDa++7rnDWfxIozrW+dxrOr5ZCdlrVdpkaE3W0JQOLr9dq4RHW1XVVqv81KEuDIBQcMcNAEwqMStfS2dUqOL9CO/0XK5X9Ysp2rp8qCfyGMiw6us/HlTVO5kqeTy8Ba2Ij5aXcvSwtVzev8LWraYj9ZJlotII2oBbBoEbAJhWmgo2lurq9mo1RbAis21/hQ4+W6qijNiXDLF26/d11/EKlf+sRHkzFqp+TokKGHemkPlYnkZ9UKK8uZtVfcghxwd12vnDmbJv6lD+tvwwnxcFMJQI3ADAxBL/sVjl9oMq3RfmnZjL9SovS1PFRtvQ34FBSG75vr7aqp0ry9XyQKkaXs3nN7/MIqNY9R9Xya6DWmuboinWpdrpHKO1jhZVzYvzJksAYopn3AAAAADA5LjjBgAAAAAmR+AGAAAAACZH4AYAAAAAJkfgBgAAAAAmR+AGAAAAACZH4AYAAAAAJkfgBgAAAAAmR+AGAAAAACZH4AYAAAAAJkfgBgAAAAAmR+AGAAAAACZH4AYAAAAAJkfgBgAAAAAmR+AGAAAAACZH4AYAAAAAJkfgBgAAAAAmR+AGAAAAACZH4AYAAAAAJkfgBgAAAAAmR+AGAAAAACZH4AYAAAAAJkfgBgAAAAAmR+AGAAAAACZH4AYAAAAAJkfgBgAAAAAmR+AGAAAAACZH4AYAAAAAJkfgBgAAAAAmR+AGAAAAACZH4AYAAAAAJkfgBgAAAAAmR+AGAAAAACZH4AYAAAAAJkfgBgAAAAAmR+AGAAAAACZH4AYAAAAAJkfgBgAAAAAmR+AGAAAAACZH4AYAAAAAJkfgBgAAAAAmR+AGAAAAACZH4AYAAAAAJkfgBgAAAAAmR+AGAAAAACZH4AYAAAAAJkfgBgAAAAAmR+AGAAAAACZH4AYAAAAAJkfgBgAAAAAmR+AGAAAAACZH4AYAAAAAJkfgBgAAAAAmR+AGAAAAACZH4AYAAAAAJkfgBgAAAAAmR+AGAAAAACZH4AYAAAAAJkfgBgAAAAAmR+AGAAAAACZH4AYAAAAAJkfgBgAAAAAmR+AGAAAAACZH4AYAAAAAJkfgBgAAAAAmR+AGAAAAACZH4AYAAAAAJkfgBgAAAAAmR+AGAAAAACb3taEuAACzuyhH+TYdueT96uipK7RiyuihKdKwEWbbfvKmVu2Tnt7ytMZFkl2A9GeqVunNjyXdM00riq0Ku0fjcU4AAOCHO24Agrvk0LZV/oGFJF08uk2rqs4MfpmGizDb9mLDNq3aF3l7R5t+sM4JAAAC444bgKDOHDmii/0d8PGbevOTLXp67GCVaPgwS9uOK9iiLbfAOQEAGOkSDMMwhroQAMzIYxmf75K3Sw5tK3cFHo88rS0F4ySd0Zur3tQZ+S71C3Qe72Of1pvadtQdxoxzLbvrO0Ze+cgvr/DTu0rWsM0jXQ/vsnvm87QyTr3pukN2p5J1TZ1+x/uXLfBy0nDadnTA5ZSe6fqvR+DlmO70FwMuawyUZrSmFa+Q9Z5g7w90Tu+28S9ngLYJmDcAACMTSyUBDOzSER35xOPf91i1YssWbdmyxS8YCtfFo75Bxxm9Wb5N23wm+Pr4TW1r8L9HFWn6QMFO7/kC5vNmXzBxz2TNmOoKcU6d8b5z9skpV76jlTE+hKe7omzbcOsxsCBBmS7qSPk2OQIs7QzJJYd/n8h3WWic8gYAYBhgqSSAIEbL+r1xOuJ6hunMvlVa5X4rwN2raPJx303p3dTi0kVdDHB37qLzouS31UUk6c/oiCvYGTffvRyxL2i4eOqMLk7x3VTD567PJWn00SO6eOmUzlyy9r5+5pQrCLknQ+OC3iEKp21Hy1q8ReN6A7RxHhuBnNGbIdQjeHr5L9e8dEanXAFS3zndbXhRR46ckbVgXHjn1EU53nAvDe07tre/Pj4ix6Vxsiq0vAEAGIkI3AAEN/ZprZga4I7Ox29q1SrFZtfAR6b1Bj3jMsZJH/cEM+O+5z7vOGU8Ip35WJLzovxCt4jSj9PTWzyewvrkzYE32fDIR5J0zzhl3HNERy5d1KmPLso6pScgPPVxz9ujM8b13y4xadsI6hGGM/u2yVG8QtZ7fPIJl1cw2Bfg9fSXx46UHnfUYpY3AADDBIEbgH6NnrJCW6YocFBw6Yi2VY2O6u7baEug0GS0/iHEaDDi9GEGOf75jNa4jNE6cvRi3x263mWS4zQthJ9KiEnbxjhY0z1WTXvkSM+dMF3UkfJVOiLF+C6ry9in5RWTDWbeAADcYgjcAITGa5Lt8SzSx6d0RuMi+12xoXLJoW0ewU7Psrxgz1cFN3p8htdyydHuZZKPZITXHpG2bYzq4atnV0if87juBMb79/uGMm8AAMyMwA1AYB53cvwnzKM12iLX0raLunhJ0q2049/Fv/o9bxWR3jtEF3XkyJsa51omOS4j9LtkUbVtrOoRUM+zdVbXv9zPo108ekRnpkSe10XnRWmsq76uHTRHz/f92YP45A0AwK2MwA1AYGMzNE5nejb1OLpNq44GOa53E47R+od7pDOXvCfYFxvejOruT3yd0alPpHFjJX1yJKJy9j5X9/GZ3mWSGQP99lrYbTuQ6OvRyyOoHOcRUI22jJY+vqiIAvXe5wF9xsZHp3RR0sV9q/Tm/C16WnHIGwCAYYLADUAQ4/T0/HEDPj/VtwmI552iM3pz1ar+kg0tj8DJa0fHKM8lKcRlkuG2rfsZu4vqbdt7pmlFcej1CJze6n/g2Gmads8ZHbkU5Jwem7SEfE6NlvX703Sq/IguBhob90zTtLGSFHreAACMNPyOG4Dgxj6tLVtWaFqgyfI907Rii/cSt3EFW/T0I96HjZsfJP2QGqeni6d57dg4euoKbZnvCrkundKZkO9a9exa2fuvgZZJuoXZtj0Blce/L/1VF8OpR8D0gfQsU1wx1f9ZstFTV3hvEhLyOeX6fboAyxwfeVpbivuC/5DzBgBghEkwDMMY6kIAwK2s9/fI4vKsGQAAAHfcACA6lxw64tqUJOzdJAEAAELEM24AEAnXjoh9SwNHa9o0wjYAABAf3HEDgBgYN38FG2cAAIC44Rk3AAAAADA57rgBAAAAgMkRuAEAAACAyRG4AQAAAIDJEbgBAAAAgMkRuAEAAACAyRG4AQAAAIDJEbgBAAAAgMkRuAEAAACAyRG4AQAAAIDJEbgBAAAAgMkRuAEAAACAyRG4AQAAAIDJEbgBAAAAgMkRuAEAAACAyRG4AQAAAIDJEbgBAAAAgMl9bagLAMCcvvrqq6EuAgBghLr99tuHugiA6XDHDQAAAABMjsANAAAAAEyOwA0AAAAATI7ADQAAAABMjsANAAAAAEyOwA0AAAAATI7ADQAAAABMjsANAAAAAEyOwA0AAAAATI7ADQAAAABMjsANAAAAAEyOwA3AIOhUzfwkJSX5/G1pDnh085YAx3r8lZ0I7/ikpCQlza9RZ8jHlylwyVxOlAU874D1DViXZpX12x4e73v85df45+qdb75qvvR5+8sa5Qdpw1uKZ/sH+ettn95jA7SHPMaCZz96nj9AnwRM46GzJj+0sR5CPdz5nOk9Z+B6BMwz2DiOsn5xNUCbBBz3IbWjf7sFbLMB6hzLvvW9BjsD9fFA5/HNmzEFDGsEbgDi60SZkpLSVVgX4L1N1oiCiA2PBQtcYmWDrEEmM5LU7NjQ94+6d3UsyHHR6pk4WbUhwHsHCtODTrhcR6hwX7/hJ0Kx6ef9tLGvniA7vfBAgPNYB/5CICL95KkNsgb9QsBdrnDqN/QOFKbHYPLf8wVHwDarK1R6wH6Kfd/G5HNskzUOwdDIGlPArYTADUD8fFmj/McChR3eNjzWXwAS2IHCvXGYBHvlECTwadaxTd7Hvfu7OASRJ8qCTJy88y78Vj8Txk3WW/vOmikcUOGqUCbGnaqZHzjI7rNB1phOskPJU9Imaz8BQqj1M5G6QqX3FzgM5MTewF8k9dogq9f549e3MfkcqyvU3phd5yN0TAG3CAI3AHHTvK9QvaGHvVIXbtzQjd6/C6q0u98MEiT5pbmhC5WzXG+e0ue+wV6A43v/9s1Vcgjn9yrXJ5/7TT46a37umtSs1/p1rtL7Tb6SNXef5zkdWu96Z1blBa/8Vk4K1HKdqnnFY+q0zuFTxr7zSRv0836+td/wynCeQM1S5aeB+7t6rl9vRy6UibFXMLBeDs/yfFop96j1ukM7aWWQse2Tft9c3TNgnv5t0Xe+AQKEmE78YyVA33q246ZjAeoTfDzcuFGtuff2HNXZfirI8R7Xvuf5I+nbAcrU7+dYBO1xqt11lTOmgGGNwA1AnHjcmbJX6oJf4JSsufuCTJRMq1PH3neFoutytXK+e+K0QcdiOUn58pjedU+e1jl0Y9VknwMma6VH8Hbg/WPBg7O6Qr0Q12WlI8OGx/pfCte3fHa9HDdWyqvH7p2r6g/Wq2ci3BdARKsvz8DnTZ5b7THR7n+MDlQ/U+htRyk215zvF0aeX7j09eFQ9O1QGXFjCrjFELgBiI8vP5f7e+31/xbgbpckKVlz/809EQvwzXNdodJ9Ho7vWz6YoW/6TpICHB9sI4Dgx/c9jzfr8VzvcnsEVOutk6V7c/WkK/Dc4IjhFOXLdtedylmqnO8btLlN1gL3BKquXe2+b69zyBH0juBwcUCF3wphw4aIzVLlB33BefA7m536/BPXf67LVcAem7TS665P9DzzfC7oeZPnPtcb4PfelekVav1MZFJuP/UJMh58xoRnm7ifsw2+8Ua0fRu4TL2fY/YnlRvSmAhwnm/1rWjISI3FHeYROqaAWwiBG4Bb0voPVgaeRMWKvVIv+Sy36/zdu66J0nrlTpKkZOU+7gqeTPhA/mSPO4LWmAUzI8y9c/VcbwD8gun6OGrDvX4BTdZKzyWOvVwbb/S76U8szVLllmBfaoVhnSPIkushMiLHFDA4CNwA3GJ6nruI20TF/TyZ39LOZu3tvdvnnuB53gGM0yYl0bh3rl5y35XbZFXZ74a2OLeqyavcy1J7Nl34fIjLE2vDvX4B3TtX1X7Pi7oNsOlP1NzPm0V/B3ZW5YUAS6mH3ogcU8AgIHADEB/3flMZrv8MvkGG5yYcAZY+Btw8pJ/JTj+bkwQM9DyOdy8r1CZrkN9lOjbgTmsxW5J4b6rrbkB/W/p7BJL2VKUGOcpzWdOGQo/NYoaFIJtRBJzIHlB7xN/8ey5LLVThJt/3k/XNsa7/DPas5omyGN/J8cwz+N3evs10+ltON1D9TMTjOvSvTz+bkwQNbiZrZcDNN9zPb0Xbtx5l8ng+zxr2zwcErltMN+EZqWMKuIX8/+zdf3DU9b3v8efOeKaroWOceofNPe2YRDiSWMVweySbczRlHQ5lcxXdXGjZDOVgKAqhXi2RI00oA26sjQl6KMGqRA7lZjnCZBEcllInSzk9Jwvak4A9EqiWjVc72Ux1iKOY7VxnPvePTcJusvmxScgu8HrMMGM238/38/58P5+V75vP5/v5KnETkctkLsX9yVDCdyN1s29ZzPvdhnt+ZIrMfSo+eRu81XXcu9uGNUmblMQ8O5f4PU0nqY15v9uQZ/HizGX9saFzCteMgSQ4wWYJb9XiGOMN5fQlz8fsgjrUXMcIN+UDr8WIPqc0Wa9ouFRn4vN273PHzAj3L+9NbLT2pYeT1M67tHlG9rhmq2JeaJ9g+/7p2XcN/Hf/81uT1rd3r49P3tLwZdTX3pgSubIocRORy+bSM1YQu7xw8CYgI2/CkYQRNicZy2zH3Kcu7XIZ/2xGzA6ZQ7bmj19uNTmblMRu2pKoXbHvWdrE/x7tX93vXn7t3kDFzPwOGYMx7xgcOfmFIX0yWNw1HlTP38S/FmP5ZC3zHdSvm+cNt5EPLNq1fJR/GBmlfVMu0aYeMeM+4eYZI2xOktH/suvB/6A06LiYxPDBv+sbEZPZt3evvzSrl447vl7VY0rkyqfETUQun7jtu4e36Vi6bKM9nSXP7rq0TLHvJbKxS4M2ORLdqsTcDE7WJiWxN3jDWsSuP4xlk5bYdl1rxjLjOIbkF+Du9ZdmZYeYzpI9iZ6XijVJm1EkVSewMTC2JXUjti+dbCIwgee6Lj1/NYK4xHBy+zZ2Jir9Nu+4VseUyJVBiZuIXF59L4RN+Jd33+xVuu2I9nzcv4j/16V3t42wNCh2idFkbVIyfYl30IvKL4m+yDuJhDdmp7drzt3rh9mEgr4xOPYdSuNnkYf8lvWDXlIcX8/l+AeKvme0EianfZtgJJHkjNy+1IuO+4nuKDtCP/U/S5bw3YmT1beJ/4EofVxbY0rkSmIxxphUByEi6eeLL75IdQgiInKNuuGGG1Idgkja0YybiIiIiIhImlPiJiIiIiIikuaUuImIiIiIiKQ5JW4iIiIiIiJpTombiIiIiIhImlPiJiIiIiIikuaUuImIiIiIiKQ5JW4iIiIiIiJpTombiIiIiIhImlPiJiIiIiIikuaUuImIiIiIiKQ5JW4iIiIiIiJpTombiIiIiIhImrMYY0yqgxAREREREZHhacZNREREREQkzSlxExERERERSXNK3ERERERERNKcEjcREREREZE0p8RNREREREQkzSlxExERERERSXNK3ERERERERNKcEjcREREREZE0p8RNREREREQkzSlxExERERERSXNK3EREUuHzIDV2CxbL+P+U7g2nuhUiIiIyRa5LdQAiItekaXaqXqzjcEElwf7PVmynZVnesEUi4Q4CB+qp3x+akhBFREQkfViMMSbVQYiIXKtCe0rJ/b6v7yc7nmCAqkLrCCUiBJ92UPSTIC5vF81LbVMRpoiIiKSYlkqKiKRQzrI6mpb1J19Bqh+qJvD5SCWs2J/0UKV8TURE5JqixE1EJKVycG9tpKI/EQvXU7bGy4iLIa1FOJZNQWgp00PH3koafje1tYb3lmKxlOL9aGrrvTxCeL+fS+WbkeSKnaqnyNk48vgTEZGUUOImIpJqNzup219FQd+P4T1lVO4Z6dbZypyHW6i+J3Mqopt6H/mpdtfT82WqA7lyhfdXsy7ioXL+SMtuE7irAs83q1n7ilI3EZF0o8RNRCQNWP++moYt9oGffd8vo+bE8LMlmbMcFHw9yZtyuTZEAmx/rIO1P3KR/IpaK45VHlhVg+/jyxCbiIiMmxI3EZG0YMW+sYG6wv6fg1Q/UU9wxOfdxq7n/QDen9dT/1wjwf/qIHAsQOBsz+ScfDKdqMHyjTJ8QLXdgsVSc2nXzZ4OfE+vpGhm9HUIufaV1BzoIDa9jS53rMF/op6SmRYsM4uo7l8u+Pno5aP1tNO4poRciwVLVj4l6710jNoPETr2VlJqz42+rmFmEaXrvXTEXOL+2IKDSg7+fODnj4PUu/PJsliwzCyhcm801tCBSkruyMJiySLfXU9wUIIV2ltPja0M56BNbiJnfdQ8fB/5WZb4GAe3bUYJZYsb8exqH63RckVKn7EqIslR4iYikjYKWLe3CVf/jyeqca3xMaG3tX0ZwvdYEXk/CmJ7qIJ1i6+n7o587nPcR8PbFyYe8mSb4aJlXxUOoHxHCy0BF3kQfe/dwnxKd3Th2HKYlkAz6+4Isd2Vj+Pp4KDkazvlywIU1bZweMtaSgqs0fLz8yndESL/seaY8g7K98de4VbWzS/Fn1XG9kALzT/Ko+O5MhzPBIYmeDHCe8vId7dyk8vD4UALh7c4iOwpI9893ufFDrPu/jJa86ppDDSz/Z4L1LvLqHysjPt+Dq7aJg57y8k5VknR92PrCBHY66fg+46BpbcAvN9IaV4pjZ87qH61hZZAMzvvv4nW58pwrPcTn8LbcDzkon1rM4EkH5GT9Jc+Y1VEkmZERCStnPe6jQ0MYMBm3N7z4z2TaVpmMxR6TOuFS5/tvB8DDrO9Y5ICnmwfNhkXGE/w0kdttQUGXKYpFH/omR1OA06z873oz11elwFMhb837rjzr8YfF9VrWp7MMXmLd5ozMWWdL5+PP2aDzUCVaR024C7TtBjDxvgjev0VxvbN8oGYo+f3DDnP4M/743D9MiaO3hazDgx3VZnWz2La9bLDgNs0d/V98N5O4wBT9dv4Otp2OExeoce0xl2W/rYNjcm015kCbMbz9rCNlitSGo1VEUmaZtxERNJMztIGGldPdL//CO0/LaNsTxZVz63DPrCPSZjwG8BdTopmTbCKKdNOwNsOT1bgyo7/Td7icsrx4z0W++/4LoruiF0mGKb9mB8Wl1EyI7a0FUftec7sKycvpmzZ/Jy4Y/LvKAI6CA2722Qmthk2eMVDzZEOevpmqawLt9P1+524s4crNxIXpffExGG9npsA7i/BPu3Sxzl5diBCpG8jl0iogwAu8gfVWbC6hTPBKuxxqyf723aB3sEza9l5FBGm7b0JzfdK2kmfsSoiyVPiJiKSdjLJsxcBYN/io3FpzijHJ/B+E9U/DsLiSsr/PuZu/f0zBADuyYtJVtJdhMgpcMzMYch2LDdnkQMEwiMlGF10vAnckTO2zTquSzY+K45VjazLa6Pamc9N12eR71hJzd4AoYk8Rpgojr8afMz1cT/2fBwCssicRkKRnjAdJwL49zZQvaYEx498QIjw4GePMm8iC/C9r4VtV5f0GasikjwlbiIiaSbyuxrKvu+DQg8NT9qHJitj0H6gAT9QvthBbNoXOuYjAJTPKxrXea9MESb2oOAYZDupC3RxoaOFptpS8noDVLvvIzevDG/nZa57iCxuGvymiE4/lY4srr8pi3z7Sjy7fISnOSlf5pjq4CTV0mqsikgylLiJiKSTz4PU/7CaoM1N094qCsaVXYVoe7MdcFBwR8wc08d+6n/iB1w4Cq6kd8BZsd4FgfdCQzcI+biLEODKHmkuLYe8ZcDvQ0Pyt/D+MnLt1QQmaffOzFkO3E9upzl4nt73duIKe6k7ELs7YxcXBs1sdHW2Tk7lw9bRg29LCfUXyjj8YS/GnKf11y3srK3ANXOSq5YrRnqMVRFJhhI3EZG0EcK7xkX1CTueA43jfN4EIEz4TQAr1oHEL4T3R+U0hIH5Dgoy2/Efu1KeXyrA4S6A5xrwDZoR6NjfSCN2HAUjLSe1UTDPCfubOPx+7OchAvu9hL6RT/4wSwvH5Msg9Y58ip6L3z7fassiK/bnaVlAKx2xbfg8SPO+yeuHzJtzgC564m64O+jYBdxfijP23X9fduA/EEh8op4LdAGuGeNYpivpK43GqogkL+mV/CIicnmEXllL2Z4w9i0+1hWOPtUW6YlgzUx0XA45i4H9fhpqG8m6HwI/9xHJLgJ8QAcN63soq62a5BZMkmmZZAHNv2ykoLeIonl5FKxuwOMrosxewpmtFThsETr2NuB5JYB9Syvl3xz5lDmLq/G8XMTKe0oI9ZVvf7GSyv12PG9HX1Q99lvSIDWWIqoXN9G1z43tugIc8zOpXF9K6Z+rKFuYQ2ZPCP+uahpsbpoXRzfmz7Q7qbA1ULl6Jdb1bvLowPvzenrvcMGp8V+uWNaZc3BRT9t7EdzZ/WMjj4LVNni6jNKv1lHxrUwi4SBNz2wnGBkmMevsoJUCyvImukmOpJU0GqsikjzNuImIpIHIiRrKVvmxLWuiaeMYnmv7yEvZkqZh3olkw/WjOpwzoP3FGjz7e3C+3Ezdw3OwAzmZObi2VMXsNJlmMh2Ub3MTObCSEoeHQBiYZqfqyBma12QR+EkJ9zlKqf99DpX+8wTGcr2m2al6M7Z8BY0RF00dAaq+NdGn/awUbPDT9qoTfltDqeM+7nPV0HpzJS3tTbi+3nfYzU7qjjWx7r+14nHdR9lP/GT+4DCNa+ZMsP4Y2Xac8yFwqiPmw0yctQGansyjY2sp9znKqHwlxJzaVtr2V1BAK2fei1+EGnrbT7utlKK7Ji80SQdpNFZFJGkWY4xJdRAiIte0Ti9l9jK8tipaf+uJ20J7OKFdJeSGqjFb7Jc/PrmihPeWklVbRFv7uviXcI9ZiEZnLg3z2mh7cnxnEBGRyacZNxGRlArh/ck6vGE7nherx5S00eml+sd+XDO1jE2Gsj1UQVW4juZjQ7ZyGZtTPhqOlFO9QkmbiEg60TNuIiIpEyH4dBlle8LkrfZgd0sWwgAAIABJREFU720lcGyEw3tCtAcDNO7x0hGGqhxtHCEJWB2s3eag4EUfa+e5x/buugERAt46rFv9uG6+TPGJiMi4aKmkiEiKRN6sJOcf6sf5ijEXTR824/766EfKtSiE9/v30bbsDHXzk3iG71Q9RauhITjeZZYiInK5KHETEUmF/ufaxr27todWU4WecBMREbk2KHETEUmB8KkAZy5M4ARfzafoW7bRd1MUERGRq4ISNxERERERkTSnXSVFRERERETSnBI3ERERERGRNKfETUREREREJM0pcRMREREREUlzStxERERERETSnBI3ERERERGRNKfETUREREREJM0pcRMREREREUlzStxERERERETS3HWpDkBE0tMXX3yR6hBEROQadcMNN6Q6BJG0oxk3ERERERGRNKfETUREREREJM0pcRMREREREUlzStxERERERETSnBI3ERERERGRNKfETUREREREJM0pcRMREREREUlzStxERERERETSnBI3ERERERGRNHddqgMQEZHLK/Lpp/xluF9+5UZutE5lNCIiIjIeStxERK5q3Rxam8sKX+LfLtp1Hu+S6VMbkoiIiCRNSyVFRK5q01my5yIXLyb+M3VJ26ec27eBl9qmqLo+3fvcZGS42fenqa039TrZt/J2NgQiyRV7ZxuOh3bTeXmCEhGRCVDiJiIil9+fjrJ5xTY+/TLVgVwbun2beeovm3jckeQ62DtXsSl/Mz/apdRNRCTdKHETERG5mkSO84vKczz6wwdIfj7VSvHDm2BtLQc/uQyxiYjIuClxExGRy+utWjL+ZgUHgc3zMsjIqOVk/+8+PcfBZ9fguDODjIwMbp+3htpD54hd4Bdd7ljL0be24bozg4w7HWzuXwL4+ejlo/WcZvfjLm7PyCAjdw6uqn2c+3zksPvrPfnJSbatmENuRgYZd7rYsC96/s5DG3D9bS4ZGbnMWbGNk4MTnS+7Of7C6LFF/nCQ2kedzMmNHpdxpwP3oPjiYnnUMWI7Ovf/M7XTv8eCu61J1wPArd/he67d/GzP6ZEvkKSNK3WsikhylLiJiFztvuzm9KHdbHthGy8dOs25tuMc/7fTdCf5+NO43boI/571FAPLX/DjP7KIWQCfn6T2wTm4Xw5TXO3Df8TLY7d38oulc3A+e3LQTeMvWL3yNxR6/PiqH+U7s63R8vfPwf1yJ7NWe2PKL2S1rzum7Ame+p9ujtq+x9YjfryPzeLcCytY+NzxoQneEL9iw/96mBO3PcWLR7xsLeph24oV/LhyBSUvwqKaXfh2LSf7+AYcK2OeDYucZtv9dpyv9vCdah/+Iz42Lehh9+C2/XE37gI3uy9+m6d+4cd/xMsOZyYnXljBwuqjfJooluxH2XrEx65VidrRyfF9R5ntLmZ2bNGk6plO8f2LOL3tdY5P1RiRSXCljVURSZZ2lRQRuYp92raNFf/rdbKffZ5Na2/j7E8dzFl6GqavJ/CH2eNYSjcOX7uN4rl5vARkzy6m+O7ox6d3PsHmtxax64yXJbdEPyu+dxHfnu1izuM/47XFPpbf2n+Sbh6s87L+Hy7NInXu+Rmb31rAjncuHVd87wJm3fg/eOLArzjnWk5mX9m7Nr6Ld0V29KB755J5IR9n3W84vbmYuSMGfxLbqnfxLu0re3cmnXucbPuPBQTe3MTcaQDF3HbxJLev/Q2nu5eTPR06929mw7nv4mv/KQtu7DvVvQt44O4N5N9/qW2nA6/RefcmXn1lPXOtl9qQ/ZV8nHWnOfvCgpj4BsVy7wJuIRfH0ycvteOPx3ktAAs2xKVtSdYD02cVMrv7BU6e2UTxnBEvkKSNK2ysikjSlLiJiFylIm/V8tC8X3DLzgBbl0RvoOYWL4BnT4OrkNkp/RvgNMdfOw2P/5QHbon/zW2u5Sx/3M1r/9bJ8lv7bvxYROHtsUv/ujl9/Ci4dvGdW2NLWymueZe2gaOiZb/nyI47ZtbthcA5PvgTzP3rkeJcxINFMWWtVm4CcH6n70Y4Kvu2ucA5/vIlQCdv+Y/C330bTh/neOzpeqzM4ihH/7Ob5bdOZ/YP/LT9YHCd/fFdIBIBBpo9KBYgO7cQODXQjsgHZznOIv5x0DVNrh7gltsopJtT73fDHL0u4spwZY1VEUmeEjcRkavRnw6y+nubOenaxatLL91AdYfPAbD83kJS+97tCJF3oHjVLUPj+JqNbGB3dzeQPbQoAGHOBYBVt4xt1nAif9slKvtXg4+5PuaHbjoPAWzANcz786b/3zDERB75tJsPzp2ls/MsJ1qPcvDQUWAR3Z8AsTe5o7Tj048/AGzcOC3x78dcz42Z2ICXznfGxSlp7goaqyKSPH2tRESuOhGOv/wE+7pns371AzGpT4Szpw8CxcyedePwxa8Ikf7ptPS1McDFp0ZZFPbBUTY8uppt/xZNUuc6bmHWnYv4x6URNrww3optZA7u3stSj1w1UjZWRSQZ2pxERORq88lRXqvrhjsf5MHYnQU/P8mv9gJ3fofCv0lZdH2sWO+E4+9/MHSzgk/CdAKLbhlppieb25YC734wJH/r9q3g9nmbOZ6yHeymM90B/MfZUV5k/SkHf+piW8938f3hEy5efJfAG3521DzCAzMmUn+YnridIi5XPXLlS/VYFZFkKHETEbnKRE6fYDfA383mtph1Fad3bWZbN0x3zo3fcTAlZlP83dnwwksc+iD+N+d8u9nNXIpnD7dMEmA6s4sXgO9f+dUfYz/v5PiBfXR+PY9ZwywXvPyyKV6yAAIvsbs1Pi2NtG6mKHdO3+sMznJuD+B8kAV/HZNgf3mOo4finjYasxtvvgUI82lP7KfjqOfTHsLAotyR+kCufKkbqyKSPC2VFBG5ykSfcwIyrAPPj0XequWJp6JvT3tw7iw6A0f5y70L4hK7y2rajdiA1727mR0ppPDe25i98nk2HXSwYp6Ljmcf4du2CGf3vcTPdh1n7sYAy/NHPmX2Q//EplcdrJnvorOv/OlXfswG31w2/Tb68umxr6Y8SW2Gg82uXZzfs2TCT3X1x7Z5/v/gXM0zPDLHSnfbQf5l227Cjl0sd1iBWcz+wXR49mHcX32GR+ZkEgmf5F+f+wVv/WV8CZP11gIWsY32P0ZYckt/74+jng/OcYLZfG+Wnm+72qVqrIpI8jTjJiJylZmefVc08aj7Z2oPHefgC26cr4aZ1bc8MvzrZ3mp+7apS9oAbixmed0SIofW4Fr4LL/pBqbNZf3rbXhX2TjuceFc6Gbbu9k8fuBd/E/NHX3zlGlzWf9GbPkn+JfIA+xq97N+Tmq3XhmIbWMx4VfdOBe6eKqpk+zH/AR/saTvucMbWeA5wq7Hb+PsNjfOhSvYsKuTgpoArf/nEWZzgo4/JvnWq1vuZoEDjr9zLubD5Ovp/M9fcXr6g8y9c4LXQdJfqsaqiCTNYowxqQ5CRNLPF198keoQZNw6ObjWxRO7zkH+Ar775Caectn4zaN23IFZPPbs8zy15Dau9O1JJLHufW5yny+kNfjYOJfEdrL7odt5qbiV1sdTv6hWrk033HBDqkMQSTtK3EQkISVuIleoyHE256+AfznDpnvHMfP4zjaK7Gf5p/+7g0Vfm/zwRMZCiZvIUFoqKSIicjWxFvNoXTG7Xzk0jjcmRDj+2gtYn31ESZuISJpR4iYiInKVme7axLNf2cwLgSSfO3rnZTa3Ps7zP9QSSRGRdKOlkiKSkJZKiohIqmippMhQmnETERERERFJc0rcRERERERE0pwSNxERERERkTSnxE1ERERERCTNKXETERERERFJc0rcRERERERE0pwSNxERERERkTSnxE1ERERERCTNKXETERERERFJcxZjjEl1ECIiIiIiIjI8zbiJiIiIiIikOSVuIiIiIiIiaU6Jm4iIiIiISJpT4iYiIiIiIpLmlLiJiIiIiIikOSVuIiIiIiIiaU6Jm4iIiIiISJpT4iYiIiIiIpLmlLiJiIiIiIikOSVuIiIiIiIiaU6Jm4iIiIiISJpT4iYiImmmh469lTT8bmprDe8txWIpxfvR1NZ7eYTwfj+XyjcjyRU7VU+Rs5HQ5QlKLqOra/yKSCJK3EREJL185KfaXU/Pl6kO5MoV3l/NuoiHyvnW5AreVYHnm9WsfUWpm4hIulHiJiIicjWJBNj+WAdrf+TClnRhK45VHlhVg+/jyxCbXDa2pc0Y04z766mOREQuFyVuIiIpEDnro+bh+8jPsmCxWLDMLKJ0vZeOz1MdWYqdqMHyjTJ8QLXdgsVSQ7D/dz0d+J5eSdHM6DXLta+k5kAHsYsBo8vFavCfqKdkZvS6VvcvF/x89PLRetppXFNCrsWCJSufkjH0S3+9wY+D1LvzybJYsMwsoXJv9PyhA5WU3JGFxZJFvrue4KCkaPTx0E693YKloIZgbMCn6imyWCj6aftAO0J766mxleEstCZZR58ZJZQtbsSzq33kRguQPn0/eKnkROIaKDtcWyep7SKSJCMiIlPrvZ3GCSZnscc0+VtMS6DZ7HzCaWxgbKsPmwupji+V/nzGtOyrMg4w5TtaTEvgTPR6fNZqPIUYbE5T5T1sWgLNZvsPHMYGxr6l1fT2Fe/yugzYjG2G03h8Leawt8m0/jm2vMOUb2uOKW8z7n1d8WVtOca1pckcDrSY5lqXyQFj29AyUEci0bJ2Yy/sL9tstq+wGygwFT90m5x568xOf4s57K0yThuGhTvN+f7CYxwPvW97jB2MfWtb3ydtpq4QQ2GdaRuI5LzZOR9TsLXNxElyzHV5XQZblWkZqdFijEmfvo/G4TJNH048rmhZj2lN2NZLn0+o7SKSNCVuIiJTrG2Hw+QVekxr3E1xr2nZYEt4s3TN+bDJuMB4gpc+aqstiN6UhuIPPbPDacBpdr4X/Tl6I4mp8MdnHOdfjT8uqte0PJlj8hbvNGdiyjpfPh9/zAabgaoR+6W/rOuXMWV7W8w6MNxVZVo/i4nlZYcBt2nu6mvbmMdDr2l7xj7Qjrat9qFtem+ncYCp+m18fEmPufY6U4DNeN4eodFijEmfvk+cuI0vruQSt/HVISLJuy6Vs30iIteigtUtnFk9+FMr+XcUARfojQBJ7ilxdWsn4G2HJ+twZcf/Jm9xOeVrSvEeC1E+I6fvUxdFd8RewDDtx/ywuImSGbGlrThqz3Nm4Kho2bL5OXHHRPulg9BHYB/x+SEXpffElLVez00A95dgn3bp45w8O9BBpG/zlbGPBysFTzTgOTSH6lX3kXMsiOuX5ymPaVMk1EEAF+WDrlPSYy47jyLCtL0Xhm8l/6TctSf1fT+ZcSVnKuoQEQAlbiIiKRLpCRM6e4ZQqIPW3/rxHfADLsIfA9pgIEaEyClwrMkZms/enEUO0BgOAzlDiwLQRcebwJqcsW3WMZG/GROV/avBx1yfsOiYxoO1gHXPe2i2VxN8aCfnl8W3uefjEJBF5jQSGvOYy7yJLKDh/RCMY4uTa1KK+/5yxDVmU1GHiGhzEhGRKdfpp9KRxfU3ZZFvX4lnl4/wNCflyxypjuwqFemfTktPSY6Hrt+30g5wwEfg/URHZHFT5sTqkCky6X0vIlczJW4iIlOqB9+WEuovlHH4w16MOU/rr1vYWVuBa2b8kcGnLZTuDeJd0rfbXN+OccGn+3+2ULo3HHd8/+cWiwXL09G934a+mDccPefTg/eMS1dWrHdB4L3Q0B0gP+4iBLiyR5oVyiFvGfD70JD8Lby/jFx7NYGU7eY59vEAwPuNrF3lx7mjme0L/ax8LNHLsru40DOBOmSKXI6+n0yDxxF0dbZe1hpFZGRK3EREplQHHbuA+0txfj1m4d+XHfgPBIYc7XPXwVaDMYbWLT7KvmGhbkYXxhhM0IPP3UiQaNJW9PsmuqKbTmGCHvhJETUnou93at3io2xXfyJXQRlNdG20T02TJ6wAh7sAnmvA1xn/m479jTRix1Ew0rIxGwXznLC/icNxsxQhAvu9hL6RT/4wSwsvv2TGQ4jGx1biL6zDs9pFxTN12I+sjHtZdubNOUAXPXE33MmNOQB6LtAFuGaMcTmejMPk9v1ksk7LAlrpiP2+fR6keV86T12LXP30jJuIyJTKo2C1DZ4uo/SrdVR8K5NIOEjTM9sJRhLcJG+pHHihrn2+B34ClUv7ZpcKHXioI/QRuDcaTGy5QgeemB/tK5pwfaOImhlNtLmh6UN3+j65NC2TLKD5l40U9BZRNC+PgtUNeHxFlNlLOLO1AoctQsfeBjyvBLBvaaX8myOfMmdxNZ6Xi1h5TwmhvvLtL1ZSud+O5+3oi6rHfksapMZSRPXiJrr2TfQ6jn08hF5Zy8ojdjxvV1AAcFcF9VuaKFq1lsZ5hymfAdaZc3BRT9t7EdzZ1qTrGNDZQSsFlOWl7Si5Ckxu30+mTLuTClsDlatXYl3vJo8OvD+vp/cOF5ya3LpEZOw04yYiMqUycdYGaHoyj46tpdznKKPylRBzaltp219BAa2ceW/IgsBLFucMuwUH9C+LtGCxFFEd+4uvu2nwuqh2l4G3YSAZTEuZDsq3uYkcWEmJw0MgDEyzU3XkDM1rsgj8pIT7HKXU/z6HSv95Ahvto2/COc1O1Zux5StojLho6ghQ9a1UbuE5xvHQ6aVylZ+CjfWsG4jXiv2JOtbZ/Kz8sTe6bC7bjnM+BE51JF9HjNDbftptpRTdNUWX4Zo0yX0/mW52UnesiXX/rRWP6z7KfuIn8weHaVwzZ7JrEpEkWIwxZvTDRERkqgWftlBEK6Z/SeOJGixbc2JmeYLUWOrI+bAZx29LyXL7AA+tpgp736wQQUNVYbR4eG/fMVtizilXnfDeUrJqi2hrXxednUlaiEZnLg3z2mh7cnxnEBGRyacZNxGRK16YwAEfnqDBmCoSpmQfealwQ1OwCVffs29ydbI9VEFVuI7mYyPM3I7klI+GI+VUr1DSJiKSTpS4iYhcJdpC/U9phfEuiV0qGcb7o74lkoV9SybtNVwpe0pKkqwO1m5z0PiibxxvQYgQ8NZh3VqB6+bLEJuIiIybEjcRkSueDffWJnBn9T3flkXoR100LYbqN4MEn86ibL9nYFMT29IGmhZXU3TFvA5AkmVb7KHeWk3dm0nOup1qoPq3lTQ8odk2EZF0o2fcRERERERE0pxm3ERERERERNKcEjcREREREZE0p8RNREREREQkzSlxExERERERSXNK3ERERERERNKcEjcREREREZE0p8RNREREREQkzSlxExERERERSXNK3ERERERERNLcdakOQETS0xdffJHqEERE5Bp1ww03pDoEkbSjGTcREREREZE0p8RNREREREQkzSlxExERERERSXNK3ERERERERNKcEjcREREREZE0p8RNREREREQkzSlxExERERERSXNK3ERERERERNKcEjcREREREZE0p8RNREREREQkzSlxExERERERSXNK3ERE5ArwKef2beCltqmttXufm4wMN/v+dKXV28m+lbezIRBJrtg723A8tJvO8VYrEzbevk/VWBWRqaPETURE0t+fjrJ5xTY+/TLVgVwZun2beeovm3jcYU2u4J2r2JS/mR/tUuomIpJurkt1ACIiIhJv+hIvF5eMs3DkOL+oPMej//oi05MubKX44U388521HHxgB4u+Ns4YZNzG2/cTGjMickXQjJuISMpFOHeoljUL55CbkUFGRga3z3OzYd85klzodnV6q5aMv1nBQWDzvAwyMmo52f+7T89x8Nk1OO7sv25rqD0Uf92iS8hqOfrWNlx3ZpBxp4PN/UsIPx+9fLSe0+x+3MXtGRlk5M7BVbWPc5+PHHZ/vSc/Ocm2FX19e6droF87D23A9be5ZGTkMmfFNk5+MrjspWVvced61DFiHJ37/5na6d9jwd3xs22RPxyk9lEnc3Kjbc2404E7UTtu/Q7fc+3mZ3tOj9xAGVYq+n7EcuOKIeZ7NsznE6lDRJKnxE1EJMU6d7mZs3Q3PcVP8eIRP/69O3jg5hNsW7GQH/s/TXV4qXfrIvx71lMMLH/Bj//IImYBfH6S2gfn4H45THG1D/8RL4/d3skvls7B+ezJQcnXL1i98jcUevz4qh/lO7Ot0fL3z8H9ciezVntjyi9kta87puwJnvqfbo7avsfWI368j83i3AsrWPjc8TEk1r9iw/96mBO3PcWLR7xsLeph24oV/LhyBSUvwqKaXfh2LSf7+AYcK0d7tqzvXNmPsvWIj12rEsXRyfF9R5ntLmZ2bNE/7sZd4Gb3xW/z1C/8+I942eHM5MQLK1hYfZT4UTad4vsXcXrb6xzXvxxMwFT3/eWOIZV1iAhoqaSISIqd5qivk7kbX+XVp+YSnSMppvgfsrHmO6l95yxbnXNTHGOKfe02iufm8RKQPbuY4rujH5/e+QSb31rErjNeltwS/az43kV8e7aLOY//jNcW+1h+a/9Junmwzsv6f7g0C9W552dsfmsBO965dFzxvQuYdeP/4IkDv+KcazmZfWXv2vgu3hXZ0YPunUvmhXycdb/h9OZiRu6dk9hWvYt3aV/ZuzPp3ONk238sIPDmJuZOAyjmtosnuX3tbzjdvZzsYdc3DjrXvQu4hVwcT5+8FMcfj/NaABZsiEvbOB14jc67N/HqK+uZa73U1uyv5OOsO83ZFxbEtWP6rEJmd7/AyTObKJ4zYgNlWFPc95c9hlTWISKgGTcRkRSbzSNvtBEYSNr6WGeR93fAZxEtl0zoNMdfOw2PP8IDt8T/5jbXcpZzlNf+Lfbf9hdReHvsFe7m9PGj4Poe37k1trSV4pp3aduznNtiyn7PkR13zKzbC4FzfDDqDn6LeLAopqzVyk0Azu/03dBGZd82F/gLfxlx85VB5wKycwuBUwNxRD44y3EWkTfomsz+gZ+2Y5eStvh2XCAyeJDdchuFdHPq/W5kvKa27y9/DKmsQ0RAM24iImkiwqfdH3D2XCcfvHuCE4GDvO4HXN18CiS5NyAnn83AQYCLT12ts3URIu9A8apbhl6br9nIBnZ3dwPZQ4sCEOZcAFh1y9g28JjI35aJyv7V4GOuH/+5Ynz68QeAjRunJf595NNuPjh3ls7Os5xoPcrBQ0eBRXR/Avx1zIE3ZmIDXjrfCePY4kT6TGHfT0kMqaxDRDTjJiKSap3+DThzv8Z/z52DY+3P+Bd/N19x/CPfdYz/nHOfungVJ22TIQJX7WSSjcwbB330wVE2LMzla/89lznz1vCzPQfpzljAPy4tTkmEIiKSPCVuIiKp9MlBahdvo2epj/OfXOTiOwH8b+zgp6sfiG7AMeAktRlu9r21D3ffzpMZy/bRzUlq+3+O2VHu5LMZZDx7cuC/3fv2xRyXQe1bU93QyWbFeiccf/+DoUtJPwnTCSy6ZaSZomxuWwq8+8GQ/K3bt4Lb523m+Ci7RqavMD1xu418ysGfutjW8118f/iEixffJfCGnx01j/DAjFTFKOlv8DiC8P89kZpQRARQ4iYiklp/PMduYEHJAqbHrvn7w1EOBgYffJAVP4fnL17k4sUAm3wryM34Z7L/cJGLFy8S2HiQFXsGb+DdV3LF6wPHnd+1iM3zhm71fWWZTfF3Z8MLL3Hog/jfnPPtZjdzKZ493DJJgOnMLl4Avn/lV3+M/byT4wf20fn1PGYNs9wwnd148y1AmE97Yj89y7k9gPNBFvx1zCD78hxHDx1PfKJPewgDi3JHuoZytbJOswEnOBf73fr8JK83X7XT1CJXBD3jJiKSSrfO5pHpUPuom5s8jzA7M0J367/y7Mtv8Zdbhx6+6YdL+p44mkvxRoD/zZK+Z5PmOjbBzz+gO9EecxsvHTf97x5kEa/zwZ9g7l8PPTQtTbsRG/C6dzezI4UU3nsbs1c+z6aDDlbMc9Hx7CN82xbh7L6X+Nmu48zdGGB5/sinzH7on9j0qoM181109pU//cqP2eCby6bfPsB0kllNeZLaDAebXbs4v2dJyp4Ks95awCK20f7HCEtu6U/SZjH7B9Ph2Ydxf/UZHpmTSSR8kn997he89ZdhErMPznGC2Xxvlp5vuxbdOHcBj0x/iQ3/ew1feeK7zOIsr724jd7bF8E7qY5O5NqlGTcRkVT62gKe+dUuHrvtLC8sdeL8xw38S2cBP32zFe8PZsN/dHB2hG0lr5kZkRuLWV63hMihNbgWPstvuoFpc1n/ehveVTaOe1w4F7rZ9m42jx94F//gXToTmTaX9W/Eln+Cf4k8wK52P+vnJLsdTJq45W4WOOD4O+diPryRBZ4j7Hr8Ns5uc+NcuIINuzopqAnQ+n8eYTYn6Phj/CDr/M9fcXr6g8y9c2rDlzTR//+lm0/ws6VOVjx9lBtX+Hhx1V2pjkzkmmYxxphUByEi6eeLL75IdQgSJzqjw7GLrO97j9nJZzP459zzeJf0zYq8VUvGz7M5v2cJnTG7Sg7ZYfJP+3D/zes8+AfvwCycXD2697nJfb6Q1uBj8S/hHrNOdj90Oy8Vt9L6+PjOIDJRN9xwQ6pDEEk7mnETERG5ikx/4BHWd7/A6/82zjcAvnOIl369nH9apqRNRCSdKHETERG5mliLebSumN2vHBrHGw8iHH/tBazPPsKir12G2EREZNyUuImIiFxlprs28exXNvNCIMlZt3deZnPr4zz/Q822iYikGz3jJiIJ6Rk3ERFJFT3jJjKUZtxERERERETSnBI3ERERERGRNKfETUREREREJM0pcRMREREREUlzStxERERERETSnBI3ERERERGRNKfETUREREREJM0pcRMREREREUlzStxERERERETSnMUYY1IdhIiIiIiIiAxPM24iIiIiIiJpTombiIiIiIhImlPiJiIiIiIikuaUuImIiIiIiKQ5JW4iIiIiIiJpTombiIiIiIhImlPiJiIiIiIikuaUuImIiIiIiKQ5JW4iIiLucVxuAAAcjElEQVQiIiJpTombiIiIiIhImlPiJiIiIiIikuaUuImIpFQPHXsrafjd1NYa3luKxVKK96OprffyCOH9fi6Vb0YmfKYxX5dT9RQ5GwlNuMaxSM0YSZ1rrb2Jhd6opOSOLCwWCxaXd9xj7er6rotc25S4iYik0kd+qt319HyZ6kCuXOH91ayLeKicb526Su+qwPPNata+MgWp27U2Rq619iYUpPGBetpy1tIcaKHlxw6yUh2SiKTcdakOQEREZNwiAbY/1sHaA43YprRiK45VHupn1uB7aCeum6e0crnafRSiAyhaWo5r3sRGtm1pM2bp5IQlIqmlGTcRkVQ5UYPlG2X4gGq7BYulhmD/73o68D29kqKZFiwWC7n2ldQc6CB2MWB0CVQN/hP1lMy0YJlZRHX/csHPRy8fraedxjUl5FosWLLyKVnvpePzkcPurzf4cZB6dz5ZFguWmSVU7o2eP3Sgf4lXFvnueoIfx5ePnPVR8/B95GdFY7PMLKI0rt526u0WLAU1BGMDPlVPkcVC0U/bB9oR2ltPja0MZ6E1yTpGEb7Utqw7om3rGXzMjBLKFjfi2dU+puuVsJ++DBN4boR+GmaMDPTBMHUFR6k7rg8fLhqh/yN07K2k1J4bfx2HXIyhxtUHI30nRrtWMPntmuj3MJFRzhneWzpwDXzu6FLJmhPDXuVR2xG/VDJIjaWvPxL9eTpmRI3heg8b1US/fyKSmBERkdT48xnTsq/KOMCU72gxLYEz5oIxxnzWajyFGGxOU+U9bFoCzWb7DxzGBsa+pdX09hXv8roM2IxthtN4fC3msLfJtP45trzDlG9rjilvM+59XfFlbTnGtaXJHA60mOZal8kBY9vQMlBHItGydmMv7C/bbLavsBsoMBU/dJuceevMTn+LOeytMk4bhoU7zfn+wu/tNE4wOYs9psnfYloCzWbnE05jA2NbfTjafmNM79seYwdj39rW90mbqSvEUFhn2gYiOW92zscUbG0zccZYx/BtsxmbzWYcT+w0hwOHTdOGaFn7M21DrkuX12WwVZmWES7YsP3U22bq5tkMM1zG4z1sWgKHTdOWaB8M9PMwYyR6To9pTVjXpc+Hq3toH16qO7b/+48rr42OkYR9msh4+2C478RYrpWZ5HZN9HuYyBjO2fth28A1cGxsNi2BFnNmmPONpR3RY1ym6UNjjLlgzgRaTMugPztX5xmwG0+wr1VjvN6T2vciMiolbiIiqfRhk3GB8QQvfdRWWxC90QrFH3pmh9OA0+x8L/pz9IYMU+GPv406/2r8cVG9puXJHJO3eKc5E1PW+fL5+GM22AxUDUkIYvWXdf0ypmxvi1kHhruqTOtnMbG87DDgNs1dfW3b4TB5hR7TGhdyf72xiUivaXvGPtCOtq32oW16b6dxgKn6bXx8Y69j+LbFXxdjzr/sjLn5jdFeZwqwGc/bo58zYT/Z1pnDg+5ke3+9zthi25pgjCSXuA2tO2EfGmNat8Reoy7TtBjDxvhaev0VxvbN8iHjM9ZE+iBRe8d6rSazXRP9HiYy1nP2XwOXt2uEs42tHfGJ21C9QY+xYzNu76VrNuaxmaiNE+l7ERmRnnETEUkr7QS87fBkHa7s+N/kLS6nfE0p3mMhymfk9H3qouiO2GWCYdqP+WFxEyUzYktbcdSe58zAUdGyZfNz4o7Jv6MI6CD0Edi/PlKcLkrviSlrvZ6bAO4vwT7t0sc5eXagg0jfRhMFq1s4s3rwufrrvUBvBLBGPyt4ogHPoTlUr7qPnGNBXL88T3lMmyKhDgK4KB90ncZex3DKKX8oJ+6TnPlluCjjcDCMe3HMM0fZeRQRpu29MHxrpGeRBvdTiOAbfrjHAe0BArGH9ljJx4//7TDlMybjyb3BdV/6PK4PgZwZRUBbX/9nYpthg1c81NjrqJiXR6YVrAu307Vw5Bon3gexkr1Wk9GuiX4PE0n2nKMZf/8M6PRS/lA1oSdbCCztr3diY3Ny+15EYilxExFJKxEip8CxJmfovc3NWeQAjeEwMNzNXRcdbwJrcsa2WcdE/hZIVPavBh9zfcKikZ4wobNnCIU6aP2tH98BP+Ai/DHQnzBaC1j3vIdmezXBh3Zyfll8m3s+DgFZZE4joTHVkVAOWYM3G8nOYQ7Q/FEXxF7ZzJvIAhreD8V/PqowoQMAlZTsT3yErXNQXZfDiP1vxbGqkXUnyql25lONjbx5JZT9wI17oYOczNFPP/4+iDWOazXhdk30e5jIZJ9zgv3zeZCapWV4sz20/sQRE9PkjM3J6XsRiaXNSUREriqR/um09NTpp9KRxfU3ZZFvX4lnl4/wNCflyxwJD+/6fSvtAAd8BN5PdEQWNw2+QU2yjmTcNG0M2UoytrRioo8tDPnTtaFgcusaj2wndYEuLnS00FRbSl5vgGr3feTmleHtHKHc5eiDybxW421Xuhl3OyIEn19Hdaebpr1VcbPkA8Z7vS/j90/kWqfETUQkrVix3gWB90JDd2/7uIsQ4Moe6V+6c8hbBvw+NCR/C+8vI9deTSBlO7v14NtSQv2FMg5/2Isx52n9dQs7aytwzUxw+PuNrF3lx7mjme0L/ax8LNELr7u4ELcTYJJ1JDT4nEBniDYgz3bTWE8yChu2+cBvz0zgJd5D4+zqbJ1YWMPInOXA/eR2moPn6X1vJ66wl7oDw+2mORl9EGsyrlViw7drot/DRC7HOUdrR2KhveW4fhKhan8j7uzBv53I9Z7svheRWErcRETSSgEOdwE814Bv0L+Yd+xvpBE7joKRllLZKJjnhP1NHI6boQoR2O8l9I188odZWnj5ddCxC7i/FOfXYxaLfdmB/0Bg0LEhGh9bib+wDs9qFxXP1GE/sjLuhdeZN+cAXfTEJS/J1DGcBhrfiL1ljRDcsx0f5Tjsg2bcei7QBbjG/FxSvxwcS53wZgON/x5/Gx/592rmZOWPuKW8dVoW0EpH7Bj5PEjzvkmcbv0ySL0jn6Ln4hMAqy1rlJdBT0YfxJrYtRpiTO2a6PcwkUk+5zj7J3KihjK3l5wtDVT/faKHzSZyvSe770Uklp5xExFJpWmZZAHNv2ykoLeIonl5FKxuwOMrosxewpmtFThsETr2NuB5JYB9Syvl3xz5lDmLq/G8XMTKe0oI9ZVvf7GSyv12PG+7sJHMasogNZYiqhc30bXPPcEnrvIoWG2Dp8so/WodFd/KJBIO0vTMdoKR+BvW0CtrWXnEjuftCgoA7qqgfksTRavW0jjvMOUzwDpzDi7qaXsvgjvbmnQdA23b0orZaI/53E7Xjvso7fRQ/vdWQnsb8LwSwu1tGvqi7c4OWimgLC/5K9PfT9X35NNRW0fFt6yEf+ejcWsjXfObKJ/f16YEYyTT7qTC1kDl6pVY17vJowPvz+vpvcMFp5IOJbHrCnDMz6RyfSmlf66ibGEOmT0h/LuqabC5aV483HK5ZPoggQTtHfO1msR2TfR7mMiknnM8/fORj/KHqgnOqmDn3/fSemxwMpXFnAld7wn2vYiMbKq3sRQRkVi9pm2b2+TZiNs231w4Y5q3lBv7DAxgcgrLTZ3/fNz7k0bc5vuz2PI2k3f/OtPU0Ttq2aGftxoPGBY3ma4Ry/Ydt2XQZt9BT/yxn50xTU86+9prM3nzou260LetflWg15hQdCv0go2D3hf1WYtZZ4vGEt24vO89brWD3uM2ljqGiXlgO/3QYbPu/rzou6e+6TYef+K3lp1/2WGwjeUVA2PpJ4ztmw5TXttiuv5f7EGJx0hvR1NMjE6zznvG9AY9CV4HMJZ+Hu7zC6bt1QrjKswxgIEcY19RZ1pG2qW+r11j64NEhvlOjOFaTXq7Jvo9TGQM5xzb6wDG1o64+IKevuOG+xMzlsc0NhOYUN+LyEgsxhgz9emiiIjIxIX3lpJVW0Rb+zrGtZVHp5fSPTk0x824jVWIRmcuDfPaaHsyDTYSERGRq5qecRMRkSuW7aEKqsJ1NB9L4hmnGB1Hmoh8fZwLQE/5aDhSTvUKJW0iInL5KXETEZErl9XB2m0OGl/0jeMtCO3433bgWTyeZ28iBLx1WLdWDH3uTURE5DLQUkkREbnChfB+/z7alp2hLplNKibiVD1Fq6EhOM4lmiIiIklS4iYiIiIiIpLmtFRSREREREQkzSlxExERERERSXNK3ERERERERNKcEjcRufL0dOD9UQPtSRcM411iwbLEm+QOhOMtN0FD2pmiOBLqi+XpYKoDmaAeOvZW0vC7yT9zeG8pFksp3o8m/9xXmsm/Fpev32R40X6sYaRvvca9yOWjxE1ErjjhI9WUPd/D+N7cdeW4VtqZUh/5qXbX0/NlqgORpKjfROQadF2qAxARmTo23PsM7ikrJ9cy29JmzNJURyEiIlcLzbiJyIRFzvqoebiIXIsFiyWXoodr8J2Nnyfq+a/Rjrm09K7n3+tZac/FYrGQdUcJlXs7Bmadgk9byHL7gGqKLLFL9SJ0HKhhpSOfLIsFi8VCrr00ruzQpYZjq3P85fra/u8NrHX2H1NG/b/3EHx65CWPw7cz6sLvGmPOmbhewgHqR+mXYY237Kjl4q9d2R1Z0b5yVuI9G4EvQ/jWl5CfZcGSlU/Zc0F6xhHbwJKuj4OXjs3Kp2S9l47P+w46UYPlG2X4gGq7ZdglYD1vrB269KvHz1qLBcv341/8HT22kkAk0ZKxCB17KyntGy+WmUWUrvfSMbiBX4YJPLeSopn943glNQcS9O/gyxLbZnff92DmpbEROlBJyR1ZWCxZ5LvrCX4cXz76Pb4veu1j4+u/XrRTb7dgKaghGBvMqXqKLBaKfto++uxw+FJs/eN2SP+O1v4E/fbmOPtoTPWNNa7BfTDcuBvB6H0wsbJJxRd7zMwSKt8I0Tt6GDGVjaGvRSQ5RkRkAnqDHmMHY5tXbrb7WkyLb7spn2cz2Nym+cNBx9xfZZr8McdgN55gb9+ZukzTYgyFdmOf4TIe72HT4m8ynsU5BmymKhA97kJHi2ne6DBQbrYHWkxLxwVjjDHnX3YayDGuLU3mcKDFtPh2mnX32wzYTMWhC/F1LG4yXUnUOf5yl9qes9hjmvwtpnlbuXHY7MZeGHu+oRK3s69em83Y+usNNJu6RPW+XWcctkv1Xoov9poP06djKtsXy5bW8ZWLvXa+7aa8EMNdFaZiWY5xPLHTHA4cNk0bnMYGxvnq+aTb1eV1GbAbe2H/mDhsmra4TA4Y24YW02uMMX8+Y1r2VRkHmPIdLaYlcMZcMAl82GRcEDOOjDFBj7GBgXWmZaDaC+bwagyrD5sLAzG4TNOH8TGV10bH6GFvlXHaMCzcaQZa2Ntm6ubZDAP9eylu+5ZWM1LPDW1zs9m+wm6gwFT80G1y5q0zO/3D1PveTuOMGactgWaz84no9bf1tSd6/aPj2b61re+TNlNXiKGwzrQNDWlQbDZjs9mG9K/9mbZL7RpL+xP12zj7aMzXe4zHjWncDWeMfTCRsmOO78+HTYUNwwyXqRv4/7rDuJc5DHhM6zBhJNXXIpI0JW4iMgHnzc6Fg24AjTHmsxazbkaecb16xhjTZuruiiYpccf8vzNme1zZvht6XKYpFHtgq/HY4hOE6I1B7M1Dm9k+P2/ojW1vi6mKKztMAjZqneMtF227bVl82/uTuZESt8Tt7K/XaXa+l6CdG/uPjPaL7cnBN3u9puVJ29D+ijPWsoMTtyTLDbp2vb9eZwBTsDG2D8+bnfMxLGvuu05jb1f02mFcv4xvaesWW/w17bvh9wSHvSADcdhixmDb1oJo8kmBqWvvD6PFrANT7rsQE0N/4tbX7o3xt7y9/gpj+2b5wLU4/6rTYFtnDg+6S+/99TpjG9zvgyRsc19M3FVlWj+LadHLDgNu09w3ANt2OExeoce0xn+BTMuGQdfL9Jq2Z+wDY7Btq33oeBwhNufL8f0R/QeXS8ntmNs/pN/G10djrW+sx4153CUw9j4Yf9mxxtdWW2CwueP///ZZq6m6izEmbqP3tYgkT8+4icj4hdsJHAGXt4Sc2M+nOah770z0v0/V03QK1tW64o+5Lo+yH5Sz1uUl8H455TP6Pn+oFHt27IE55NwD/D5EGDu2hIEUUPHrM1QM/tiaT/49wGe9RADrcO0YV51jKHcqQNMpKBvUdmuhm7UPVY+4M9uIHirDMSPm5/52nu2rtzOI/wgUzYO2Y4G4oj3WfDjiJ/hROTlfT3Du8ZZNttyga2f96k0AOP/BHtNPOeQXAv3LIJOOzUXpPXGjjpwZRUAboY/Anqj9CeUwZ2EB4V+20r7RTgFhOoLtuNY0UxQppbUjzLq7bHAqSBMu6v82M8E5MrHNsMErHmrsdVTMyyPTCtaF2+la2H9MiOAbfrjHAe0B4lrYYyUfP/63w5TPGHZEDm2z9XpuAri/BPu0mBbl2YEOIn2bexSsbuHM6sHnspJ/RxFwgd6BL5CVgica8ByaQ/Wq+8g5FsT1y/OXvr8jKqf8oUH9Mb8MF2UcDoZxL+6dQPvH00djvd7JxjW+cTf2Ppho2dHiC9H2Zjssq8MV+/+3aXbK1zioWZU4hnij9fVIY1hEhqPETUTG76MOAsDanBH+Eo5EaMdBRc7QO47MrBygkfDHQP+N33Vw/bgDitATDtHRESL0X620vumj+Q1gcZgeGD4B+//t3U9oG2cax/HfwhZUyIICXRhBD1FJoTJZyJgWIrE9ZIIPUUggMjnUIoUgbyCrNIe1W2gjcvCqPaRyC7txCuuohRp5D8XyIViFhmgPCVahi31IsQoJGcMWJNgFB1KwYAOzBynF+hePJNuZpd8PGGPxvvPOo2dkz+OZed9+x9yu308bWlVMk6+2xh5U0JR0r59BXYxbtZWXpPdO1L+3MWRXJXU6gey3b6/9usTwYutfpRcG3Lcd+itnhkdl/KmglQcTMl9e08pXpiIfxBQ5KU2urqn2lqFyaUHVkWSXE3OfrPNZTXybUCo6pJQMhY6eUPwPYxo7binol6Sq7EVJmtSJrzrvh7Fe0TOO5LpOMb/Q2qbzEVR7VJX9w5psu6zlOwXlFwuSYvXP6NO4fKYmPk1rIZxS6fQNPTwb7LitdkEFXmp56UBQw5IWfqxIqg0Uf+85cvt+97FfAxx3rnIwaN9n7l9V1VuSdSbYVifuN0Iuo9gu1xRuQD+YnARA/57IA+uJ1dk3J3Us8KL2B4YUOZ9W9mZVvpGE4iPPb59qm893Iv90yZHjdPqq6PLru9N3kDH3Iq6+HQ4rrqIK31Wl70vKKarIYSn0RlKaK6ksWytfr8o8PqyuZcyBqDLFijbKt5W7OqrQZlGpsWN6JRTX/PqWdlPLXeJzVHnf3J341guatAJ6cX9AQ+Fxpb/Iq7ovqsRZq2Pzyr3l+vqCi3kVHww+/P59W65S9ht/vzlyO95u56XHHOxY3x74fF3vW3CtKdcAekLhBqB/B0Iak7Rit5ZvVeXffkWRK0XVfD6ZKqpstxcxjyq2pJiedcHOlf/k9eGpaW2cXVJl05Fzf1m3v7mhzDsxuf3/8G7w/TYgU3mt3G+NvSq736ttbrxkyJJUvGfvXd9BxvTSGN34hmVdkPKra1pdLap6IaKQJH/IlFVdUfluSYVbpuJHtz+B979maezda1ooPdTm/RuKVeeVWVyVZMgYkXRnTXsb4SPlp05oeiOupX9tynEeavmb27pxNanYqx2aP8jq4vmCotcXdO14QeOXsi73t6KN1mkF122tSAoZ+zVw/D3nyO14e5GXHnOwY307qcdbvG+3zaxZWV91uY3tcg2gHxRuAPpnmLKOS/m5peYTmvWicnO2AqEh+Q5bih+WpmfzzW2elJWbzUpHLJkHNJgHZWUlRU9FZWz9h/APBeVvDbjtQTRiz821xP5gSbkut1ztiIOWxo5LxetZlZqm+K6pdGVYgd+lVOw2vXi/fQcZ0629GKMrv4bfjElz85q5U5RlhuSXpIPDsoy8ch/llDdGFTncpfuTkqatIUU+bj7x9RkBBX7+KSjrrah0a0bZu82nzLW7KQ0HhpS6tRtXccsqfyHp5KiiL2/5AD0pq7BYbGlrK3tpXIUjGaUvxJT8KKPw1+O6OOumpJlR9ubWdjWV5q4pr4SssF+Dx99rjtyOtxd56SUHO9m3k6AiJ8PSxzPKb70S/FNJ85+73d52uQbQD55xAzCAoOJX0sqGxxU5ZWv6giWjtqqZ9yaVP5LWymlDkqHkZ2kthOOKnFprtClr/q9pZf8RVrqU6PmqmG9fQNKCcrOmNt+MyDpoKmlIH54b1f6rSZn+mqp3c0pfL6nmatKE3WIq+cllzVhxHavZSp8Ly18taPqDnNZcXGVsi/M1t+M+zUtKEbOszNWkTF9Vq4tZZWYrsuYTsvbtdN9BxtyLuLrY51dA0sKXWZmbEUWONk72OzDeiMqqjis7Zyh96enNdkGZp6XUZwUZ70+o6/W2X5uyRvyafG9Uo/++rPjxoPyPbBW+SGnGGNPCmXrP4JmU0n+LKPXmkMpXM0q+7lP1n3llP8mqMpJTYmTwW9XahWReMKQ/xzX6m4ySr/tVq5aU++iaSrXmGz/t2Ysa/zqs9HfJeqyHk5qeyily/qKyR5e2maQkrMr1YxpdTyvxe5/sv88oPWtrbD6nWON5KNfxd8lbrzlyO97u58V9Dna2b5ctnptWej6i+Mio7KmEwv6KCh+nNP2t2y1sn2sAfdidySoB/JJslhec9LmwE5QcGSEn+m7OWXvc3Gbj3pY2Cjrhcxlnyd46d3XrlPvPeP3xinPtrVB9jabGVPGb5ZwzcbLxmhFyrHMZZ+n+Rn1KcONyYx2nLtP6bztmv/0asd/JOIkjQUeSYxwaczJ3Vrr0b9EWZ2/jNuVFhhM6mnAyxWeO2EPf9nXceurXGkMp7ajDtPzLU/3F1bqGWvfXN52Vv4w5IUNN0+N31ljaomldMMd5+GV9+vOJb5pXqGofa8NZ+TzpxBrHwtPPwe3WMR+vOQtTCSd8UI1jxnISV287lf8+a9+6xbzspNWep/r7vaXt4zUn92608T403tPCQ2djNeOYT9cItOtT8Dcv2eDUl/8wOiz50bZvaWfZXvr5c2ocGnPShQ49XMXfLW+95cj9eO7auT/uOnCTgwH79rR/G1u22fi9vnS9dYmSdj3lGkBPfuU4jvPcqkYA+EWyNR97RfFDy3Kmws97ZwAAwP8BnnEDgN3yqKCLr0Z0cbFl8pb1khYWpViov9uYAADALw/PuAHAbvFHFB2xdeKPcdV+TGrsUP3Zk+yVlPJH0lo+yVpGAADAHW6VBIDd9KSq4qcpffjlkorfV6WDYSXentTEOzGFmFwNAAC4ROEGAAAAAB7HM24AAAAA4HEUbgAAAADgcRRuAAAAAOBxFG4AAAAA4HEUbgAAAADgcRRuAAAAAOBxFG4AAAAA4HEUbgAAAADgcRRuAAAAAOBxFG4AAAAA4HEUbgAAAADgcRRuAAAAAOBxFG4AAAAA4HEUbgAAAADgcRRuAAAAAOBxFG4AAAAA4HEUbgAAAADgcRRuAAAAAOBxFG4AAAAA4HEUbgAAAADgcRRuAAAAAOBxFG4AAAAA4HEUbgAAAADgcRRuAAAAAOBxFG4AAAAA4HEUbgAAAADgcRRuAAAAAOBxFG4AAAAA4HEUbgAAAADgcRRuAAAAAOBxFG4AAAAA4HEUbgAAAADgcRRuAAAAAOBxFG4AAAAA4HEUbgAAAADgcRRuAAAAAOBxFG4AAAAA4HH/A5VCS1aJl8yfAAAAAElFTkSuQmCC)"
      ],
      "metadata": {
        "id": "p85wzCzMxi1v"
      }
    },
    {
      "cell_type": "code",
      "source": [
        "a = torch.tensor([1,2,3], dtype=torch.float)\n",
        "b = torch.tensor([4,5,6], dtype=torch.float)\n",
        "print(torch.add(a, b).sum())"
      ],
      "metadata": {
        "colab": {
          "base_uri": "https://localhost:8080/"
        },
        "id": "XW8i-sHSxN_G",
        "outputId": "bf04044e-e55f-4a7e-b047-f4a747abab70"
      },
      "execution_count": 171,
      "outputs": [
        {
          "output_type": "stream",
          "name": "stdout",
          "text": [
            "tensor(21.)\n"
          ]
        }
      ]
    },
    {
      "cell_type": "markdown",
      "source": [
        "## Dot products\n",
        "[a b c]* [d e f] = ad + be + cf\n",
        "\n",
        "torch.dot(a, b) or a.dot(b) or b.dot(a)"
      ],
      "metadata": {
        "id": "cTjaVcgWx41T"
      }
    },
    {
      "cell_type": "code",
      "source": [
        "a = torch.tensor([1,2,3], dtype=torch.float)\n",
        "b = torch.tensor([4,5,6], dtype=torch.float)\n",
        "print(a.mul(b))"
      ],
      "metadata": {
        "colab": {
          "base_uri": "https://localhost:8080/"
        },
        "id": "Wbz4pT3jx3A9",
        "outputId": "cfe52a06-5d4b-4e79-f980-c31842af718f"
      },
      "execution_count": 172,
      "outputs": [
        {
          "output_type": "stream",
          "name": "stdout",
          "text": [
            "tensor([ 4., 10., 18.])\n"
          ]
        }
      ]
    },
    {
      "cell_type": "code",
      "source": [
        "print(a.dot(b))"
      ],
      "metadata": {
        "colab": {
          "base_uri": "https://localhost:8080/"
        },
        "id": "iDWe3padyQhg",
        "outputId": "54ee19f7-8792-4ad3-8e35-dec1e6b6b6c5"
      },
      "execution_count": 173,
      "outputs": [
        {
          "output_type": "stream",
          "name": "stdout",
          "text": [
            "tensor(32.)\n"
          ]
        }
      ]
    },
    {
      "cell_type": "markdown",
      "source": [
        "## Matrix multiplication\n",
        "\n",
        "torch.mm(a, b) or a.mm(b) or a @ b"
      ],
      "metadata": {
        "id": "assIp9MSyUfQ"
      }
    },
    {
      "cell_type": "code",
      "source": [
        "a = torch.tensor([[0,2,4],[1,3,5]], dtype=torch.float)\n",
        "b = torch.tensor([[6,7],[8,9],[10,11]], dtype=torch.float)\n",
        "\n",
        "print('a: ', a.size())\n",
        "print('b: ', b.size())\n",
        "print('a x b: ', torch.mm(a,b).size())"
      ],
      "metadata": {
        "colab": {
          "base_uri": "https://localhost:8080/"
        },
        "id": "Af5P2t9WySVD",
        "outputId": "8dad656b-0c89-4bf4-9d7b-c46f0915f777"
      },
      "execution_count": 175,
      "outputs": [
        {
          "output_type": "stream",
          "name": "stdout",
          "text": [
            "a:  torch.Size([2, 3])\n",
            "b:  torch.Size([3, 2])\n",
            "a x b:  torch.Size([2, 2])\n"
          ]
        }
      ]
    },
    {
      "cell_type": "code",
      "source": [
        "print(a.mm(b))"
      ],
      "metadata": {
        "colab": {
          "base_uri": "https://localhost:8080/"
        },
        "id": "WDRtlLepyriW",
        "outputId": "03f33956-ce7e-4d0d-aca2-be111b5784e9"
      },
      "execution_count": 176,
      "outputs": [
        {
          "output_type": "stream",
          "name": "stdout",
          "text": [
            "tensor([[56., 62.],\n",
            "        [80., 89.]])\n"
          ]
        }
      ]
    },
    {
      "cell_type": "code",
      "source": [
        "print(torch.mm(a, b))"
      ],
      "metadata": {
        "colab": {
          "base_uri": "https://localhost:8080/"
        },
        "id": "qiAX5hxey-gy",
        "outputId": "6211b864-b4aa-4b0a-c8d6-3a7d8936c0ac"
      },
      "execution_count": 177,
      "outputs": [
        {
          "output_type": "stream",
          "name": "stdout",
          "text": [
            "tensor([[56., 62.],\n",
            "        [80., 89.]])\n"
          ]
        }
      ]
    },
    {
      "cell_type": "code",
      "source": [
        "print(a @ b)"
      ],
      "metadata": {
        "colab": {
          "base_uri": "https://localhost:8080/"
        },
        "id": "DVeNiz5IzAlz",
        "outputId": "c71cbd37-5c7e-4b1f-c97b-d0782f4ebf51"
      },
      "execution_count": 178,
      "outputs": [
        {
          "output_type": "stream",
          "name": "stdout",
          "text": [
            "tensor([[56., 62.],\n",
            "        [80., 89.]])\n"
          ]
        }
      ]
    },
    {
      "cell_type": "markdown",
      "source": [
        "## Matrix multiplication with broadcasting\n",
        "\n",
        "Matrix multiplication that involves broadcasting can be computed using torch.matmul(a, b) or a.matmul(b) or a @ b"
      ],
      "metadata": {
        "id": "A318cmZTzDuf"
      }
    },
    {
      "cell_type": "code",
      "source": [
        "t1 = torch.randn(2, 3, 4)\n",
        "t2 = torch.randn(4, 5)\n",
        "\n",
        "print(torch.matmul(t1, t2).size())"
      ],
      "metadata": {
        "colab": {
          "base_uri": "https://localhost:8080/"
        },
        "id": "VBs-QYFozB9P",
        "outputId": "7afb5835-efb5-44bb-9e43-2a1227d5817e"
      },
      "execution_count": 179,
      "outputs": [
        {
          "output_type": "stream",
          "name": "stdout",
          "text": [
            "torch.Size([2, 3, 5])\n"
          ]
        }
      ]
    },
    {
      "cell_type": "code",
      "source": [
        "print(torch.matmul(t1, t2))"
      ],
      "metadata": {
        "colab": {
          "base_uri": "https://localhost:8080/"
        },
        "id": "ucV-__000UXb",
        "outputId": "b8f9db59-1b21-4349-e1db-1b06ca582cd7"
      },
      "execution_count": 181,
      "outputs": [
        {
          "output_type": "stream",
          "name": "stdout",
          "text": [
            "tensor([[[-0.2260,  0.9269,  0.8162,  1.1375, -1.2903],\n",
            "         [ 0.5151,  2.3709,  1.2993, -2.3608, -2.3100],\n",
            "         [ 2.7680,  2.3504,  2.7358, -1.2885, -6.5258]],\n",
            "\n",
            "        [[ 1.4605,  1.6850,  0.2020, -2.7228,  1.7300],\n",
            "         [ 0.2103, -2.1476, -0.1439,  2.3341, -1.9523],\n",
            "         [-0.9037, -4.8739, -0.7433,  6.6434, -2.6886]]])\n"
          ]
        }
      ]
    },
    {
      "cell_type": "code",
      "source": [
        "print(torch.mm(t1, t2).size())"
      ],
      "metadata": {
        "colab": {
          "base_uri": "https://localhost:8080/",
          "height": 165
        },
        "id": "VorKerjm0Nn-",
        "outputId": "04303372-2912-491b-a1b5-bbd3797b4e57"
      },
      "execution_count": 180,
      "outputs": [
        {
          "output_type": "error",
          "ename": "RuntimeError",
          "evalue": "ignored",
          "traceback": [
            "\u001b[0;31m---------------------------------------------------------------------------\u001b[0m",
            "\u001b[0;31mRuntimeError\u001b[0m                              Traceback (most recent call last)",
            "\u001b[0;32m<ipython-input-180-edaac219da2b>\u001b[0m in \u001b[0;36m<module>\u001b[0;34m()\u001b[0m\n\u001b[0;32m----> 1\u001b[0;31m \u001b[0mprint\u001b[0m\u001b[0;34m(\u001b[0m\u001b[0mtorch\u001b[0m\u001b[0;34m.\u001b[0m\u001b[0mmm\u001b[0m\u001b[0;34m(\u001b[0m\u001b[0mt1\u001b[0m\u001b[0;34m,\u001b[0m \u001b[0mt2\u001b[0m\u001b[0;34m)\u001b[0m\u001b[0;34m.\u001b[0m\u001b[0msize\u001b[0m\u001b[0;34m(\u001b[0m\u001b[0;34m)\u001b[0m\u001b[0;34m)\u001b[0m\u001b[0;34m\u001b[0m\u001b[0;34m\u001b[0m\u001b[0m\n\u001b[0m",
            "\u001b[0;31mRuntimeError\u001b[0m: self must be a matrix"
          ]
        }
      ]
    },
    {
      "cell_type": "markdown",
      "source": [
        "# Advanced operations\n",
        "\n",
        "L2 or Euclidian Norm"
      ],
      "metadata": {
        "id": "eVAmbhwJ0gnp"
      }
    },
    {
      "cell_type": "code",
      "source": [
        " x = torch.tensor([3, 4], dtype = float)\n"
      ],
      "metadata": {
        "id": "mpk7eNBD0RLa"
      },
      "execution_count": 183,
      "outputs": []
    },
    {
      "cell_type": "code",
      "source": [
        "x.norm()"
      ],
      "metadata": {
        "colab": {
          "base_uri": "https://localhost:8080/"
        },
        "id": "owJeJTIx0tRI",
        "outputId": "805ee8cd-93d0-41d8-f741-b25801681623"
      },
      "execution_count": 185,
      "outputs": [
        {
          "output_type": "execute_result",
          "data": {
            "text/plain": [
              "tensor(5., dtype=torch.float64)"
            ]
          },
          "metadata": {},
          "execution_count": 185
        }
      ]
    },
    {
      "cell_type": "markdown",
      "source": [
        "# Number of elements"
      ],
      "metadata": {
        "id": "e3XEn3WR081n"
      }
    },
    {
      "cell_type": "code",
      "source": [
        "x = torch.ones(3, 7)"
      ],
      "metadata": {
        "id": "MHYKP4Vw00u_"
      },
      "execution_count": 186,
      "outputs": []
    },
    {
      "cell_type": "code",
      "source": [
        "x.numel()"
      ],
      "metadata": {
        "colab": {
          "base_uri": "https://localhost:8080/"
        },
        "id": "F3NF0X4Q1Cfn",
        "outputId": "16f8f1ee-3152-4f1d-e343-16db80e034ff"
      },
      "execution_count": 187,
      "outputs": [
        {
          "output_type": "execute_result",
          "data": {
            "text/plain": [
              "21"
            ]
          },
          "metadata": {},
          "execution_count": 187
        }
      ]
    },
    {
      "cell_type": "code",
      "source": [
        "len(x)"
      ],
      "metadata": {
        "colab": {
          "base_uri": "https://localhost:8080/"
        },
        "id": "xklgmbES1Ebl",
        "outputId": "074a015a-8c51-454d-e27a-96d5e26280f0"
      },
      "execution_count": 188,
      "outputs": [
        {
          "output_type": "execute_result",
          "data": {
            "text/plain": [
              "3"
            ]
          },
          "metadata": {},
          "execution_count": 188
        }
      ]
    },
    {
      "cell_type": "code",
      "source": [
        "def mse(t1, t2):\n",
        "    diff = t1 - t2\n",
        "    return torch.sum(diff * diff) / diff.numel()"
      ],
      "metadata": {
        "id": "V2OdH2x01FWD"
      },
      "execution_count": 189,
      "outputs": []
    },
    {
      "cell_type": "code",
      "source": [
        "a = torch.tensor([1,2,3], dtype=torch.float)\n",
        "b = torch.tensor([4,5,6], dtype=torch.float)"
      ],
      "metadata": {
        "id": "3UN62MO01Ylw"
      },
      "execution_count": 192,
      "outputs": []
    },
    {
      "cell_type": "code",
      "source": [
        "mse(a, b)"
      ],
      "metadata": {
        "colab": {
          "base_uri": "https://localhost:8080/"
        },
        "id": "DSMYLRfP1QuP",
        "outputId": "b3a2036f-4f52-4758-f5c5-0c3df07d7d6e"
      },
      "execution_count": 193,
      "outputs": [
        {
          "output_type": "execute_result",
          "data": {
            "text/plain": [
              "tensor(9.)"
            ]
          },
          "metadata": {},
          "execution_count": 193
        }
      ]
    },
    {
      "cell_type": "code",
      "source": [
        ""
      ],
      "metadata": {
        "id": "xHITts891SsX"
      },
      "execution_count": null,
      "outputs": []
    }
  ]
}